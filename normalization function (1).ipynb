{
 "cells": [
  {
   "cell_type": "code",
   "execution_count": null,
   "id": "48590d3a",
   "metadata": {},
   "outputs": [],
   "source": [
    "from scipy.stats import kendalltau\n",
    "import pandas as pd\n",
    "\n",
    "def process_data(df, load_col, weather_col, alpha=0.05):\n",
    " \n",
    "    def normalize_data(df, load_col, weather_col):\n",
    "        \"\"\"\n",
    "        Normalize the load and weather data using Min-Max normalization.\n",
    "        \"\"\"\n",
    "        normalized_df = df.copy()\n",
    "        normalized_df[load_col] = (df[load_col] - df[load_col].min()) / (df[load_col].max() - df[load_col].min())\n",
    "        normalized_df[weather_col] = (df[weather_col] - df[weather_col].min()) / (df[weather_col].max() - df[weather_col].min())\n",
    "        return normalized_df\n",
    "\n",
    "    # Perform Mann-Kendall test on load and weather data\n",
    "    load_tau, load_p_value = kendalltau(df['date'], df[load_col])\n",
    "    weather_tau, weather_p_value = kendalltau(df['date'], df[weather_col])\n",
    "    \n",
    "    # Check if drift is statistically significant in either load or weather data\n",
    "    if load_p_value < alpha or weather_p_value < alpha:\n",
    "        # Normalize the data if drift is detected\n",
    "        processed_df = normalize_data(df, load_col, weather_col)\n",
    "        message = f\"Drift detected in the data.\\nLoad data: p-value = {load_p_value:.2e}\\nWeather data: p-value = {weather_p_value:.2e}\"\n",
    "    else:\n",
    "        # Return the original dataframe if no drift is detected\n",
    "        processed_df = df\n",
    "        message = \"No statistically significant drift detected in the data.\"\n",
    "    \n",
    "    return processed_df, message\n",
    "\n",
    "\n"
   ]
  }
 ],
 "metadata": {
  "kernelspec": {
   "display_name": "Python 3 (ipykernel)",
   "language": "python",
   "name": "python3"
  },
  "language_info": {
   "codemirror_mode": {
    "name": "ipython",
    "version": 3
   },
   "file_extension": ".py",
   "mimetype": "text/x-python",
   "name": "python",
   "nbconvert_exporter": "python",
   "pygments_lexer": "ipython3",
   "version": "3.9.12"
  }
 },
 "nbformat": 4,
 "nbformat_minor": 5
}
