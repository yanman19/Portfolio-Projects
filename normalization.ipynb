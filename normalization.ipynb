{
 "cells": [
  {
   "cell_type": "code",
   "execution_count": null,
   "id": "fe09ddb1",
   "metadata": {},
   "outputs": [],
   "source": [
    "from scipy.stats import zscore\n",
    "\n",
    "def normalize_data_by_year(df, year, date_col='date'):\n",
    "    \n",
    "    filtered_df = df[df[date_col].dt.year == year]\n",
    "    \n",
    "    \n",
    "    normalized_df = filtered_df.copy()\n",
    "    for col in normalized_df.columns:\n",
    "        if col != date_col:\n",
    "            normalized_df[col] = zscore(normalized_df[col])\n",
    "    \n",
    "    return normalized_df\n"
   ]
  }
 ],
 "metadata": {
  "kernelspec": {
   "display_name": "Python 3 (ipykernel)",
   "language": "python",
   "name": "python3"
  },
  "language_info": {
   "codemirror_mode": {
    "name": "ipython",
    "version": 3
   },
   "file_extension": ".py",
   "mimetype": "text/x-python",
   "name": "python",
   "nbconvert_exporter": "python",
   "pygments_lexer": "ipython3",
   "version": "3.9.12"
  }
 },
 "nbformat": 4,
 "nbformat_minor": 5
}
