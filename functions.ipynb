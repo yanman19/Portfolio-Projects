{
  "cells": [
    {
      "cell_type": "code",
      "source": [
        "import pandas as pd\n",
        "from sklearn.preprocessing import MinMaxScaler\n",
        "\n",
        "def normalize_dataset(dataframe, input_column, columns_to_normalize):\n",
        "    \"\"\"\n",
        "    This function normalizes the specified columns of a pandas DataFrame using the MinMaxScaler.\n",
        "\n",
        "    :param dataframe: A pandas DataFrame containing the data to be normalized.\n",
        "    :param input_column: The name of the column that is the input variable.\n",
        "    :param columns_to_normalize: A list of column names to be normalized.\n",
        "    :return: A pandas DataFrame with the normalized columns.\n",
        "    \"\"\"\n",
        "    # Create a copy of the dataframe to avoid modifying the original one\n",
        "    df_normalized = dataframe.copy()\n",
        "    \n",
        "    # Initialize the MinMaxScaler\n",
        "    scaler = MinMaxScaler()\n",
        "\n",
        "    # Normalize only the specified columns\n",
        "    df_normalized[columns_to_normalize] = scaler.fit_transform(df_normalized[columns_to_normalize])\n",
        "\n",
        "    # Make sure the input variable is included in the columns to normalize\n",
        "    if input_column not in columns_to_normalize:\n",
        "        raise ValueError(f\"The input variable '{input_column}' must be included in the columns to normalize.\")\n",
        "\n",
        "    # Check for funky data (infinite or NaN values post-normalization)\n",
        "    if df_normalized[columns_to_normalize].isnull().values.any() or np.isinf(df_normalized[columns_to_normalize]).values.any():\n",
        "        raise ValueError(\"Normalization resulted in NaN or infinite values.\")\n",
        "\n",
        "    return df_normalized\n",
        "\n",
        "# Example usage:\n",
        "# Assuming `df` is a pandas DataFrame that has been loaded with time series data relevant to power markets,\n",
        "# and 'weather' is the column we wish to normalize, along with other related columns like 'temperature', 'humidity'.\n",
        "# df_normalized = normalize_dataset(df, 'weather', ['weather', 'temperature', 'humidity'])\n"
      ],
      "outputs": [],
      "execution_count": null,
      "metadata": {},
      "id": "c72c14b3"
    },
    {
      "cell_type": "code",
      "source": [
        "from sklearn.linear_model import LinearRegression\n",
        "from sklearn.metrics import r2_score\n",
        "\n",
        "def linear_regression_analysis(dataframe, input_variable, variables_list):\n",
        "    \"\"\"\n",
        "    This function performs linear regression on a given input variable against a list of other variables\n",
        "    and returns the R2 score for each variable combination.\n",
        "\n",
        "    :param dataframe: A pandas DataFrame containing the time series data.\n",
        "    :param input_variable: The name of the input variable column.\n",
        "    :param variables_list: A list of names of other variable columns to run regressions against.\n",
        "    :return: A pandas DataFrame with the R2 values for each variable combination.\n",
        "    \"\"\"\n",
        "    # Results dictionary to hold variable names and their corresponding R2 scores\n",
        "    results = {'Variable': [], 'R2 Score': []}\n",
        "\n",
        "    # Iterate over the list of variables to run regressions\n",
        "    for variable in variables_list:\n",
        "        if variable != input_variable:\n",
        "            # Prepare the feature and target arrays for regression\n",
        "            X = dataframe[[variable]].values\n",
        "            y = dataframe[input_variable].values\n",
        "\n",
        "            # Initialize and fit the linear regression model\n",
        "            model = LinearRegression()\n",
        "            model.fit(X, y)\n",
        "\n",
        "            # Predict and calculate R2 score\n",
        "            y_pred = model.predict(X)\n",
        "            score = r2_score(y, y_pred)\n",
        "\n",
        "            # Append results\n",
        "            results['Variable'].append(variable)\n",
        "            results['R2 Score'].append(score)\n",
        "\n",
        "    # Convert results dictionary to a pandas DataFrame\n",
        "    results_df = pd.DataFrame(results)\n",
        "    return results_df\n",
        "\n",
        "# Example usage:\n",
        "# Assuming `df` is a pandas DataFrame that has been loaded with time series data,\n",
        "# 'weather' is the input variable, and other variables like 'temperature', 'humidity', 'wind_speed' are to be analyzed.\n",
        "# r2_results = linear_regression_analysis(df, 'weather', ['weather', 'temperature', 'humidity', 'wind_speed'])\n"
      ],
      "outputs": [],
      "execution_count": null,
      "metadata": {
        "jupyter": {
          "source_hidden": false,
          "outputs_hidden": false
        },
        "noteable": {
          "cell_type": "code"
        }
      },
      "id": "ff4de33a-9554-45b9-9e57-aa7596df2259"
    },
    {
      "cell_type": "code",
      "source": [
        "import plotly.express as px\n",
        "from sklearn.linear_model import LinearRegression\n",
        "import numpy as np\n",
        "\n",
        "def create_interactive_scatter_with_regression(dataframe, column1, column2):\n",
        "    \"\"\"\n",
        "    This function creates an interactive scatter plot with a regression line for two columns in a DataFrame,\n",
        "    with a different color for each year. It also displays the slope of the regression line and the R^2 value.\n",
        "\n",
        "    :param dataframe: A pandas DataFrame containing the data to plot.\n",
        "    :param column1: The name of the first column to plot.\n",
        "    :param column2: The name of the second column to plot.\n",
        "    \"\"\"\n",
        "    # Check if 'Year' column exists\n",
        "    if 'Year' not in dataframe.columns:\n",
        "        raise ValueError(\"DataFrame must contain a 'Year' column for coloring.\")\n",
        "\n",
        "    # Fit a linear regression model\n",
        "    model = LinearRegression()\n",
        "    X = dataframe[[column1]]\n",
        "    y = dataframe[column2]\n",
        "    model.fit(X, y)\n",
        "    dataframe['Regression Line'] = model.predict(X)\n",
        "\n",
        "    # Calculate R^2 score\n",
        "    r2 = model.score(X, y)\n",
        "    slope = model.coef_[0]\n",
        "\n",
        "    # Create the scatter plot\n",
        "    fig = px.scatter(dataframe, x=column1, y=column2, color='Year', trendline=\"ols\",\n",
        "                     trendline_color_override='black', labels={'Regression Line': f'Slope: {slope:.2f}, R²: {r2:.2f}'})\n",
        "\n",
        "    # Show the plot in its own window\n",
        "    fig.show()\n",
        "\n",
        "# Example usage:\n",
        "# Assuming `df` is a pandas DataFrame that contains 'Year', 'column1', and 'column2' columns,\n",
        "# create_interactive_scatter_with_regression(df, 'column1', 'column2')\n",
        "\n"
      ],
      "outputs": [],
      "execution_count": null,
      "metadata": {
        "jupyter": {
          "source_hidden": false,
          "outputs_hidden": false
        },
        "noteable": {
          "cell_type": "code"
        }
      },
      "id": "7f9fd200-0184-455d-b19a-01e5a39e003d"
    },
    {
      "cell_type": "code",
      "source": [
        "from prophet import Prophet\n",
        "from prophet.plot import plot_plotly, plot_components_plotly\n",
        "from sklearn.metrics import mean_absolute_error, mean_squared_error\n",
        "import numpy as np\n",
        "import pandas as pd\n",
        "\n",
        "def prophet_forecast_and_evaluate(dataframe, col1, periods, frequency):\n",
        "    \"\"\"\n",
        "    This function fits a Prophet model to the specified column of a DataFrame and makes future predictions.\n",
        "\n",
        "    :param dataframe: A pandas DataFrame with a datetime index.\n",
        "    :param col1: The name of the column to forecast.\n",
        "    :param periods: The number of periods to forecast into the future.\n",
        "    :param frequency: The frequency of the time series data (e.g., 'D' for daily, 'M' for monthly).\n",
        "    :return: A tuple containing the forecast DataFrame, error metrics, and the figure of the forecast.\n",
        "    \"\"\"\n",
        "    # Prepare the data for Prophet\n",
        "    df_prophet = dataframe.reset_index()\n",
        "    df_prophet = df_prophet.rename(columns={'index': 'ds', col1: 'y'})\n",
        "\n",
        "    # Fit the Prophet model\n",
        "    model = Prophet()\n",
        "    model.fit(df_prophet)\n",
        "\n",
        "    # Create a DataFrame to hold future dates\n",
        "    future = model.make_future_dataframe(periods=periods, freq=frequency)\n",
        "\n",
        "    # Predict future values\n",
        "    forecast = model.predict(future)\n",
        "\n",
        "    # Calculate error metrics on the historical data\n",
        "    y_true = df_prophet['y']\n",
        "    y_pred = forecast['yhat'][:len(y_true)]\n",
        "    mae = mean_absolute_error(y_true, y_pred)\n",
        "    rmse = np.sqrt(mean_squared_error(y_true, y_pred))\n",
        "    mape = np.mean(np.abs((y_true - y_pred) / y_true)) * 100\n",
        "\n",
        "    # Plot the forecast\n",
        "    fig_forecast = plot_plotly(model, forecast)\n",
        "    fig_components = plot_components_plotly(model, forecast)\n",
        "\n",
        "    # Show the plots\n",
        "    fig_forecast.show()\n",
        "    fig_components.show()\n",
        "\n",
        "    # Return the forecast, error metrics, and the figure object for further manipulation if needed\n",
        "    return forecast[['ds', 'yhat', 'yhat_lower', 'yhat_upper']], (mae, rmse, mape), (fig_forecast, fig_components)\n",
        "\n",
        "# Example usage:\n",
        "# Assuming `df` is a pandas DataFrame with a datetime index and 'col1' as the target column,\n",
        "# predictions, errors, figures = prophet_forecast_and_evaluate(df, 'col1', 365, 'D')\n"
      ],
      "outputs": [],
      "execution_count": null,
      "metadata": {
        "jupyter": {
          "source_hidden": false,
          "outputs_hidden": false
        },
        "noteable": {
          "cell_type": "code"
        }
      },
      "id": "1ccbd2b3-ac8e-49d6-9df9-8747ee4b5e14"
    },
    {
      "cell_type": "code",
      "source": [],
      "outputs": [],
      "execution_count": null,
      "metadata": {
        "jupyter": {
          "source_hidden": false,
          "outputs_hidden": false
        },
        "noteable": {
          "cell_type": "code"
        }
      },
      "id": "14df3ee5-10c7-41b3-be2a-9413aab5acca"
    }
  ],
  "metadata": {
    "kernel_info": {
      "name": "python3.9-noteable"
    },
    "noteable": {
      "last_delta_id": "3fc03cd1-57ae-4f87-ae5d-1a236182cb5b"
    },
    "kernelspec": {
      "display_name": "Python 3.9 (Noteable)",
      "identifier": "noteable",
      "language": "python",
      "language_version": "3.9",
      "name": "python3.9-noteable"
    },
    "selected_hardware_size": "small",
    "nteract": {
      "version": "noteable@2.9.0"
    }
  },
  "nbformat": 4,
  "nbformat_minor": 5
}