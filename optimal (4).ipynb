{
 "cells": [
  {
   "cell_type": "code",
   "execution_count": null,
   "id": "f095dc19",
   "metadata": {},
   "outputs": [],
   "source": [
    "import pandas as pd\n",
    "import numpy as np\n",
    "\n",
    "def calculate_optimal_pnl(df, heat_rate=10, mw=250, min_run_hours=3, min_down_hours=6):\n",
    "    df['potential_pnl'] = (df['power_price'] - (df['gas_price'] * heat_rate)) * mw\n",
    "    df['run_decision'] = False  # Indicates if the plant is running at a given hour\n",
    "    df['pnl'] = 0.0  # Initialize PnL to 0\n",
    "\n",
    "    n = len(df)\n",
    "\n",
    "    def can_run(start_idx):\n",
    "        \"\"\"Determine if it's profitable to run starting from start_idx considering min run time.\"\"\"\n",
    "        if start_idx + min_run_hours > n:  # Not enough hours left to meet min run time\n",
    "            return False, 0\n",
    "        total_pnl = sum(df.iloc[start_idx:start_idx+min_run_hours]['potential_pnl'])\n",
    "        return total_pnl > 0, total_pnl\n",
    "\n",
    "    i = 0\n",
    "    while i < n:\n",
    "        profitable, total_pnl = can_run(i)\n",
    "        if profitable:\n",
    "            # Extend run time beyond min_run_hours as long as it's profitable\n",
    "            extended_hours = 0\n",
    "            for j in range(i + min_run_hours, min(i + min_run_hours + min_down_hours, n)):\n",
    "                additional_pnl = df.iloc[j]['potential_pnl']\n",
    "                if total_pnl + additional_pnl > total_pnl:\n",
    "                    total_pnl += additional_pnl\n",
    "                    extended_hours += 1\n",
    "                else:\n",
    "                    break\n",
    "            \n",
    "            run_hours = min_run_hours + extended_hours\n",
    "            df.iloc[i:i+run_hours, df.columns.get_loc('run_decision')] = True\n",
    "            df.iloc[i:i+run_hours, df.columns.get_loc('pnl')] = df.iloc[i:i+run_hours]['potential_pnl']\n",
    "            i += run_hours + min_down_hours  # Skip the downtime after running\n",
    "        else:\n",
    "            i += 1\n",
    "\n",
    "    return df\n",
    "\n",
    "# Example DataFrame for demonstration\n",
    "data = {\n",
    "    'time': pd.date_range(start='2022-01-01', periods=24, freq='H'),\n",
    "    'power_price': np.random.uniform(50, 150, 24),  # Simulated power prices\n",
    "    'gas_price': np.random.uniform(3, 10, 24),      # Simulated gas prices\n",
    "}\n",
    "df = pd.DataFrame(data)\n",
    "df.set_index('time', inplace=True)\n",
    "\n",
    "# Call the function\n",
    "optimized_df = calculate_optimal_pnl(df)\n",
    "\n",
    "# Display the optimized DataFrame\n",
    "print(optimized_df[['power_price', 'gas_price', 'potential_pnl', 'run_decision', 'pnl']])\n"
   ]
  }
 ],
 "metadata": {
  "kernelspec": {
   "display_name": "Python 3 (ipykernel)",
   "language": "python",
   "name": "python3"
  },
  "language_info": {
   "codemirror_mode": {
    "name": "ipython",
    "version": 3
   },
   "file_extension": ".py",
   "mimetype": "text/x-python",
   "name": "python",
   "nbconvert_exporter": "python",
   "pygments_lexer": "ipython3",
   "version": "3.9.12"
  }
 },
 "nbformat": 4,
 "nbformat_minor": 5
}
