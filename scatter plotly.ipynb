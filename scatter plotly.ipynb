{
 "cells": [
  {
   "cell_type": "code",
   "execution_count": null,
   "id": "483dc1a6",
   "metadata": {},
   "outputs": [],
   "source": [
    "import pandas as pd\n",
    "import plotly.express as px\n",
    "from sklearn.linear_model import LinearRegression\n",
    "from sklearn.metrics import r2_score\n",
    "import numpy as np\n",
    "\n",
    "def plot_with_regression(df, col1, col2, months_list):\n",
    "    # Converting date string to datetime\n",
    "    df['Date'] = pd.to_datetime(df['Date'], format='%m/%Y')\n",
    "\n",
    "    # Extracting month and year for filtering\n",
    "    df['Month_Year'] = df['Date'].dt.strftime('%m/%Y')\n",
    "\n",
    "    # Regression\n",
    "    X = df[col1].values.reshape(-1, 1)\n",
    "    y = df[col2].values\n",
    "    model = LinearRegression().fit(X, y)\n",
    "    df['Regression'] = model.predict(X)\n",
    "\n",
    "    # Calculating R² and slope\n",
    "    r2 = r2_score(y, model.predict(X))\n",
    "    slope = model.coef_[0]\n",
    "\n",
    "    # Scatter plot\n",
    "    fig = px.scatter(df, x=col1, y=col2, color=np.where(df['Month_Year'].isin(months_list), 'Special Months', 'Normal'),\n",
    "                     hover_data={'Date': df['Date'].dt.strftime('%m/%Y')})\n",
    "\n",
    "    # Add regression line\n",
    "    fig.add_traces(px.line(df, x=col1, y='Regression', template='plotly_dark').data)\n",
    "    fig.data[-1].update(name='Regression', hovertemplate=f'R²: {r2:.2f}<br>Slope: {slope:.2f}')\n",
    "\n",
    "    # Update layout\n",
    "    fig.update_traces(marker=dict(size=7, line=dict(width=1, color='DarkSlateGrey')),\n",
    "                      selector=dict(mode='markers'))\n",
    "\n",
    "    return fig\n",
    "\n",
    "# Example usage\n",
    "# df = pd.read_csv('your_data.csv')\n",
    "# months_list = ['01/2020', '02/2020', '03/2020']\n",
    "# fig = plot_with_regression(df, 'col1', 'col2', months_list)\n",
    "# fig.show()\n"
   ]
  }
 ],
 "metadata": {
  "kernelspec": {
   "display_name": "Python 3 (ipykernel)",
   "language": "python",
   "name": "python3"
  },
  "language_info": {
   "codemirror_mode": {
    "name": "ipython",
    "version": 3
   },
   "file_extension": ".py",
   "mimetype": "text/x-python",
   "name": "python",
   "nbconvert_exporter": "python",
   "pygments_lexer": "ipython3",
   "version": "3.9.12"
  }
 },
 "nbformat": 4,
 "nbformat_minor": 5
}
