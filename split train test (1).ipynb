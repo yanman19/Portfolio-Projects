{
 "cells": [
  {
   "cell_type": "code",
   "execution_count": null,
   "id": "867ce92b",
   "metadata": {},
   "outputs": [],
   "source": [
    "import pandas as pd\n",
    "\n",
    "def split_train_test(df, target_column):\n",
    "    \"\"\"\n",
    "    Splits the dataframe into training and test sets based on the presence of non-null values in the target column.\n",
    "\n",
    "    Parameters:\n",
    "    - df: The original dataframe.\n",
    "    - target_column: The name of the target column.\n",
    "\n",
    "    Returns:\n",
    "    - train_df: Dataframe containing rows where target_column has non-null values.\n",
    "    - test_df: Dataframe containing rows where target_column is null.\n",
    "    \"\"\"\n",
    "    # Create the train dataframe with non-null values in the target column\n",
    "    train_df = df[df[target_column].notnull()]\n",
    "    \n",
    "    # Create the test dataframe with null values in the target column\n",
    "    test_df = df[df[target_column].isnull()]\n",
    "    \n",
    "    return train_df, test_df\n",
    "\n",
    "# Example usage:\n",
    "# Assuming 'dataframe' is your original dataframe and 'target_col' is the name of your target column\n",
    "# train_df, test_df = split_train_test(dataframe, 'target_col')\n"
   ]
  },
  {
   "cell_type": "code",
   "execution_count": null,
   "id": "2dd2bfa5",
   "metadata": {},
   "outputs": [],
   "source": [
    "def adjust_predictions_to_target_average(predictions, date_column, target_prediction_column, date, target_average_load):\n",
    "    predictions['date'] = pd.to_datetime(predictions[date_column]).dt.date\n",
    "    given_day_predictions = predictions[predictions['date'] == pd.to_datetime(date).date()]\n",
    "    current_average = given_day_predictions[target_prediction_column].mean()\n",
    "    \n",
    "    # Check if there are any predictions for the given day to avoid zero division\n",
    "    if len(given_day_predictions) == 0:\n",
    "        print(f\"No predictions to adjust for {date}.\")\n",
    "        return predictions, 0\n",
    "    \n",
    "    total_adjustment_needed = target_average_load - current_average\n",
    "    adjustment_per_prediction = total_adjustment_needed / len(given_day_predictions) if len(given_day_predictions) > 0 else 0\n",
    "    \n",
    "    adjusted_predictions = predictions.copy()\n",
    "    adjusted_predictions.loc[adjusted_predictions['date'] == pd.to_datetime(date).date(), target_prediction_column] += adjustment_per_prediction\n",
    "    \n",
    "    return adjusted_predictions, adjustment_per_prediction\n"
   ]
  }
 ],
 "metadata": {
  "kernelspec": {
   "display_name": "Python 3 (ipykernel)",
   "language": "python",
   "name": "python3"
  },
  "language_info": {
   "codemirror_mode": {
    "name": "ipython",
    "version": 3
   },
   "file_extension": ".py",
   "mimetype": "text/x-python",
   "name": "python",
   "nbconvert_exporter": "python",
   "pygments_lexer": "ipython3",
   "version": "3.9.12"
  }
 },
 "nbformat": 4,
 "nbformat_minor": 5
}
