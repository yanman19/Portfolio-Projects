{
  "cells": [
    {
      "cell_type": "code",
      "source": [
        "!pip install -q yfinance"
      ],
      "outputs": [
        {
          "output_type": "stream",
          "name": "stdout",
          "text": [
            "\u001b[31mERROR: pip's dependency resolver does not currently take into account all the packages that are installed. This behaviour is the source of the following dependency conflicts.\r\n",
            "snowflake-connector-python 3.0.3 requires cryptography<41.0.0,>=3.1.0, but you have cryptography 41.0.2 which is incompatible.\r\n",
            "pyiceberg 0.3.0 requires requests==2.28.2, but you have requests 2.31.0 which is incompatible.\r\n",
            "flytekit 1.2.11 requires protobuf<4,>=3.6.1, but you have protobuf 4.21.7 which is incompatible.\r\n",
            "dagster 1.0.15 requires protobuf<4,>=3.13.0, but you have protobuf 4.21.7 which is incompatible.\u001b[0m\u001b[31m\r\n",
            "\u001b[0m"
          ]
        }
      ],
      "execution_count": null,
      "metadata": {
        "noteable": {
          "cell_type": "code"
        },
        "ExecuteTime": {
          "end_time": "2023-08-04T22:08:15.228012+00:00",
          "start_time": "2023-08-04T22:08:09.190932+00:00"
        }
      },
      "id": "a019b924-2b09-4c80-9c05-48b3c7b9a257"
    },
    {
      "cell_type": "code",
      "source": [
        "import yfinance as yf\n",
        "import pandas as pd\n",
        "from datetime import datetime, timedelta\n",
        "\n",
        "# Define the tickers of the portfolio components\n",
        "tickers = ['DBC', 'GLD', 'IEF', 'TLT', 'VTI']\n",
        "\n",
        "# Define the weights of the portfolio components\n",
        "weights = [1800, 1874, 3750, 10000, 7500]\n",
        "total_investment = sum(weights)\n",
        "weights = [w / total_investment for w in weights]\n",
        "\n",
        "# Define the start and end dates\n",
        "end_date = datetime.now()\n",
        "start_date = end_date - timedelta(days=5*365)\n",
        "\n",
        "# Fetch the historical price data\n",
        "data = yf.download(tickers, start=start_date, end=end_date)\n",
        "\n",
        "# Use only the adjusted close prices\n",
        "prices = data['Adj Close']\n",
        "prices.head()"
      ],
      "outputs": [
        {
          "output_type": "stream",
          "name": "stdout",
          "text": [
            "\r[                       0%                       ]"
          ]
        },
        {
          "output_type": "stream",
          "name": "stdout",
          "text": [
            "\r[*******************   40%                       ]  2 of 5 completed"
          ]
        },
        {
          "output_type": "stream",
          "name": "stdout",
          "text": [
            "\r[**********************60%****                   ]  3 of 5 completed"
          ]
        },
        {
          "output_type": "stream",
          "name": "stdout",
          "text": [
            "\r[**********************80%*************          ]  4 of 5 completed"
          ]
        },
        {
          "output_type": "stream",
          "name": "stdout",
          "text": [
            "\r[*********************100%***********************]  5 of 5 completed"
          ]
        },
        {
          "output_type": "stream",
          "name": "stdout",
          "text": [
            "\n"
          ]
        },
        {
          "output_type": "display_data",
          "data": {
            "application/vnd.dataresource+json": {
              "schema": {
                "fields": [
                  {
                    "name": "Date",
                    "type": "datetime"
                  },
                  {
                    "name": "DBC",
                    "type": "number"
                  },
                  {
                    "name": "GLD",
                    "type": "number"
                  },
                  {
                    "name": "IEF",
                    "type": "number"
                  },
                  {
                    "name": "TLT",
                    "type": "number"
                  },
                  {
                    "name": "VTI",
                    "type": "number"
                  }
                ],
                "primaryKey": [
                  "Date"
                ],
                "pandas_version": "1.4.0"
              },
              "data": [
                {
                  "Date": "2018-08-06T00:00:00Z",
                  "DBC": 16.60179328918457,
                  "GLD": 114.33000183105469,
                  "IEF": 93.4884033203125,
                  "TLT": 107.25598907470703,
                  "VTI": 135.03363037109375
                },
                {
                  "Date": "2018-08-07T00:00:00Z",
                  "DBC": 16.727344512939453,
                  "GLD": 114.58999633789062,
                  "IEF": 93.2955093383789,
                  "TLT": 106.69853973388672,
                  "VTI": 135.4747772216797
                },
                {
                  "Date": "2018-08-08T00:00:00Z",
                  "DBC": 16.5245304107666,
                  "GLD": 114.91000366210938,
                  "IEF": 93.37815856933594,
                  "TLT": 106.80640411376953,
                  "VTI": 135.34613037109375
                },
                {
                  "Date": "2018-08-09T00:00:00Z",
                  "DBC": 16.456926345825195,
                  "GLD": 114.73999786376953,
                  "IEF": 93.63539123535156,
                  "TLT": 107.7055435180664,
                  "VTI": 135.2542266845703
                },
                {
                  "Date": "2018-08-10T00:00:00Z",
                  "DBC": 16.456926345825195,
                  "GLD": 114.69000244140625,
                  "IEF": 94.03956604003906,
                  "TLT": 108.48774719238281,
                  "VTI": 134.40870666503906
                }
              ],
              "datalink": {
                "display_id": "a26dffb2-1203-4a8f-87c4-3ee437950bf9"
              }
            }
          },
          "metadata": {
            "application/vnd.dataresource+json": {
              "datalink": {
                "dataframe_info": {
                  "default_index_used": false,
                  "orig_size_bytes": 240,
                  "orig_num_rows": 5,
                  "orig_num_cols": 5,
                  "truncated_string_columns": [],
                  "truncated_size_bytes": 240,
                  "truncated_num_rows": 5,
                  "truncated_num_cols": 5
                },
                "dx_settings": {
                  "NUM_PAST_SAMPLES_TRACKED": 3,
                  "ENABLE_DATALINK": true,
                  "DISPLAY_MODE": "simple",
                  "GENERATE_DEX_METADATA": false,
                  "STRINGIFY_INDEX_VALUES": false,
                  "ALLOW_NOTEABLE_ATTRS": true,
                  "DISPLAY_MAX_COLUMNS": 100,
                  "HTML_TABLE_SCHEMA": false,
                  "SAMPLING_FACTOR": 0.1,
                  "LOG_LEVEL": 30,
                  "ENABLE_ASSIGNMENT": true,
                  "FLATTEN_INDEX_VALUES": false,
                  "DEV_MODE": false,
                  "COLUMN_SAMPLING_METHOD": "outer",
                  "FLATTEN_COLUMN_VALUES": true,
                  "DISPLAY_MAX_ROWS": 50000,
                  "ROW_SAMPLING_METHOD": "random",
                  "RANDOM_STATE": 12648430,
                  "DB_LOCATION": ":memory:",
                  "STRINGIFY_COLUMN_VALUES": true,
                  "SAMPLING_METHOD": "random",
                  "MAX_STRING_LENGTH": 250,
                  "MAX_RENDER_SIZE_BYTES": 104857600,
                  "RESET_INDEX_VALUES": false
                },
                "display_id": "a26dffb2-1203-4a8f-87c4-3ee437950bf9",
                "applied_filters": [],
                "sample_history": [],
                "sampling_time": "2023-08-04T22:08:39.854376",
                "variable_name": "unk_dataframe_b6ba9d3d55b04d66830685415fe8611b",
                "user_variable_name": null
              },
              "display_id": "a26dffb2-1203-4a8f-87c4-3ee437950bf9"
            }
          }
        }
      ],
      "execution_count": null,
      "metadata": {
        "noteable": {
          "cell_type": "code"
        },
        "ExecuteTime": {
          "end_time": "2023-08-04T22:08:40.018133+00:00",
          "start_time": "2023-08-04T22:08:39.135158+00:00"
        },
        "datalink": {
          "a26dffb2-1203-4a8f-87c4-3ee437950bf9": {
            "applied_filters": [],
            "dataframe_info": {
              "default_index_used": false,
              "orig_num_cols": 5,
              "orig_num_rows": 5,
              "orig_size_bytes": 240,
              "truncated_num_cols": 5,
              "truncated_num_rows": 5,
              "truncated_size_bytes": 240,
              "truncated_string_columns": []
            },
            "display_id": "a26dffb2-1203-4a8f-87c4-3ee437950bf9",
            "dx_settings": {
              "ALLOW_NOTEABLE_ATTRS": true,
              "COLUMN_SAMPLING_METHOD": "outer",
              "DB_LOCATION": ":memory:",
              "DEV_MODE": false,
              "DISPLAY_MAX_COLUMNS": 100,
              "DISPLAY_MAX_ROWS": 50000,
              "DISPLAY_MODE": "simple",
              "ENABLE_ASSIGNMENT": true,
              "ENABLE_DATALINK": true,
              "FLATTEN_COLUMN_VALUES": true,
              "FLATTEN_INDEX_VALUES": false,
              "GENERATE_DEX_METADATA": false,
              "HTML_TABLE_SCHEMA": false,
              "LOG_LEVEL": 30,
              "MAX_RENDER_SIZE_BYTES": 104857600,
              "MAX_STRING_LENGTH": 250,
              "NUM_PAST_SAMPLES_TRACKED": 3,
              "RANDOM_STATE": 12648430,
              "RESET_INDEX_VALUES": false,
              "ROW_SAMPLING_METHOD": "random",
              "SAMPLING_FACTOR": 0.1,
              "SAMPLING_METHOD": "random",
              "STRINGIFY_COLUMN_VALUES": true,
              "STRINGIFY_INDEX_VALUES": false
            },
            "sample_history": [],
            "sampling_time": "2023-08-04T22:08:39.854376",
            "user_variable_name": null,
            "variable_name": "unk_dataframe_b6ba9d3d55b04d66830685415fe8611b"
          }
        }
      },
      "id": "cb96a76b-cb24-4294-9432-09934e45dd19"
    },
    {
      "cell_type": "code",
      "source": [
        "# Calculate the daily returns for each component\n",
        "returns = prices.pct_change()\n",
        "\n",
        "# Calculate the portfolio return for each day\n",
        "portfolio_returns = returns.dot(weights)\n",
        "\n",
        "# Display the first few rows of the portfolio returns\n",
        "portfolio_returns.head()"
      ],
      "outputs": [
        {
          "output_type": "display_data",
          "data": {
            "application/vnd.dataresource+json": {
              "schema": {
                "fields": [
                  {
                    "name": "Date",
                    "type": "datetime"
                  },
                  {
                    "name": "0",
                    "type": "number"
                  }
                ],
                "primaryKey": [
                  "Date"
                ],
                "pandas_version": "1.4.0"
              },
              "data": [
                {
                  "0": null,
                  "Date": "2018-08-06T00:00:00Z"
                },
                {
                  "0": -0.0006955101459310011,
                  "Date": "2018-08-07T00:00:00Z"
                },
                {
                  "0": -0.00041252374775036877,
                  "Date": "2018-08-08T00:00:00Z"
                },
                {
                  "0": 0.003181072283211104,
                  "Date": "2018-08-09T00:00:00Z"
                },
                {
                  "0": 0.001649392409989884,
                  "Date": "2018-08-10T00:00:00Z"
                }
              ],
              "datalink": {
                "display_id": "b64307d0-5322-443a-a104-bc70ef65ea9a"
              }
            }
          },
          "metadata": {
            "application/vnd.dataresource+json": {
              "datalink": {
                "dataframe_info": {
                  "default_index_used": false,
                  "orig_size_bytes": 80,
                  "orig_num_rows": 5,
                  "orig_num_cols": 1,
                  "truncated_string_columns": [],
                  "truncated_size_bytes": 80,
                  "truncated_num_rows": 5,
                  "truncated_num_cols": 1
                },
                "dx_settings": {
                  "NUM_PAST_SAMPLES_TRACKED": 3,
                  "ENABLE_DATALINK": true,
                  "DISPLAY_MODE": "simple",
                  "GENERATE_DEX_METADATA": false,
                  "STRINGIFY_INDEX_VALUES": false,
                  "ALLOW_NOTEABLE_ATTRS": true,
                  "DISPLAY_MAX_COLUMNS": 100,
                  "HTML_TABLE_SCHEMA": false,
                  "SAMPLING_FACTOR": 0.1,
                  "LOG_LEVEL": 30,
                  "ENABLE_ASSIGNMENT": true,
                  "FLATTEN_INDEX_VALUES": false,
                  "DEV_MODE": false,
                  "COLUMN_SAMPLING_METHOD": "outer",
                  "FLATTEN_COLUMN_VALUES": true,
                  "DISPLAY_MAX_ROWS": 50000,
                  "ROW_SAMPLING_METHOD": "random",
                  "RANDOM_STATE": 12648430,
                  "DB_LOCATION": ":memory:",
                  "STRINGIFY_COLUMN_VALUES": true,
                  "SAMPLING_METHOD": "random",
                  "MAX_STRING_LENGTH": 250,
                  "MAX_RENDER_SIZE_BYTES": 104857600,
                  "RESET_INDEX_VALUES": false
                },
                "display_id": "b64307d0-5322-443a-a104-bc70ef65ea9a",
                "applied_filters": [],
                "sample_history": [],
                "sampling_time": "2023-08-04T22:08:55.065463",
                "variable_name": "unk_dataframe_86b6511668354376a4aa0b58c4a3aef3",
                "user_variable_name": null
              },
              "display_id": "b64307d0-5322-443a-a104-bc70ef65ea9a"
            }
          }
        }
      ],
      "execution_count": null,
      "metadata": {
        "noteable": {
          "cell_type": "code"
        },
        "ExecuteTime": {
          "end_time": "2023-08-04T22:08:55.221620+00:00",
          "start_time": "2023-08-04T22:08:55.030299+00:00"
        },
        "datalink": {
          "b64307d0-5322-443a-a104-bc70ef65ea9a": {
            "applied_filters": [],
            "dataframe_info": {
              "default_index_used": false,
              "orig_num_cols": 1,
              "orig_num_rows": 5,
              "orig_size_bytes": 80,
              "truncated_num_cols": 1,
              "truncated_num_rows": 5,
              "truncated_size_bytes": 80,
              "truncated_string_columns": []
            },
            "display_id": "b64307d0-5322-443a-a104-bc70ef65ea9a",
            "dx_settings": {
              "ALLOW_NOTEABLE_ATTRS": true,
              "COLUMN_SAMPLING_METHOD": "outer",
              "DB_LOCATION": ":memory:",
              "DEV_MODE": false,
              "DISPLAY_MAX_COLUMNS": 100,
              "DISPLAY_MAX_ROWS": 50000,
              "DISPLAY_MODE": "simple",
              "ENABLE_ASSIGNMENT": true,
              "ENABLE_DATALINK": true,
              "FLATTEN_COLUMN_VALUES": true,
              "FLATTEN_INDEX_VALUES": false,
              "GENERATE_DEX_METADATA": false,
              "HTML_TABLE_SCHEMA": false,
              "LOG_LEVEL": 30,
              "MAX_RENDER_SIZE_BYTES": 104857600,
              "MAX_STRING_LENGTH": 250,
              "NUM_PAST_SAMPLES_TRACKED": 3,
              "RANDOM_STATE": 12648430,
              "RESET_INDEX_VALUES": false,
              "ROW_SAMPLING_METHOD": "random",
              "SAMPLING_FACTOR": 0.1,
              "SAMPLING_METHOD": "random",
              "STRINGIFY_COLUMN_VALUES": true,
              "STRINGIFY_INDEX_VALUES": false
            },
            "sample_history": [],
            "sampling_time": "2023-08-04T22:08:55.065463",
            "user_variable_name": null,
            "variable_name": "unk_dataframe_86b6511668354376a4aa0b58c4a3aef3"
          }
        }
      },
      "id": "c0efc9f6-cd0e-4935-b582-2809eff17bdc"
    },
    {
      "cell_type": "code",
      "source": [
        "# Calculate the 1-day 99% VaR\n",
        "var_99 = portfolio_returns.quantile(0.01)\n",
        "\n",
        "# Convert the VaR to the amount of money at risk\n",
        "var_99_money = var_99 * total_investment\n",
        "\n",
        "var_99, var_99_money"
      ],
      "outputs": [
        {
          "output_type": "execute_result",
          "execution_count": null,
          "data": {
            "text/plain": "(-0.015785389377345544, -393.43504484096036)"
          },
          "metadata": {}
        }
      ],
      "execution_count": null,
      "metadata": {
        "noteable": {
          "cell_type": "code"
        },
        "ExecuteTime": {
          "end_time": "2023-08-04T22:09:20.027633+00:00",
          "start_time": "2023-08-04T22:09:19.865510+00:00"
        }
      },
      "id": "a8924875-041e-4a8c-b050-2e8661152b58"
    },
    {
      "cell_type": "code",
      "source": [
        "!pip install -q matplotlib seaborn"
      ],
      "outputs": [],
      "execution_count": null,
      "metadata": {
        "noteable": {
          "cell_type": "code"
        },
        "ExecuteTime": {
          "start_time": "2023-08-04T22:11:39.327712+00:00",
          "end_time": "2023-08-04T22:11:43.999245+00:00"
        }
      },
      "id": "d973df53-1223-45c2-9d14-f509c82aec11"
    },
    {
      "cell_type": "code",
      "source": [
        "import matplotlib.pyplot as plt\n",
        "import seaborn as sns\n",
        "import numpy as np\n",
        "\n",
        "# Calculate the cumulative distribution function (CDF)\n",
        "sorted_returns = portfolio_returns.sort_values()\n",
        "cdf = np.arange(1, len(sorted_returns) + 1) / len(sorted_returns)\n",
        "\n",
        "# Create the plot\n",
        "plt.figure(figsize=(10, 6))\n",
        "sns.histplot(portfolio_returns, bins=100, kde=False, stat='density')\n",
        "plt.twinx()\n",
        "plt.plot(sorted_returns, cdf, color='r')\n",
        "plt.title('Histogram of Portfolio Returns and CDF')\n",
        "plt.xlabel('Return')\n",
        "plt.ylabel('Probability')\n",
        "plt.show()"
      ],
      "outputs": [
        {
          "output_type": "display_data",
          "data": {
            "image/png": "[encoded data removed]"
          },
          "metadata": {}
        }
      ],
      "execution_count": null,
      "metadata": {
        "noteable": {
          "cell_type": "code"
        },
        "ExecuteTime": {
          "start_time": "2023-08-04T22:12:03.544442+00:00",
          "end_time": "2023-08-04T22:12:05.178723+00:00"
        }
      },
      "id": "3a463be5-8695-4727-9549-76e3b834891b"
    },
    {
      "cell_type": "code",
      "source": [
        "from scipy.optimize import minimize\n",
        "\n",
        "def objective(weights):\n",
        "    # Calculate the portfolio return for each day based on the given weights\n",
        "    portfolio_returns_optimized = returns.dot(weights)\n",
        "    # Calculate the VaR for the optimized portfolio\n",
        "    var_99_optimized = portfolio_returns_optimized.quantile(0.01)\n",
        "    var_99_money_optimized = var_99_optimized * total_investment\n",
        "    # Return the absolute difference between the optimized VaR and the target VaR\n",
        "    return abs(var_99_money_optimized + 1000)\n",
        "\n",
        "# Constraints: sum of weights is 1\n",
        "constraints = ({'type': 'eq', 'fun': lambda weights: np.sum(weights) - 1})\n",
        "\n",
        "# Bounds for weights: each weight is between 0 and 1\n",
        "bounds = [(0, 1) for asset in range(len(tickers))]\n",
        "\n",
        "# Initial guess for weights\n",
        "initial_weights = [1./len(tickers) for asset in tickers]\n",
        "\n",
        "# Run the optimizer\n",
        "solution = minimize(objective, initial_weights, method='SLSQP', bounds=bounds, constraints=constraints)\n",
        "optimized_weights = solution.x\n",
        "\n",
        "optimized_weights"
      ],
      "outputs": [
        {
          "output_type": "error",
          "ename": "NameError",
          "evalue": "name 'tickers' is not defined",
          "traceback": [
            "\u001b[0;31m---------------------------------------------------------------------------\u001b[0m",
            "\u001b[0;31mNameError\u001b[0m                                 Traceback (most recent call last)",
            "Cell \u001b[0;32mIn[1], line 16\u001b[0m\n\u001b[1;32m     13\u001b[0m constraints \u001b[38;5;241m=\u001b[39m ({\u001b[38;5;124m'\u001b[39m\u001b[38;5;124mtype\u001b[39m\u001b[38;5;124m'\u001b[39m: \u001b[38;5;124m'\u001b[39m\u001b[38;5;124meq\u001b[39m\u001b[38;5;124m'\u001b[39m, \u001b[38;5;124m'\u001b[39m\u001b[38;5;124mfun\u001b[39m\u001b[38;5;124m'\u001b[39m: \u001b[38;5;28;01mlambda\u001b[39;00m weights: np\u001b[38;5;241m.\u001b[39msum(weights) \u001b[38;5;241m-\u001b[39m \u001b[38;5;241m1\u001b[39m})\n\u001b[1;32m     15\u001b[0m \u001b[38;5;66;03m# Bounds for weights: each weight is between 0 and 1\u001b[39;00m\n\u001b[0;32m---> 16\u001b[0m bounds \u001b[38;5;241m=\u001b[39m [(\u001b[38;5;241m0\u001b[39m, \u001b[38;5;241m1\u001b[39m) \u001b[38;5;28;01mfor\u001b[39;00m asset \u001b[38;5;129;01min\u001b[39;00m \u001b[38;5;28mrange\u001b[39m(\u001b[38;5;28mlen\u001b[39m(\u001b[43mtickers\u001b[49m))]\n\u001b[1;32m     18\u001b[0m \u001b[38;5;66;03m# Initial guess for weights\u001b[39;00m\n\u001b[1;32m     19\u001b[0m initial_weights \u001b[38;5;241m=\u001b[39m [\u001b[38;5;241m1.\u001b[39m\u001b[38;5;241m/\u001b[39m\u001b[38;5;28mlen\u001b[39m(tickers) \u001b[38;5;28;01mfor\u001b[39;00m asset \u001b[38;5;129;01min\u001b[39;00m tickers]\n",
            "\u001b[0;31mNameError\u001b[0m: name 'tickers' is not defined"
          ]
        }
      ],
      "execution_count": null,
      "metadata": {
        "noteable": {
          "cell_type": "code"
        },
        "ExecuteTime": {
          "start_time": "2023-08-05T02:14:48.533499+00:00",
          "end_time": "2023-08-05T02:14:49.187205+00:00"
        }
      },
      "id": "7496c39b-d169-481d-8eab-2cd23b975da6"
    },
    {
      "cell_type": "code",
      "source": [
        "# Redefine the necessary variables\n",
        "tickers = ['DBC', 'GLD', 'IEF', 'TLT', 'VTI']\n",
        "\n",
        "# Constraints: sum of weights is 1\n",
        "constraints = ({'type': 'eq', 'fun': lambda weights: np.sum(weights) - 1})\n",
        "\n",
        "# Bounds for weights: each weight is between 0 and 1\n",
        "bounds = [(0, 1) for asset in range(len(tickers))]\n",
        "\n",
        "# Initial guess for weights\n",
        "initial_weights = [1./len(tickers) for asset in tickers]\n",
        "\n",
        "# Run the optimizer\n",
        "solution = minimize(objective, initial_weights, method='SLSQP', bounds=bounds, constraints=constraints)\n",
        "optimized_weights = solution.x\n",
        "\n",
        "optimized_weights"
      ],
      "outputs": [
        {
          "output_type": "error",
          "ename": "NameError",
          "evalue": "name 'returns' is not defined",
          "traceback": [
            "\u001b[0;31m---------------------------------------------------------------------------\u001b[0m",
            "\u001b[0;31mNameError\u001b[0m                                 Traceback (most recent call last)",
            "Cell \u001b[0;32mIn[2], line 14\u001b[0m\n\u001b[1;32m     11\u001b[0m initial_weights \u001b[38;5;241m=\u001b[39m [\u001b[38;5;241m1.\u001b[39m\u001b[38;5;241m/\u001b[39m\u001b[38;5;28mlen\u001b[39m(tickers) \u001b[38;5;28;01mfor\u001b[39;00m asset \u001b[38;5;129;01min\u001b[39;00m tickers]\n\u001b[1;32m     13\u001b[0m \u001b[38;5;66;03m# Run the optimizer\u001b[39;00m\n\u001b[0;32m---> 14\u001b[0m solution \u001b[38;5;241m=\u001b[39m \u001b[43mminimize\u001b[49m\u001b[43m(\u001b[49m\u001b[43mobjective\u001b[49m\u001b[43m,\u001b[49m\u001b[43m \u001b[49m\u001b[43minitial_weights\u001b[49m\u001b[43m,\u001b[49m\u001b[43m \u001b[49m\u001b[43mmethod\u001b[49m\u001b[38;5;241;43m=\u001b[39;49m\u001b[38;5;124;43m'\u001b[39;49m\u001b[38;5;124;43mSLSQP\u001b[39;49m\u001b[38;5;124;43m'\u001b[39;49m\u001b[43m,\u001b[49m\u001b[43m \u001b[49m\u001b[43mbounds\u001b[49m\u001b[38;5;241;43m=\u001b[39;49m\u001b[43mbounds\u001b[49m\u001b[43m,\u001b[49m\u001b[43m \u001b[49m\u001b[43mconstraints\u001b[49m\u001b[38;5;241;43m=\u001b[39;49m\u001b[43mconstraints\u001b[49m\u001b[43m)\u001b[49m\n\u001b[1;32m     15\u001b[0m optimized_weights \u001b[38;5;241m=\u001b[39m solution\u001b[38;5;241m.\u001b[39mx\n\u001b[1;32m     17\u001b[0m optimized_weights\n",
            "File \u001b[0;32m/opt/conda/lib/python3.9/site-packages/scipy/optimize/_minimize.py:708\u001b[0m, in \u001b[0;36mminimize\u001b[0;34m(fun, x0, args, method, jac, hess, hessp, bounds, constraints, tol, callback, options)\u001b[0m\n\u001b[1;32m    705\u001b[0m     res \u001b[38;5;241m=\u001b[39m _minimize_cobyla(fun, x0, args, constraints, callback\u001b[38;5;241m=\u001b[39mcallback,\n\u001b[1;32m    706\u001b[0m                             \u001b[38;5;241m*\u001b[39m\u001b[38;5;241m*\u001b[39moptions)\n\u001b[1;32m    707\u001b[0m \u001b[38;5;28;01melif\u001b[39;00m meth \u001b[38;5;241m==\u001b[39m \u001b[38;5;124m'\u001b[39m\u001b[38;5;124mslsqp\u001b[39m\u001b[38;5;124m'\u001b[39m:\n\u001b[0;32m--> 708\u001b[0m     res \u001b[38;5;241m=\u001b[39m \u001b[43m_minimize_slsqp\u001b[49m\u001b[43m(\u001b[49m\u001b[43mfun\u001b[49m\u001b[43m,\u001b[49m\u001b[43m \u001b[49m\u001b[43mx0\u001b[49m\u001b[43m,\u001b[49m\u001b[43m \u001b[49m\u001b[43margs\u001b[49m\u001b[43m,\u001b[49m\u001b[43m \u001b[49m\u001b[43mjac\u001b[49m\u001b[43m,\u001b[49m\u001b[43m \u001b[49m\u001b[43mbounds\u001b[49m\u001b[43m,\u001b[49m\n\u001b[1;32m    709\u001b[0m \u001b[43m                          \u001b[49m\u001b[43mconstraints\u001b[49m\u001b[43m,\u001b[49m\u001b[43m \u001b[49m\u001b[43mcallback\u001b[49m\u001b[38;5;241;43m=\u001b[39;49m\u001b[43mcallback\u001b[49m\u001b[43m,\u001b[49m\u001b[43m \u001b[49m\u001b[38;5;241;43m*\u001b[39;49m\u001b[38;5;241;43m*\u001b[39;49m\u001b[43moptions\u001b[49m\u001b[43m)\u001b[49m\n\u001b[1;32m    710\u001b[0m \u001b[38;5;28;01melif\u001b[39;00m meth \u001b[38;5;241m==\u001b[39m \u001b[38;5;124m'\u001b[39m\u001b[38;5;124mtrust-constr\u001b[39m\u001b[38;5;124m'\u001b[39m:\n\u001b[1;32m    711\u001b[0m     res \u001b[38;5;241m=\u001b[39m _minimize_trustregion_constr(fun, x0, args, jac, hess, hessp,\n\u001b[1;32m    712\u001b[0m                                        bounds, constraints,\n\u001b[1;32m    713\u001b[0m                                        callback\u001b[38;5;241m=\u001b[39mcallback, \u001b[38;5;241m*\u001b[39m\u001b[38;5;241m*\u001b[39moptions)\n",
            "File \u001b[0;32m/opt/conda/lib/python3.9/site-packages/scipy/optimize/_slsqp_py.py:374\u001b[0m, in \u001b[0;36m_minimize_slsqp\u001b[0;34m(func, x0, args, jac, bounds, constraints, maxiter, ftol, iprint, disp, eps, callback, finite_diff_rel_step, **unknown_options)\u001b[0m\n\u001b[1;32m    371\u001b[0m     xu[infbnd[:, \u001b[38;5;241m1\u001b[39m]] \u001b[38;5;241m=\u001b[39m np\u001b[38;5;241m.\u001b[39mnan\n\u001b[1;32m    373\u001b[0m \u001b[38;5;66;03m# ScalarFunction provides function and gradient evaluation\u001b[39;00m\n\u001b[0;32m--> 374\u001b[0m sf \u001b[38;5;241m=\u001b[39m \u001b[43m_prepare_scalar_function\u001b[49m\u001b[43m(\u001b[49m\u001b[43mfunc\u001b[49m\u001b[43m,\u001b[49m\u001b[43m \u001b[49m\u001b[43mx\u001b[49m\u001b[43m,\u001b[49m\u001b[43m \u001b[49m\u001b[43mjac\u001b[49m\u001b[38;5;241;43m=\u001b[39;49m\u001b[43mjac\u001b[49m\u001b[43m,\u001b[49m\u001b[43m \u001b[49m\u001b[43margs\u001b[49m\u001b[38;5;241;43m=\u001b[39;49m\u001b[43margs\u001b[49m\u001b[43m,\u001b[49m\u001b[43m \u001b[49m\u001b[43mepsilon\u001b[49m\u001b[38;5;241;43m=\u001b[39;49m\u001b[43meps\u001b[49m\u001b[43m,\u001b[49m\n\u001b[1;32m    375\u001b[0m \u001b[43m                              \u001b[49m\u001b[43mfinite_diff_rel_step\u001b[49m\u001b[38;5;241;43m=\u001b[39;49m\u001b[43mfinite_diff_rel_step\u001b[49m\u001b[43m,\u001b[49m\n\u001b[1;32m    376\u001b[0m \u001b[43m                              \u001b[49m\u001b[43mbounds\u001b[49m\u001b[38;5;241;43m=\u001b[39;49m\u001b[43mnew_bounds\u001b[49m\u001b[43m)\u001b[49m\n\u001b[1;32m    377\u001b[0m \u001b[38;5;66;03m# gh11403 SLSQP sometimes exceeds bounds by 1 or 2 ULP, make sure this\u001b[39;00m\n\u001b[1;32m    378\u001b[0m \u001b[38;5;66;03m# doesn't get sent to the func/grad evaluator.\u001b[39;00m\n\u001b[1;32m    379\u001b[0m wrapped_fun \u001b[38;5;241m=\u001b[39m _clip_x_for_func(sf\u001b[38;5;241m.\u001b[39mfun, new_bounds)\n",
            "File \u001b[0;32m/opt/conda/lib/python3.9/site-packages/scipy/optimize/_optimize.py:263\u001b[0m, in \u001b[0;36m_prepare_scalar_function\u001b[0;34m(fun, x0, jac, args, bounds, epsilon, finite_diff_rel_step, hess)\u001b[0m\n\u001b[1;32m    259\u001b[0m     bounds \u001b[38;5;241m=\u001b[39m (\u001b[38;5;241m-\u001b[39mnp\u001b[38;5;241m.\u001b[39minf, np\u001b[38;5;241m.\u001b[39minf)\n\u001b[1;32m    261\u001b[0m \u001b[38;5;66;03m# ScalarFunction caches. Reuse of fun(x) during grad\u001b[39;00m\n\u001b[1;32m    262\u001b[0m \u001b[38;5;66;03m# calculation reduces overall function evaluations.\u001b[39;00m\n\u001b[0;32m--> 263\u001b[0m sf \u001b[38;5;241m=\u001b[39m \u001b[43mScalarFunction\u001b[49m\u001b[43m(\u001b[49m\u001b[43mfun\u001b[49m\u001b[43m,\u001b[49m\u001b[43m \u001b[49m\u001b[43mx0\u001b[49m\u001b[43m,\u001b[49m\u001b[43m \u001b[49m\u001b[43margs\u001b[49m\u001b[43m,\u001b[49m\u001b[43m \u001b[49m\u001b[43mgrad\u001b[49m\u001b[43m,\u001b[49m\u001b[43m \u001b[49m\u001b[43mhess\u001b[49m\u001b[43m,\u001b[49m\n\u001b[1;32m    264\u001b[0m \u001b[43m                    \u001b[49m\u001b[43mfinite_diff_rel_step\u001b[49m\u001b[43m,\u001b[49m\u001b[43m \u001b[49m\u001b[43mbounds\u001b[49m\u001b[43m,\u001b[49m\u001b[43m \u001b[49m\u001b[43mepsilon\u001b[49m\u001b[38;5;241;43m=\u001b[39;49m\u001b[43mepsilon\u001b[49m\u001b[43m)\u001b[49m\n\u001b[1;32m    266\u001b[0m \u001b[38;5;28;01mreturn\u001b[39;00m sf\n",
            "File \u001b[0;32m/opt/conda/lib/python3.9/site-packages/scipy/optimize/_differentiable_functions.py:158\u001b[0m, in \u001b[0;36mScalarFunction.__init__\u001b[0;34m(self, fun, x0, args, grad, hess, finite_diff_rel_step, finite_diff_bounds, epsilon)\u001b[0m\n\u001b[1;32m    155\u001b[0m     \u001b[38;5;28mself\u001b[39m\u001b[38;5;241m.\u001b[39mf \u001b[38;5;241m=\u001b[39m fun_wrapped(\u001b[38;5;28mself\u001b[39m\u001b[38;5;241m.\u001b[39mx)\n\u001b[1;32m    157\u001b[0m \u001b[38;5;28mself\u001b[39m\u001b[38;5;241m.\u001b[39m_update_fun_impl \u001b[38;5;241m=\u001b[39m update_fun\n\u001b[0;32m--> 158\u001b[0m \u001b[38;5;28;43mself\u001b[39;49m\u001b[38;5;241;43m.\u001b[39;49m\u001b[43m_update_fun\u001b[49m\u001b[43m(\u001b[49m\u001b[43m)\u001b[49m\n\u001b[1;32m    160\u001b[0m \u001b[38;5;66;03m# Gradient evaluation\u001b[39;00m\n\u001b[1;32m    161\u001b[0m \u001b[38;5;28;01mif\u001b[39;00m \u001b[38;5;28mcallable\u001b[39m(grad):\n",
            "File \u001b[0;32m/opt/conda/lib/python3.9/site-packages/scipy/optimize/_differentiable_functions.py:251\u001b[0m, in \u001b[0;36mScalarFunction._update_fun\u001b[0;34m(self)\u001b[0m\n\u001b[1;32m    249\u001b[0m \u001b[38;5;28;01mdef\u001b[39;00m \u001b[38;5;21m_update_fun\u001b[39m(\u001b[38;5;28mself\u001b[39m):\n\u001b[1;32m    250\u001b[0m     \u001b[38;5;28;01mif\u001b[39;00m \u001b[38;5;129;01mnot\u001b[39;00m \u001b[38;5;28mself\u001b[39m\u001b[38;5;241m.\u001b[39mf_updated:\n\u001b[0;32m--> 251\u001b[0m         \u001b[38;5;28;43mself\u001b[39;49m\u001b[38;5;241;43m.\u001b[39;49m\u001b[43m_update_fun_impl\u001b[49m\u001b[43m(\u001b[49m\u001b[43m)\u001b[49m\n\u001b[1;32m    252\u001b[0m         \u001b[38;5;28mself\u001b[39m\u001b[38;5;241m.\u001b[39mf_updated \u001b[38;5;241m=\u001b[39m \u001b[38;5;28;01mTrue\u001b[39;00m\n",
            "File \u001b[0;32m/opt/conda/lib/python3.9/site-packages/scipy/optimize/_differentiable_functions.py:155\u001b[0m, in \u001b[0;36mScalarFunction.__init__.<locals>.update_fun\u001b[0;34m()\u001b[0m\n\u001b[1;32m    154\u001b[0m \u001b[38;5;28;01mdef\u001b[39;00m \u001b[38;5;21mupdate_fun\u001b[39m():\n\u001b[0;32m--> 155\u001b[0m     \u001b[38;5;28mself\u001b[39m\u001b[38;5;241m.\u001b[39mf \u001b[38;5;241m=\u001b[39m \u001b[43mfun_wrapped\u001b[49m\u001b[43m(\u001b[49m\u001b[38;5;28;43mself\u001b[39;49m\u001b[38;5;241;43m.\u001b[39;49m\u001b[43mx\u001b[49m\u001b[43m)\u001b[49m\n",
            "File \u001b[0;32m/opt/conda/lib/python3.9/site-packages/scipy/optimize/_differentiable_functions.py:137\u001b[0m, in \u001b[0;36mScalarFunction.__init__.<locals>.fun_wrapped\u001b[0;34m(x)\u001b[0m\n\u001b[1;32m    133\u001b[0m \u001b[38;5;28mself\u001b[39m\u001b[38;5;241m.\u001b[39mnfev \u001b[38;5;241m+\u001b[39m\u001b[38;5;241m=\u001b[39m \u001b[38;5;241m1\u001b[39m\n\u001b[1;32m    134\u001b[0m \u001b[38;5;66;03m# Send a copy because the user may overwrite it.\u001b[39;00m\n\u001b[1;32m    135\u001b[0m \u001b[38;5;66;03m# Overwriting results in undefined behaviour because\u001b[39;00m\n\u001b[1;32m    136\u001b[0m \u001b[38;5;66;03m# fun(self.x) will change self.x, with the two no longer linked.\u001b[39;00m\n\u001b[0;32m--> 137\u001b[0m fx \u001b[38;5;241m=\u001b[39m \u001b[43mfun\u001b[49m\u001b[43m(\u001b[49m\u001b[43mnp\u001b[49m\u001b[38;5;241;43m.\u001b[39;49m\u001b[43mcopy\u001b[49m\u001b[43m(\u001b[49m\u001b[43mx\u001b[49m\u001b[43m)\u001b[49m\u001b[43m,\u001b[49m\u001b[43m \u001b[49m\u001b[38;5;241;43m*\u001b[39;49m\u001b[43margs\u001b[49m\u001b[43m)\u001b[49m\n\u001b[1;32m    138\u001b[0m \u001b[38;5;66;03m# Make sure the function returns a true scalar\u001b[39;00m\n\u001b[1;32m    139\u001b[0m \u001b[38;5;28;01mif\u001b[39;00m \u001b[38;5;129;01mnot\u001b[39;00m np\u001b[38;5;241m.\u001b[39misscalar(fx):\n",
            "Cell \u001b[0;32mIn[1], line 5\u001b[0m, in \u001b[0;36mobjective\u001b[0;34m(weights)\u001b[0m\n\u001b[1;32m      3\u001b[0m \u001b[38;5;28;01mdef\u001b[39;00m \u001b[38;5;21mobjective\u001b[39m(weights):\n\u001b[1;32m      4\u001b[0m     \u001b[38;5;66;03m# Calculate the portfolio return for each day based on the given weights\u001b[39;00m\n\u001b[0;32m----> 5\u001b[0m     portfolio_returns_optimized \u001b[38;5;241m=\u001b[39m \u001b[43mreturns\u001b[49m\u001b[38;5;241m.\u001b[39mdot(weights)\n\u001b[1;32m      6\u001b[0m     \u001b[38;5;66;03m# Calculate the VaR for the optimized portfolio\u001b[39;00m\n\u001b[1;32m      7\u001b[0m     var_99_optimized \u001b[38;5;241m=\u001b[39m portfolio_returns_optimized\u001b[38;5;241m.\u001b[39mquantile(\u001b[38;5;241m0.01\u001b[39m)\n",
            "\u001b[0;31mNameError\u001b[0m: name 'returns' is not defined"
          ]
        }
      ],
      "execution_count": null,
      "metadata": {
        "noteable": {
          "cell_type": "code"
        },
        "ExecuteTime": {
          "start_time": "2023-08-05T02:15:08.199412+00:00",
          "end_time": "2023-08-05T02:15:09.154593+00:00"
        }
      },
      "id": "1e5cd687-8ce4-4d2b-b3d4-e3f328b7de6b"
    },
    {
      "cell_type": "code",
      "source": [
        "# Redefine the necessary variables\n",
        "tickers = ['DBC', 'GLD', 'IEF', 'TLT', 'VTI']\n",
        "returns = prices.pct_change().dropna()\n",
        "\n",
        "# Constraints: sum of weights is 1\n",
        "constraints = ({'type': 'eq', 'fun': lambda weights: np.sum(weights) - 1})\n",
        "\n",
        "# Bounds for weights: each weight is between 0 and 1\n",
        "bounds = [(0, 1) for asset in range(len(tickers))]\n",
        "\n",
        "# Initial guess for weights\n",
        "initial_weights = [1./len(tickers) for asset in tickers]\n",
        "\n",
        "# Run the optimizer\n",
        "solution = minimize(objective, initial_weights, method='SLSQP', bounds=bounds, constraints=constraints)\n",
        "optimized_weights = solution.x\n",
        "\n",
        "optimized_weights"
      ],
      "outputs": [
        {
          "output_type": "error",
          "ename": "NameError",
          "evalue": "name 'prices' is not defined",
          "traceback": [
            "\u001b[0;31m---------------------------------------------------------------------------\u001b[0m",
            "\u001b[0;31mNameError\u001b[0m                                 Traceback (most recent call last)",
            "Cell \u001b[0;32mIn[3], line 3\u001b[0m\n\u001b[1;32m      1\u001b[0m \u001b[38;5;66;03m# Redefine the necessary variables\u001b[39;00m\n\u001b[1;32m      2\u001b[0m tickers \u001b[38;5;241m=\u001b[39m [\u001b[38;5;124m'\u001b[39m\u001b[38;5;124mDBC\u001b[39m\u001b[38;5;124m'\u001b[39m, \u001b[38;5;124m'\u001b[39m\u001b[38;5;124mGLD\u001b[39m\u001b[38;5;124m'\u001b[39m, \u001b[38;5;124m'\u001b[39m\u001b[38;5;124mIEF\u001b[39m\u001b[38;5;124m'\u001b[39m, \u001b[38;5;124m'\u001b[39m\u001b[38;5;124mTLT\u001b[39m\u001b[38;5;124m'\u001b[39m, \u001b[38;5;124m'\u001b[39m\u001b[38;5;124mVTI\u001b[39m\u001b[38;5;124m'\u001b[39m]\n\u001b[0;32m----> 3\u001b[0m returns \u001b[38;5;241m=\u001b[39m \u001b[43mprices\u001b[49m\u001b[38;5;241m.\u001b[39mpct_change()\u001b[38;5;241m.\u001b[39mdropna()\n\u001b[1;32m      5\u001b[0m \u001b[38;5;66;03m# Constraints: sum of weights is 1\u001b[39;00m\n\u001b[1;32m      6\u001b[0m constraints \u001b[38;5;241m=\u001b[39m ({\u001b[38;5;124m'\u001b[39m\u001b[38;5;124mtype\u001b[39m\u001b[38;5;124m'\u001b[39m: \u001b[38;5;124m'\u001b[39m\u001b[38;5;124meq\u001b[39m\u001b[38;5;124m'\u001b[39m, \u001b[38;5;124m'\u001b[39m\u001b[38;5;124mfun\u001b[39m\u001b[38;5;124m'\u001b[39m: \u001b[38;5;28;01mlambda\u001b[39;00m weights: np\u001b[38;5;241m.\u001b[39msum(weights) \u001b[38;5;241m-\u001b[39m \u001b[38;5;241m1\u001b[39m})\n",
            "\u001b[0;31mNameError\u001b[0m: name 'prices' is not defined"
          ]
        }
      ],
      "execution_count": null,
      "metadata": {
        "noteable": {
          "cell_type": "code"
        },
        "ExecuteTime": {
          "start_time": "2023-08-05T02:15:28.005397+00:00",
          "end_time": "2023-08-05T02:15:28.190077+00:00"
        }
      },
      "id": "10e26e4f-a4ba-463b-84ae-f22bf81b570d"
    },
    {
      "cell_type": "code",
      "source": [
        "# Redefine the necessary variables\n",
        "tickers = ['DBC', 'GLD', 'IEF', 'TLT', 'VTI']\n",
        "data = yf.download(tickers, start=start_date, end=end_date)\n",
        "prices = data['Adj Close']\n",
        "returns = prices.pct_change().dropna()\n",
        "\n",
        "# Constraints: sum of weights is 1\n",
        "constraints = ({'type': 'eq', 'fun': lambda weights: np.sum(weights) - 1})\n",
        "\n",
        "# Bounds for weights: each weight is between 0 and 1\n",
        "bounds = [(0, 1) for asset in range(len(tickers))]\n",
        "\n",
        "# Initial guess for weights\n",
        "initial_weights = [1./len(tickers) for asset in tickers]\n",
        "\n",
        "# Run the optimizer\n",
        "solution = minimize(objective, initial_weights, method='SLSQP', bounds=bounds, constraints=constraints)\n",
        "optimized_weights = solution.x\n",
        "\n",
        "optimized_weights"
      ],
      "outputs": [
        {
          "output_type": "error",
          "ename": "NameError",
          "evalue": "name 'yf' is not defined",
          "traceback": [
            "\u001b[0;31m---------------------------------------------------------------------------\u001b[0m",
            "\u001b[0;31mNameError\u001b[0m                                 Traceback (most recent call last)",
            "Cell \u001b[0;32mIn[4], line 3\u001b[0m\n\u001b[1;32m      1\u001b[0m \u001b[38;5;66;03m# Redefine the necessary variables\u001b[39;00m\n\u001b[1;32m      2\u001b[0m tickers \u001b[38;5;241m=\u001b[39m [\u001b[38;5;124m'\u001b[39m\u001b[38;5;124mDBC\u001b[39m\u001b[38;5;124m'\u001b[39m, \u001b[38;5;124m'\u001b[39m\u001b[38;5;124mGLD\u001b[39m\u001b[38;5;124m'\u001b[39m, \u001b[38;5;124m'\u001b[39m\u001b[38;5;124mIEF\u001b[39m\u001b[38;5;124m'\u001b[39m, \u001b[38;5;124m'\u001b[39m\u001b[38;5;124mTLT\u001b[39m\u001b[38;5;124m'\u001b[39m, \u001b[38;5;124m'\u001b[39m\u001b[38;5;124mVTI\u001b[39m\u001b[38;5;124m'\u001b[39m]\n\u001b[0;32m----> 3\u001b[0m data \u001b[38;5;241m=\u001b[39m \u001b[43myf\u001b[49m\u001b[38;5;241m.\u001b[39mdownload(tickers, start\u001b[38;5;241m=\u001b[39mstart_date, end\u001b[38;5;241m=\u001b[39mend_date)\n\u001b[1;32m      4\u001b[0m prices \u001b[38;5;241m=\u001b[39m data[\u001b[38;5;124m'\u001b[39m\u001b[38;5;124mAdj Close\u001b[39m\u001b[38;5;124m'\u001b[39m]\n\u001b[1;32m      5\u001b[0m returns \u001b[38;5;241m=\u001b[39m prices\u001b[38;5;241m.\u001b[39mpct_change()\u001b[38;5;241m.\u001b[39mdropna()\n",
            "\u001b[0;31mNameError\u001b[0m: name 'yf' is not defined"
          ]
        }
      ],
      "execution_count": null,
      "metadata": {
        "noteable": {
          "cell_type": "code"
        },
        "ExecuteTime": {
          "start_time": "2023-08-05T02:15:49.556737+00:00",
          "end_time": "2023-08-05T02:15:49.741356+00:00"
        }
      },
      "id": "128380e7-8aeb-4afe-8e89-f4c33e913db8"
    },
    {
      "cell_type": "code",
      "source": [
        "import yfinance as yf\n",
        "import numpy as np\n",
        "from scipy.optimize import minimize\n",
        "from datetime import datetime, timedelta\n",
        "\n",
        "# Redefine the necessary variables\n",
        "tickers = ['DBC', 'GLD', 'IEF', 'TLT', 'VTI']\n",
        "end_date = datetime.now()\n",
        "start_date = end_date - timedelta(days=5*365)\n",
        "data = yf.download(tickers, start=start_date, end=end_date)\n",
        "prices = data['Adj Close']\n",
        "returns = prices.pct_change().dropna()\n",
        "\n",
        "# Constraints: sum of weights is 1\n",
        "constraints = ({'type': 'eq', 'fun': lambda weights: np.sum(weights) - 1})\n",
        "\n",
        "# Bounds for weights: each weight is between 0 and 1\n",
        "bounds = [(0, 1) for asset in range(len(tickers))]\n",
        "\n",
        "# Initial guess for weights\n",
        "initial_weights = [1./len(tickers) for asset in tickers]\n",
        "\n",
        "# Run the optimizer\n",
        "solution = minimize(objective, initial_weights, method='SLSQP', bounds=bounds, constraints=constraints)\n",
        "optimized_weights = solution.x\n",
        "\n",
        "optimized_weights"
      ],
      "outputs": [
        {
          "output_type": "error",
          "ename": "ModuleNotFoundError",
          "evalue": "No module named 'yfinance'",
          "traceback": [
            "\u001b[0;31m---------------------------------------------------------------------------\u001b[0m",
            "\u001b[0;31mModuleNotFoundError\u001b[0m                       Traceback (most recent call last)",
            "Cell \u001b[0;32mIn[5], line 1\u001b[0m\n\u001b[0;32m----> 1\u001b[0m \u001b[38;5;28;01mimport\u001b[39;00m \u001b[38;5;21;01myfinance\u001b[39;00m \u001b[38;5;28;01mas\u001b[39;00m \u001b[38;5;21;01myf\u001b[39;00m\n\u001b[1;32m      2\u001b[0m \u001b[38;5;28;01mimport\u001b[39;00m \u001b[38;5;21;01mnumpy\u001b[39;00m \u001b[38;5;28;01mas\u001b[39;00m \u001b[38;5;21;01mnp\u001b[39;00m\n\u001b[1;32m      3\u001b[0m \u001b[38;5;28;01mfrom\u001b[39;00m \u001b[38;5;21;01mscipy\u001b[39;00m\u001b[38;5;21;01m.\u001b[39;00m\u001b[38;5;21;01moptimize\u001b[39;00m \u001b[38;5;28;01mimport\u001b[39;00m minimize\n",
            "\u001b[0;31mModuleNotFoundError\u001b[0m: No module named 'yfinance'"
          ]
        }
      ],
      "execution_count": null,
      "metadata": {
        "noteable": {
          "cell_type": "code"
        },
        "ExecuteTime": {
          "start_time": "2023-08-05T02:16:13.806114+00:00",
          "end_time": "2023-08-05T02:16:13.990679+00:00"
        }
      },
      "id": "e6f520ad-d0a5-4ce1-a77d-fb4e60584d14"
    },
    {
      "cell_type": "code",
      "source": [
        "!pip install -q yfinance"
      ],
      "outputs": [
        {
          "output_type": "stream",
          "name": "stdout",
          "text": [
            "\u001b[31mERROR: pip's dependency resolver does not currently take into account all the packages that are installed. This behaviour is the source of the following dependency conflicts.\r\n",
            "snowflake-connector-python 3.0.3 requires cryptography<41.0.0,>=3.1.0, but you have cryptography 41.0.2 which is incompatible.\r\n",
            "pyiceberg 0.3.0 requires requests==2.28.2, but you have requests 2.31.0 which is incompatible.\r\n",
            "flytekit 1.2.11 requires protobuf<4,>=3.6.1, but you have protobuf 4.21.7 which is incompatible.\r\n",
            "dagster 1.0.15 requires protobuf<4,>=3.13.0, but you have protobuf 4.21.7 which is incompatible.\u001b[0m\u001b[31m\r\n",
            "\u001b[0m"
          ]
        }
      ],
      "execution_count": null,
      "metadata": {
        "noteable": {
          "cell_type": "code"
        },
        "ExecuteTime": {
          "start_time": "2023-08-05T02:16:25.882742+00:00",
          "end_time": "2023-08-05T02:16:31.750667+00:00"
        }
      },
      "id": "3038707b-d5ba-4917-b32d-b97ddc9d038f"
    },
    {
      "cell_type": "code",
      "source": [
        "# Redefine the necessary variables\n",
        "tickers = ['DBC', 'GLD', 'IEF', 'TLT', 'VTI']\n",
        "end_date = datetime.now()\n",
        "start_date = end_date - timedelta(days=5*365)\n",
        "data = yf.download(tickers, start=start_date, end=end_date)\n",
        "prices = data['Adj Close']\n",
        "returns = prices.pct_change().dropna()\n",
        "\n",
        "# Constraints: sum of weights is 1\n",
        "constraints = ({'type': 'eq', 'fun': lambda weights: np.sum(weights) - 1})\n",
        "\n",
        "# Bounds for weights: each weight is between 0 and 1\n",
        "bounds = [(0, 1) for asset in range(len(tickers))]\n",
        "\n",
        "# Initial guess for weights\n",
        "initial_weights = [1./len(tickers) for asset in tickers]\n",
        "\n",
        "# Run the optimizer\n",
        "solution = minimize(objective, initial_weights, method='SLSQP', bounds=bounds, constraints=constraints)\n",
        "optimized_weights = solution.x\n",
        "\n",
        "optimized_weights"
      ],
      "outputs": [
        {
          "output_type": "error",
          "ename": "NameError",
          "evalue": "name 'datetime' is not defined",
          "traceback": [
            "\u001b[0;31m---------------------------------------------------------------------------\u001b[0m",
            "\u001b[0;31mNameError\u001b[0m                                 Traceback (most recent call last)",
            "Cell \u001b[0;32mIn[7], line 3\u001b[0m\n\u001b[1;32m      1\u001b[0m \u001b[38;5;66;03m# Redefine the necessary variables\u001b[39;00m\n\u001b[1;32m      2\u001b[0m tickers \u001b[38;5;241m=\u001b[39m [\u001b[38;5;124m'\u001b[39m\u001b[38;5;124mDBC\u001b[39m\u001b[38;5;124m'\u001b[39m, \u001b[38;5;124m'\u001b[39m\u001b[38;5;124mGLD\u001b[39m\u001b[38;5;124m'\u001b[39m, \u001b[38;5;124m'\u001b[39m\u001b[38;5;124mIEF\u001b[39m\u001b[38;5;124m'\u001b[39m, \u001b[38;5;124m'\u001b[39m\u001b[38;5;124mTLT\u001b[39m\u001b[38;5;124m'\u001b[39m, \u001b[38;5;124m'\u001b[39m\u001b[38;5;124mVTI\u001b[39m\u001b[38;5;124m'\u001b[39m]\n\u001b[0;32m----> 3\u001b[0m end_date \u001b[38;5;241m=\u001b[39m \u001b[43mdatetime\u001b[49m\u001b[38;5;241m.\u001b[39mnow()\n\u001b[1;32m      4\u001b[0m start_date \u001b[38;5;241m=\u001b[39m end_date \u001b[38;5;241m-\u001b[39m timedelta(days\u001b[38;5;241m=\u001b[39m\u001b[38;5;241m5\u001b[39m\u001b[38;5;241m*\u001b[39m\u001b[38;5;241m365\u001b[39m)\n\u001b[1;32m      5\u001b[0m data \u001b[38;5;241m=\u001b[39m yf\u001b[38;5;241m.\u001b[39mdownload(tickers, start\u001b[38;5;241m=\u001b[39mstart_date, end\u001b[38;5;241m=\u001b[39mend_date)\n",
            "\u001b[0;31mNameError\u001b[0m: name 'datetime' is not defined"
          ]
        }
      ],
      "execution_count": null,
      "metadata": {
        "noteable": {
          "cell_type": "code"
        },
        "ExecuteTime": {
          "start_time": "2023-08-05T02:16:51.678660+00:00",
          "end_time": "2023-08-05T02:16:51.868537+00:00"
        }
      },
      "id": "8ebf262b-fc7d-4c22-9765-82db457a95ae"
    },
    {
      "cell_type": "code",
      "source": [
        "# Import necessary libraries\n",
        "from datetime import datetime, timedelta\n",
        "\n",
        "# Redefine the necessary variables\n",
        "tickers = ['DBC', 'GLD', 'IEF', 'TLT', 'VTI']\n",
        "end_date = datetime.now()\n",
        "start_date = end_date - timedelta(days=5*365)\n",
        "data = yf.download(tickers, start=start_date, end=end_date)\n",
        "prices = data['Adj Close']\n",
        "returns = prices.pct_change().dropna()\n",
        "\n",
        "# Constraints: sum of weights is 1\n",
        "constraints = ({'type': 'eq', 'fun': lambda weights: np.sum(weights) - 1})\n",
        "\n",
        "# Bounds for weights: each weight is between 0 and 1\n",
        "bounds = [(0, 1) for asset in range(len(tickers))]\n",
        "\n",
        "# Initial guess for weights\n",
        "initial_weights = [1./len(tickers) for asset in tickers]\n",
        "\n",
        "# Run the optimizer\n",
        "solution = minimize(objective, initial_weights, method='SLSQP', bounds=bounds, constraints=constraints)\n",
        "optimized_weights = solution.x\n",
        "\n",
        "optimized_weights"
      ],
      "outputs": [
        {
          "output_type": "error",
          "ename": "NameError",
          "evalue": "name 'yf' is not defined",
          "traceback": [
            "\u001b[0;31m---------------------------------------------------------------------------\u001b[0m",
            "\u001b[0;31mNameError\u001b[0m                                 Traceback (most recent call last)",
            "Cell \u001b[0;32mIn[8], line 8\u001b[0m\n\u001b[1;32m      6\u001b[0m end_date \u001b[38;5;241m=\u001b[39m datetime\u001b[38;5;241m.\u001b[39mnow()\n\u001b[1;32m      7\u001b[0m start_date \u001b[38;5;241m=\u001b[39m end_date \u001b[38;5;241m-\u001b[39m timedelta(days\u001b[38;5;241m=\u001b[39m\u001b[38;5;241m5\u001b[39m\u001b[38;5;241m*\u001b[39m\u001b[38;5;241m365\u001b[39m)\n\u001b[0;32m----> 8\u001b[0m data \u001b[38;5;241m=\u001b[39m \u001b[43myf\u001b[49m\u001b[38;5;241m.\u001b[39mdownload(tickers, start\u001b[38;5;241m=\u001b[39mstart_date, end\u001b[38;5;241m=\u001b[39mend_date)\n\u001b[1;32m      9\u001b[0m prices \u001b[38;5;241m=\u001b[39m data[\u001b[38;5;124m'\u001b[39m\u001b[38;5;124mAdj Close\u001b[39m\u001b[38;5;124m'\u001b[39m]\n\u001b[1;32m     10\u001b[0m returns \u001b[38;5;241m=\u001b[39m prices\u001b[38;5;241m.\u001b[39mpct_change()\u001b[38;5;241m.\u001b[39mdropna()\n",
            "\u001b[0;31mNameError\u001b[0m: name 'yf' is not defined"
          ]
        }
      ],
      "execution_count": null,
      "metadata": {
        "noteable": {
          "cell_type": "code"
        },
        "ExecuteTime": {
          "start_time": "2023-08-05T02:17:14.123186+00:00",
          "end_time": "2023-08-05T02:17:14.313098+00:00"
        }
      },
      "id": "e8d45151-5f96-4f89-aa50-e6d1af6a33f5"
    },
    {
      "cell_type": "code",
      "source": [
        "# Import necessary libraries\n",
        "import yfinance as yf\n",
        "from datetime import datetime, timedelta\n",
        "\n",
        "# Redefine the necessary variables\n",
        "tickers = ['DBC', 'GLD', 'IEF', 'TLT', 'VTI']\n",
        "end_date = datetime.now()\n",
        "start_date = end_date - timedelta(days=5*365)\n",
        "data = yf.download(tickers, start=start_date, end=end_date)\n",
        "prices = data['Adj Close']\n",
        "returns = prices.pct_change().dropna()\n",
        "\n",
        "# Constraints: sum of weights is 1\n",
        "constraints = ({'type': 'eq', 'fun': lambda weights: np.sum(weights) - 1})\n",
        "\n",
        "# Bounds for weights: each weight is between 0 and 1\n",
        "bounds = [(0, 1) for asset in range(len(tickers))]\n",
        "\n",
        "# Initial guess for weights\n",
        "initial_weights = [1./len(tickers) for asset in tickers]\n",
        "\n",
        "# Run the optimizer\n",
        "solution = minimize(objective, initial_weights, method='SLSQP', bounds=bounds, constraints=constraints)\n",
        "optimized_weights = solution.x\n",
        "\n",
        "optimized_weights"
      ],
      "outputs": [
        {
          "output_type": "stream",
          "name": "stdout",
          "text": [
            "\r[                       0%                       ]"
          ]
        },
        {
          "output_type": "stream",
          "name": "stdout",
          "text": [
            "\r[*******************   40%                       ]  2 of 5 completed"
          ]
        },
        {
          "output_type": "stream",
          "name": "stdout",
          "text": [
            "\r[**********************60%****                   ]  3 of 5 completed"
          ]
        },
        {
          "output_type": "stream",
          "name": "stdout",
          "text": [
            "\r[**********************80%*************          ]  4 of 5 completed"
          ]
        },
        {
          "output_type": "stream",
          "name": "stdout",
          "text": [
            "\r[*********************100%***********************]  5 of 5 completed"
          ]
        },
        {
          "output_type": "stream",
          "name": "stdout",
          "text": [
            "\n"
          ]
        },
        {
          "output_type": "error",
          "ename": "NameError",
          "evalue": "name 'total_investment' is not defined",
          "traceback": [
            "\u001b[0;31m---------------------------------------------------------------------------\u001b[0m",
            "\u001b[0;31mNameError\u001b[0m                                 Traceback (most recent call last)",
            "Cell \u001b[0;32mIn[9], line 23\u001b[0m\n\u001b[1;32m     20\u001b[0m initial_weights \u001b[38;5;241m=\u001b[39m [\u001b[38;5;241m1.\u001b[39m\u001b[38;5;241m/\u001b[39m\u001b[38;5;28mlen\u001b[39m(tickers) \u001b[38;5;28;01mfor\u001b[39;00m asset \u001b[38;5;129;01min\u001b[39;00m tickers]\n\u001b[1;32m     22\u001b[0m \u001b[38;5;66;03m# Run the optimizer\u001b[39;00m\n\u001b[0;32m---> 23\u001b[0m solution \u001b[38;5;241m=\u001b[39m \u001b[43mminimize\u001b[49m\u001b[43m(\u001b[49m\u001b[43mobjective\u001b[49m\u001b[43m,\u001b[49m\u001b[43m \u001b[49m\u001b[43minitial_weights\u001b[49m\u001b[43m,\u001b[49m\u001b[43m \u001b[49m\u001b[43mmethod\u001b[49m\u001b[38;5;241;43m=\u001b[39;49m\u001b[38;5;124;43m'\u001b[39;49m\u001b[38;5;124;43mSLSQP\u001b[39;49m\u001b[38;5;124;43m'\u001b[39;49m\u001b[43m,\u001b[49m\u001b[43m \u001b[49m\u001b[43mbounds\u001b[49m\u001b[38;5;241;43m=\u001b[39;49m\u001b[43mbounds\u001b[49m\u001b[43m,\u001b[49m\u001b[43m \u001b[49m\u001b[43mconstraints\u001b[49m\u001b[38;5;241;43m=\u001b[39;49m\u001b[43mconstraints\u001b[49m\u001b[43m)\u001b[49m\n\u001b[1;32m     24\u001b[0m optimized_weights \u001b[38;5;241m=\u001b[39m solution\u001b[38;5;241m.\u001b[39mx\n\u001b[1;32m     26\u001b[0m optimized_weights\n",
            "File \u001b[0;32m/opt/conda/lib/python3.9/site-packages/scipy/optimize/_minimize.py:708\u001b[0m, in \u001b[0;36mminimize\u001b[0;34m(fun, x0, args, method, jac, hess, hessp, bounds, constraints, tol, callback, options)\u001b[0m\n\u001b[1;32m    705\u001b[0m     res \u001b[38;5;241m=\u001b[39m _minimize_cobyla(fun, x0, args, constraints, callback\u001b[38;5;241m=\u001b[39mcallback,\n\u001b[1;32m    706\u001b[0m                             \u001b[38;5;241m*\u001b[39m\u001b[38;5;241m*\u001b[39moptions)\n\u001b[1;32m    707\u001b[0m \u001b[38;5;28;01melif\u001b[39;00m meth \u001b[38;5;241m==\u001b[39m \u001b[38;5;124m'\u001b[39m\u001b[38;5;124mslsqp\u001b[39m\u001b[38;5;124m'\u001b[39m:\n\u001b[0;32m--> 708\u001b[0m     res \u001b[38;5;241m=\u001b[39m \u001b[43m_minimize_slsqp\u001b[49m\u001b[43m(\u001b[49m\u001b[43mfun\u001b[49m\u001b[43m,\u001b[49m\u001b[43m \u001b[49m\u001b[43mx0\u001b[49m\u001b[43m,\u001b[49m\u001b[43m \u001b[49m\u001b[43margs\u001b[49m\u001b[43m,\u001b[49m\u001b[43m \u001b[49m\u001b[43mjac\u001b[49m\u001b[43m,\u001b[49m\u001b[43m \u001b[49m\u001b[43mbounds\u001b[49m\u001b[43m,\u001b[49m\n\u001b[1;32m    709\u001b[0m \u001b[43m                          \u001b[49m\u001b[43mconstraints\u001b[49m\u001b[43m,\u001b[49m\u001b[43m \u001b[49m\u001b[43mcallback\u001b[49m\u001b[38;5;241;43m=\u001b[39;49m\u001b[43mcallback\u001b[49m\u001b[43m,\u001b[49m\u001b[43m \u001b[49m\u001b[38;5;241;43m*\u001b[39;49m\u001b[38;5;241;43m*\u001b[39;49m\u001b[43moptions\u001b[49m\u001b[43m)\u001b[49m\n\u001b[1;32m    710\u001b[0m \u001b[38;5;28;01melif\u001b[39;00m meth \u001b[38;5;241m==\u001b[39m \u001b[38;5;124m'\u001b[39m\u001b[38;5;124mtrust-constr\u001b[39m\u001b[38;5;124m'\u001b[39m:\n\u001b[1;32m    711\u001b[0m     res \u001b[38;5;241m=\u001b[39m _minimize_trustregion_constr(fun, x0, args, jac, hess, hessp,\n\u001b[1;32m    712\u001b[0m                                        bounds, constraints,\n\u001b[1;32m    713\u001b[0m                                        callback\u001b[38;5;241m=\u001b[39mcallback, \u001b[38;5;241m*\u001b[39m\u001b[38;5;241m*\u001b[39moptions)\n",
            "File \u001b[0;32m/opt/conda/lib/python3.9/site-packages/scipy/optimize/_slsqp_py.py:374\u001b[0m, in \u001b[0;36m_minimize_slsqp\u001b[0;34m(func, x0, args, jac, bounds, constraints, maxiter, ftol, iprint, disp, eps, callback, finite_diff_rel_step, **unknown_options)\u001b[0m\n\u001b[1;32m    371\u001b[0m     xu[infbnd[:, \u001b[38;5;241m1\u001b[39m]] \u001b[38;5;241m=\u001b[39m np\u001b[38;5;241m.\u001b[39mnan\n\u001b[1;32m    373\u001b[0m \u001b[38;5;66;03m# ScalarFunction provides function and gradient evaluation\u001b[39;00m\n\u001b[0;32m--> 374\u001b[0m sf \u001b[38;5;241m=\u001b[39m \u001b[43m_prepare_scalar_function\u001b[49m\u001b[43m(\u001b[49m\u001b[43mfunc\u001b[49m\u001b[43m,\u001b[49m\u001b[43m \u001b[49m\u001b[43mx\u001b[49m\u001b[43m,\u001b[49m\u001b[43m \u001b[49m\u001b[43mjac\u001b[49m\u001b[38;5;241;43m=\u001b[39;49m\u001b[43mjac\u001b[49m\u001b[43m,\u001b[49m\u001b[43m \u001b[49m\u001b[43margs\u001b[49m\u001b[38;5;241;43m=\u001b[39;49m\u001b[43margs\u001b[49m\u001b[43m,\u001b[49m\u001b[43m \u001b[49m\u001b[43mepsilon\u001b[49m\u001b[38;5;241;43m=\u001b[39;49m\u001b[43meps\u001b[49m\u001b[43m,\u001b[49m\n\u001b[1;32m    375\u001b[0m \u001b[43m                              \u001b[49m\u001b[43mfinite_diff_rel_step\u001b[49m\u001b[38;5;241;43m=\u001b[39;49m\u001b[43mfinite_diff_rel_step\u001b[49m\u001b[43m,\u001b[49m\n\u001b[1;32m    376\u001b[0m \u001b[43m                              \u001b[49m\u001b[43mbounds\u001b[49m\u001b[38;5;241;43m=\u001b[39;49m\u001b[43mnew_bounds\u001b[49m\u001b[43m)\u001b[49m\n\u001b[1;32m    377\u001b[0m \u001b[38;5;66;03m# gh11403 SLSQP sometimes exceeds bounds by 1 or 2 ULP, make sure this\u001b[39;00m\n\u001b[1;32m    378\u001b[0m \u001b[38;5;66;03m# doesn't get sent to the func/grad evaluator.\u001b[39;00m\n\u001b[1;32m    379\u001b[0m wrapped_fun \u001b[38;5;241m=\u001b[39m _clip_x_for_func(sf\u001b[38;5;241m.\u001b[39mfun, new_bounds)\n",
            "File \u001b[0;32m/opt/conda/lib/python3.9/site-packages/scipy/optimize/_optimize.py:263\u001b[0m, in \u001b[0;36m_prepare_scalar_function\u001b[0;34m(fun, x0, jac, args, bounds, epsilon, finite_diff_rel_step, hess)\u001b[0m\n\u001b[1;32m    259\u001b[0m     bounds \u001b[38;5;241m=\u001b[39m (\u001b[38;5;241m-\u001b[39mnp\u001b[38;5;241m.\u001b[39minf, np\u001b[38;5;241m.\u001b[39minf)\n\u001b[1;32m    261\u001b[0m \u001b[38;5;66;03m# ScalarFunction caches. Reuse of fun(x) during grad\u001b[39;00m\n\u001b[1;32m    262\u001b[0m \u001b[38;5;66;03m# calculation reduces overall function evaluations.\u001b[39;00m\n\u001b[0;32m--> 263\u001b[0m sf \u001b[38;5;241m=\u001b[39m \u001b[43mScalarFunction\u001b[49m\u001b[43m(\u001b[49m\u001b[43mfun\u001b[49m\u001b[43m,\u001b[49m\u001b[43m \u001b[49m\u001b[43mx0\u001b[49m\u001b[43m,\u001b[49m\u001b[43m \u001b[49m\u001b[43margs\u001b[49m\u001b[43m,\u001b[49m\u001b[43m \u001b[49m\u001b[43mgrad\u001b[49m\u001b[43m,\u001b[49m\u001b[43m \u001b[49m\u001b[43mhess\u001b[49m\u001b[43m,\u001b[49m\n\u001b[1;32m    264\u001b[0m \u001b[43m                    \u001b[49m\u001b[43mfinite_diff_rel_step\u001b[49m\u001b[43m,\u001b[49m\u001b[43m \u001b[49m\u001b[43mbounds\u001b[49m\u001b[43m,\u001b[49m\u001b[43m \u001b[49m\u001b[43mepsilon\u001b[49m\u001b[38;5;241;43m=\u001b[39;49m\u001b[43mepsilon\u001b[49m\u001b[43m)\u001b[49m\n\u001b[1;32m    266\u001b[0m \u001b[38;5;28;01mreturn\u001b[39;00m sf\n",
            "File \u001b[0;32m/opt/conda/lib/python3.9/site-packages/scipy/optimize/_differentiable_functions.py:158\u001b[0m, in \u001b[0;36mScalarFunction.__init__\u001b[0;34m(self, fun, x0, args, grad, hess, finite_diff_rel_step, finite_diff_bounds, epsilon)\u001b[0m\n\u001b[1;32m    155\u001b[0m     \u001b[38;5;28mself\u001b[39m\u001b[38;5;241m.\u001b[39mf \u001b[38;5;241m=\u001b[39m fun_wrapped(\u001b[38;5;28mself\u001b[39m\u001b[38;5;241m.\u001b[39mx)\n\u001b[1;32m    157\u001b[0m \u001b[38;5;28mself\u001b[39m\u001b[38;5;241m.\u001b[39m_update_fun_impl \u001b[38;5;241m=\u001b[39m update_fun\n\u001b[0;32m--> 158\u001b[0m \u001b[38;5;28;43mself\u001b[39;49m\u001b[38;5;241;43m.\u001b[39;49m\u001b[43m_update_fun\u001b[49m\u001b[43m(\u001b[49m\u001b[43m)\u001b[49m\n\u001b[1;32m    160\u001b[0m \u001b[38;5;66;03m# Gradient evaluation\u001b[39;00m\n\u001b[1;32m    161\u001b[0m \u001b[38;5;28;01mif\u001b[39;00m \u001b[38;5;28mcallable\u001b[39m(grad):\n",
            "File \u001b[0;32m/opt/conda/lib/python3.9/site-packages/scipy/optimize/_differentiable_functions.py:251\u001b[0m, in \u001b[0;36mScalarFunction._update_fun\u001b[0;34m(self)\u001b[0m\n\u001b[1;32m    249\u001b[0m \u001b[38;5;28;01mdef\u001b[39;00m \u001b[38;5;21m_update_fun\u001b[39m(\u001b[38;5;28mself\u001b[39m):\n\u001b[1;32m    250\u001b[0m     \u001b[38;5;28;01mif\u001b[39;00m \u001b[38;5;129;01mnot\u001b[39;00m \u001b[38;5;28mself\u001b[39m\u001b[38;5;241m.\u001b[39mf_updated:\n\u001b[0;32m--> 251\u001b[0m         \u001b[38;5;28;43mself\u001b[39;49m\u001b[38;5;241;43m.\u001b[39;49m\u001b[43m_update_fun_impl\u001b[49m\u001b[43m(\u001b[49m\u001b[43m)\u001b[49m\n\u001b[1;32m    252\u001b[0m         \u001b[38;5;28mself\u001b[39m\u001b[38;5;241m.\u001b[39mf_updated \u001b[38;5;241m=\u001b[39m \u001b[38;5;28;01mTrue\u001b[39;00m\n",
            "File \u001b[0;32m/opt/conda/lib/python3.9/site-packages/scipy/optimize/_differentiable_functions.py:155\u001b[0m, in \u001b[0;36mScalarFunction.__init__.<locals>.update_fun\u001b[0;34m()\u001b[0m\n\u001b[1;32m    154\u001b[0m \u001b[38;5;28;01mdef\u001b[39;00m \u001b[38;5;21mupdate_fun\u001b[39m():\n\u001b[0;32m--> 155\u001b[0m     \u001b[38;5;28mself\u001b[39m\u001b[38;5;241m.\u001b[39mf \u001b[38;5;241m=\u001b[39m \u001b[43mfun_wrapped\u001b[49m\u001b[43m(\u001b[49m\u001b[38;5;28;43mself\u001b[39;49m\u001b[38;5;241;43m.\u001b[39;49m\u001b[43mx\u001b[49m\u001b[43m)\u001b[49m\n",
            "File \u001b[0;32m/opt/conda/lib/python3.9/site-packages/scipy/optimize/_differentiable_functions.py:137\u001b[0m, in \u001b[0;36mScalarFunction.__init__.<locals>.fun_wrapped\u001b[0;34m(x)\u001b[0m\n\u001b[1;32m    133\u001b[0m \u001b[38;5;28mself\u001b[39m\u001b[38;5;241m.\u001b[39mnfev \u001b[38;5;241m+\u001b[39m\u001b[38;5;241m=\u001b[39m \u001b[38;5;241m1\u001b[39m\n\u001b[1;32m    134\u001b[0m \u001b[38;5;66;03m# Send a copy because the user may overwrite it.\u001b[39;00m\n\u001b[1;32m    135\u001b[0m \u001b[38;5;66;03m# Overwriting results in undefined behaviour because\u001b[39;00m\n\u001b[1;32m    136\u001b[0m \u001b[38;5;66;03m# fun(self.x) will change self.x, with the two no longer linked.\u001b[39;00m\n\u001b[0;32m--> 137\u001b[0m fx \u001b[38;5;241m=\u001b[39m \u001b[43mfun\u001b[49m\u001b[43m(\u001b[49m\u001b[43mnp\u001b[49m\u001b[38;5;241;43m.\u001b[39;49m\u001b[43mcopy\u001b[49m\u001b[43m(\u001b[49m\u001b[43mx\u001b[49m\u001b[43m)\u001b[49m\u001b[43m,\u001b[49m\u001b[43m \u001b[49m\u001b[38;5;241;43m*\u001b[39;49m\u001b[43margs\u001b[49m\u001b[43m)\u001b[49m\n\u001b[1;32m    138\u001b[0m \u001b[38;5;66;03m# Make sure the function returns a true scalar\u001b[39;00m\n\u001b[1;32m    139\u001b[0m \u001b[38;5;28;01mif\u001b[39;00m \u001b[38;5;129;01mnot\u001b[39;00m np\u001b[38;5;241m.\u001b[39misscalar(fx):\n",
            "Cell \u001b[0;32mIn[1], line 8\u001b[0m, in \u001b[0;36mobjective\u001b[0;34m(weights)\u001b[0m\n\u001b[1;32m      6\u001b[0m \u001b[38;5;66;03m# Calculate the VaR for the optimized portfolio\u001b[39;00m\n\u001b[1;32m      7\u001b[0m var_99_optimized \u001b[38;5;241m=\u001b[39m portfolio_returns_optimized\u001b[38;5;241m.\u001b[39mquantile(\u001b[38;5;241m0.01\u001b[39m)\n\u001b[0;32m----> 8\u001b[0m var_99_money_optimized \u001b[38;5;241m=\u001b[39m var_99_optimized \u001b[38;5;241m*\u001b[39m \u001b[43mtotal_investment\u001b[49m\n\u001b[1;32m      9\u001b[0m \u001b[38;5;66;03m# Return the absolute difference between the optimized VaR and the target VaR\u001b[39;00m\n\u001b[1;32m     10\u001b[0m \u001b[38;5;28;01mreturn\u001b[39;00m \u001b[38;5;28mabs\u001b[39m(var_99_money_optimized \u001b[38;5;241m+\u001b[39m \u001b[38;5;241m1000\u001b[39m)\n",
            "\u001b[0;31mNameError\u001b[0m: name 'total_investment' is not defined"
          ]
        }
      ],
      "execution_count": null,
      "metadata": {
        "noteable": {
          "cell_type": "code"
        },
        "ExecuteTime": {
          "start_time": "2023-08-05T02:17:38.611986+00:00",
          "end_time": "2023-08-05T02:17:39.618033+00:00"
        }
      },
      "id": "206e4261-4d9d-45c6-ac27-ff5c1a45a519"
    },
    {
      "cell_type": "code",
      "source": [
        "# Define the total investment\n",
        "total_investment = 1800 + 1874 + 3750 + 10000 + 7500\n",
        "\n",
        "# Redefine the necessary variables\n",
        "tickers = ['DBC', 'GLD', 'IEF', 'TLT', 'VTI']\n",
        "end_date = datetime.now()\n",
        "start_date = end_date - timedelta(days=5*365)\n",
        "data = yf.download(tickers, start=start_date, end=end_date)\n",
        "prices = data['Adj Close']\n",
        "returns = prices.pct_change().dropna()\n",
        "\n",
        "# Constraints: sum of weights is 1\n",
        "constraints = ({'type': 'eq', 'fun': lambda weights: np.sum(weights) - 1})\n",
        "\n",
        "# Bounds for weights: each weight is between 0 and 1\n",
        "bounds = [(0, 1) for asset in range(len(tickers))]\n",
        "\n",
        "# Initial guess for weights\n",
        "initial_weights = [1./len(tickers) for asset in tickers]\n",
        "\n",
        "# Run the optimizer\n",
        "solution = minimize(objective, initial_weights, method='SLSQP', bounds=bounds, constraints=constraints)\n",
        "optimized_weights = solution.x\n",
        "\n",
        "optimized_weights"
      ],
      "outputs": [
        {
          "output_type": "stream",
          "name": "stdout",
          "text": [
            "\r[                       0%                       ]"
          ]
        },
        {
          "output_type": "stream",
          "name": "stdout",
          "text": [
            "\r[*******************   40%                       ]  2 of 5 completed"
          ]
        },
        {
          "output_type": "stream",
          "name": "stdout",
          "text": [
            "\r[**********************60%****                   ]  3 of 5 completed"
          ]
        },
        {
          "output_type": "stream",
          "name": "stdout",
          "text": [
            "\r[**********************80%*************          ]  4 of 5 completed"
          ]
        },
        {
          "output_type": "stream",
          "name": "stdout",
          "text": [
            "\r[*********************100%***********************]  5 of 5 completed"
          ]
        },
        {
          "output_type": "stream",
          "name": "stdout",
          "text": [
            "\n"
          ]
        },
        {
          "output_type": "execute_result",
          "execution_count": null,
          "data": {
            "text/plain": "array([0.00000000e+00, 0.00000000e+00, 0.00000000e+00, 1.49716501e-09,\n       1.00000000e+00])"
          },
          "metadata": {}
        }
      ],
      "execution_count": null,
      "metadata": {
        "noteable": {
          "cell_type": "code"
        },
        "ExecuteTime": {
          "start_time": "2023-08-05T02:18:02.966166+00:00",
          "end_time": "2023-08-05T02:18:03.531012+00:00"
        }
      },
      "id": "64234d04-54a2-4465-8b96-c3f38568df96"
    },
    {
      "cell_type": "code",
      "source": [
        "# Define the deltas, gammas, and number of contracts for each option\n",
        "deltas = [0.6, -0.4, 0.7]\n",
        "gammas = [0.05, 0.03, 0.04]\n",
        "contracts = [100, 50, 150]\n",
        "# Calculate the portfolio delta and gamma\n",
        "portfolio_delta = sum([delta * contract for delta, contract in zip(deltas, contracts)])\n",
        "portfolio_gamma = sum([gamma * contract for gamma, contract in zip(gammas, contracts)])\n",
        "portfolio_delta, portfolio_gamma"
      ],
      "outputs": [
        {
          "output_type": "execute_result",
          "execution_count": null,
          "data": {
            "text/plain": "(145.0, 12.5)"
          },
          "metadata": {}
        }
      ],
      "execution_count": null,
      "metadata": {
        "noteable": {
          "cell_type": "code"
        },
        "ExecuteTime": {
          "start_time": "2023-08-05T02:21:59.486667+00:00",
          "end_time": "2023-08-05T02:21:59.648656+00:00"
        }
      },
      "id": "87d3124b-69ac-4b81-9e81-a3c982e0acb0"
    },
    {
      "cell_type": "code",
      "source": [
        "# Calculate the number of shares of the underlying stock needed to offset the portfolio's delta\n",
        "shares_to_trade = -portfolio_delta\n",
        "# Calculate the number of options contracts needed to offset the portfolio's gamma\n",
        "options_to_trade = -portfolio_gamma / option_gamma\n",
        "# Adjust the number of shares to trade for the gamma hedge\n",
        "shares_to_trade_adjusted = shares_to_trade + options_to_trade * option_delta\n",
        "shares_to_trade_adjusted, options_to_trade"
      ],
      "outputs": [
        {
          "output_type": "error",
          "ename": "NameError",
          "evalue": "name 'option_gamma' is not defined",
          "traceback": [
            "\u001b[0;31m---------------------------------------------------------------------------\u001b[0m",
            "\u001b[0;31mNameError\u001b[0m                                 Traceback (most recent call last)",
            "Cell \u001b[0;32mIn[12], line 4\u001b[0m\n\u001b[1;32m      2\u001b[0m shares_to_trade \u001b[38;5;241m=\u001b[39m \u001b[38;5;241m-\u001b[39mportfolio_delta\n\u001b[1;32m      3\u001b[0m \u001b[38;5;66;03m# Calculate the number of options contracts needed to offset the portfolio's gamma\u001b[39;00m\n\u001b[0;32m----> 4\u001b[0m options_to_trade \u001b[38;5;241m=\u001b[39m \u001b[38;5;241m-\u001b[39mportfolio_gamma \u001b[38;5;241m/\u001b[39m \u001b[43moption_gamma\u001b[49m\n\u001b[1;32m      5\u001b[0m \u001b[38;5;66;03m# Adjust the number of shares to trade for the gamma hedge\u001b[39;00m\n\u001b[1;32m      6\u001b[0m shares_to_trade_adjusted \u001b[38;5;241m=\u001b[39m shares_to_trade \u001b[38;5;241m+\u001b[39m options_to_trade \u001b[38;5;241m*\u001b[39m option_delta\n",
            "\u001b[0;31mNameError\u001b[0m: name 'option_gamma' is not defined"
          ]
        }
      ],
      "execution_count": null,
      "metadata": {
        "noteable": {
          "cell_type": "code"
        },
        "ExecuteTime": {
          "start_time": "2023-08-05T02:26:31.313834+00:00",
          "end_time": "2023-08-05T02:26:31.490561+00:00"
        }
      },
      "id": "5cc78932-99a7-46e5-a749-5ec5d045df28"
    },
    {
      "cell_type": "code",
      "source": [
        "# Define the delta and gamma of the available option on the power stock\n",
        "option_delta = 0.5\n",
        "option_gamma = 0.05\n",
        "# Calculate the number of shares of the underlying stock needed to offset the portfolio's delta\n",
        "shares_to_trade = -portfolio_delta\n",
        "# Calculate the number of options contracts needed to offset the portfolio's gamma\n",
        "options_to_trade = -portfolio_gamma / option_gamma\n",
        "# Adjust the number of shares to trade for the gamma hedge\n",
        "shares_to_trade_adjusted = shares_to_trade + options_to_trade * option_delta\n",
        "shares_to_trade_adjusted, options_to_trade"
      ],
      "outputs": [
        {
          "output_type": "execute_result",
          "execution_count": null,
          "data": {
            "text/plain": "(-270.0, -250.0)"
          },
          "metadata": {}
        }
      ],
      "execution_count": null,
      "metadata": {
        "noteable": {
          "cell_type": "code"
        },
        "ExecuteTime": {
          "start_time": "2023-08-05T02:26:50.401628+00:00",
          "end_time": "2023-08-05T02:26:50.562005+00:00"
        }
      },
      "id": "b258478c-6cd4-4bfd-9e55-8356e25a7544"
    },
    {
      "cell_type": "code",
      "source": [
        "class Portfolio:\n",
        "    def __init__(self):\n",
        "        self.positions = {}\n",
        "\n",
        "    def add_position(self, ticker, size, price, delta):\n",
        "        self.positions[ticker] = {'size': size, 'price': price, 'delta': delta}\n",
        "\n",
        "    def remove_position(self, ticker):\n",
        "        if ticker in self.positions:\n",
        "            del self.positions[ticker]\n",
        "        else:\n",
        "            print(f\"{ticker} not found in the portfolio.\")\n",
        "\n",
        "    def calculate_hedge(self):\n",
        "        total_delta = sum([position['size'] * position['delta'] for position in self.positions.values()])\n",
        "        if total_delta > 0:\n",
        "            return f\"You need to short {total_delta} shares of the underlying to hedge the portfolio.\"\n",
        "        elif total_delta < 0:\n",
        "            return f\"You need to buy {-total_delta} shares of the underlying to hedge the portfolio.\"\n",
        "        else:\n",
        "            return \"Your portfolio is already delta neutral.\"\n",
        "\n",
        "# Test the Portfolio class\n",
        "portfolio = Portfolio()\n",
        "portfolio.add_position('AAPL', 100, 150, 0.6)\n",
        "portfolio.add_position('MSFT', 50, 250, 0.5)\n",
        "hedge_message = portfolio.calculate_hedge()\n",
        "hedge_message"
      ],
      "outputs": [
        {
          "output_type": "execute_result",
          "execution_count": null,
          "data": {
            "text/plain": "'You need to short 85.0 shares of the underlying to hedge the portfolio.'"
          },
          "metadata": {}
        }
      ],
      "execution_count": null,
      "metadata": {
        "noteable": {
          "cell_type": "code"
        },
        "ExecuteTime": {
          "start_time": "2023-08-05T02:30:21.062026+00:00",
          "end_time": "2023-08-05T02:30:21.228151+00:00"
        }
      },
      "id": "39d74e96-82af-4b97-98a8-29837b3ad71e"
    },
    {
      "cell_type": "code",
      "source": [
        "class Portfolio:\n",
        "    def __init__(self):\n",
        "        self.positions = {}\n",
        "\n",
        "    def add_position(self, ticker, size, price, delta, gamma=0):\n",
        "        # Gamma is set to 0 by default since stocks don't have gamma\n",
        "        self.positions[ticker] = {'size': size, 'price': price, 'delta': delta, 'gamma': gamma}\n",
        "\n",
        "    def remove_position(self, ticker):\n",
        "        if ticker in self.positions:\n",
        "            del self.positions[ticker]\n",
        "        else:\n",
        "            print(f\"{ticker} not found in the portfolio.\")\n",
        "\n",
        "    def calculate_hedge(self):\n",
        "        total_delta = sum([position['size'] * position['delta'] for position in self.positions.values()])\n",
        "        total_gamma = sum([position['size'] * position['gamma'] for position in self.positions.values()])\n",
        "\n",
        "        # Delta hedge using underlying stock\n",
        "        shares_to_trade = -total_delta\n",
        "\n",
        "        # Gamma hedge using options\n",
        "        # Assuming we have an option available with a delta of 0.5 and gamma of 0.05\n",
        "        option_delta = 0.5\n",
        "        option_gamma = 0.05\n",
        "        options_to_trade = -total_gamma / option_gamma\n",
        "\n",
        "        # Adjust the number of shares to trade for the gamma hedge\n",
        "        shares_to_trade += options_to_trade * option_delta\n",
        "\n",
        "        return shares_to_trade, options_to_trade\n",
        "\n",
        "# Test the Portfolio class with both delta and gamma hedging\n",
        "portfolio = Portfolio()\n",
        "portfolio.add_position('AAPL', 100, 150, 0.6, 0.05)\n",
        "portfolio.add_position('MSFT', 50, 250, 0.5, 0.04)\n",
        "shares_to_trade, options_to_trade = portfolio.calculate_hedge()\n",
        "shares_to_trade, options_to_trade"
      ],
      "outputs": [
        {
          "output_type": "execute_result",
          "execution_count": null,
          "data": {
            "text/plain": "(-155.0, -140.0)"
          },
          "metadata": {}
        }
      ],
      "execution_count": null,
      "metadata": {
        "noteable": {
          "cell_type": "code"
        },
        "ExecuteTime": {
          "start_time": "2023-08-05T02:34:38.275036+00:00",
          "end_time": "2023-08-05T02:34:38.440457+00:00"
        }
      },
      "id": "34a06ce3-625d-4124-9650-7f4ce3f83d7f"
    },
    {
      "cell_type": "code",
      "source": [
        "# Perform the suggested delta hedge by shorting 155 shares of the underlying\n",
        "portfolio.add_position('Underlying', -155, 100, 1)  # Assuming a generic 'Underlying' with price $100 and delta of 1 for simplicity\n",
        "\n",
        "# Calculate the new hedge requirements\n",
        "new_shares_to_trade, new_options_to_trade = portfolio.calculate_hedge()\n",
        "new_shares_to_trade, new_options_to_trade"
      ],
      "outputs": [
        {
          "output_type": "execute_result",
          "execution_count": null,
          "data": {
            "text/plain": "(0.0, -140.0)"
          },
          "metadata": {}
        }
      ],
      "execution_count": null,
      "metadata": {
        "noteable": {
          "cell_type": "code"
        },
        "ExecuteTime": {
          "start_time": "2023-08-05T02:36:03.369623+00:00",
          "end_time": "2023-08-05T02:36:03.528853+00:00"
        }
      },
      "id": "8795221c-88e8-42e7-9beb-24e775bfa497"
    },
    {
      "cell_type": "code",
      "source": [
        "# Perform the suggested gamma hedge by shorting 140 options contracts\n",
        "# Assuming a generic 'Option' with price $10, delta of 0.5, and gamma of 0.05 for simplicity\n",
        "portfolio.add_position('Option', -140, 10, 0.5, 0.05)\n",
        "\n",
        "# Calculate the new hedge requirements after performing both delta and gamma hedges\n",
        "final_shares_to_trade, final_options_to_trade = portfolio.calculate_hedge()\n",
        "final_shares_to_trade, final_options_to_trade"
      ],
      "outputs": [
        {
          "output_type": "execute_result",
          "execution_count": null,
          "data": {
            "text/plain": "(140.0, -0.0)"
          },
          "metadata": {}
        }
      ],
      "execution_count": null,
      "metadata": {
        "noteable": {
          "cell_type": "code"
        },
        "ExecuteTime": {
          "start_time": "2023-08-05T02:36:51.767703+00:00",
          "end_time": "2023-08-05T02:36:51.928809+00:00"
        }
      },
      "id": "3c740f5b-1c4f-4059-bdca-b13ee47755ad"
    },
    {
      "cell_type": "code",
      "source": [
        "class Portfolio:\n",
        "    def __init__(self):\n",
        "        self.positions = {}\n",
        "\n",
        "    def add_position(self, ticker, size, price, delta, gamma=0):\n",
        "        # Gamma is set to 0 by default since stocks don't have gamma\n",
        "        self.positions[ticker] = {'size': size, 'price': price, 'delta': delta, 'gamma': gamma}\n",
        "\n",
        "    def remove_position(self, ticker):\n",
        "        if ticker in self.positions:\n",
        "            del self.positions[ticker]\n",
        "        else:\n",
        "            print(f\"{ticker} not found in the portfolio.\")\n",
        "\n",
        "    def calculate_hedge(self):\n",
        "        total_delta = sum([position['size'] * position['delta'] for position in self.positions.values()])\n",
        "        total_gamma = sum([position['size'] * position['gamma'] for position in self.positions.values()])\n",
        "\n",
        "        # Gamma hedge using options\n",
        "        # Assuming we have an option available with a delta of 0.5 and gamma of 0.05\n",
        "        option_delta = 0.5\n",
        "        option_gamma = 0.05\n",
        "        options_to_trade = -total_gamma / option_gamma\n",
        "\n",
        "        # Adjust the number of shares to trade for both the original delta and the new delta introduced by the gamma hedge\n",
        "        shares_to_trade = -total_delta + options_to_trade * option_delta\n",
        "\n",
        "        return shares_to_trade, options_to_trade\n",
        "\n",
        "# Test the Portfolio class with combined delta and gamma hedging\n",
        "portfolio = Portfolio()\n",
        "portfolio.add_position('AAPL', 100, 150, 0.6, 0.05)\n",
        "portfolio.add_position('MSFT', 50, 250, 0.5, 0.04)\n",
        "combined_shares_to_trade, combined_options_to_trade = portfolio.calculate_hedge()\n",
        "combined_shares_to_trade, combined_options_to_trade"
      ],
      "outputs": [
        {
          "output_type": "execute_result",
          "execution_count": null,
          "data": {
            "text/plain": "(-155.0, -140.0)"
          },
          "metadata": {}
        }
      ],
      "execution_count": null,
      "metadata": {
        "noteable": {
          "cell_type": "code"
        },
        "ExecuteTime": {
          "start_time": "2023-08-05T02:39:54.525412+00:00",
          "end_time": "2023-08-05T02:39:54.691780+00:00"
        }
      },
      "id": "dc8c18b9-5860-40c6-8faa-9e5d1d5c56d1"
    },
    {
      "cell_type": "code",
      "source": [
        "Portfolio??"
      ],
      "outputs": [
        {
          "output_type": "execute_result",
          "execution_count": null,
          "data": {
            "text/plain": "\u001b[0;31mInit signature:\u001b[0m \u001b[0mPortfolio\u001b[0m\u001b[0;34m(\u001b[0m\u001b[0;34m)\u001b[0m\u001b[0;34m\u001b[0m\u001b[0;34m\u001b[0m\u001b[0m\n\u001b[0;31mDocstring:\u001b[0m      <no docstring>\n\u001b[0;31mType:\u001b[0m           type\n\u001b[0;31mSubclasses:\u001b[0m     "
          },
          "metadata": {}
        }
      ],
      "execution_count": null,
      "metadata": {
        "noteable": {
          "cell_type": "code"
        },
        "ExecuteTime": {
          "start_time": "2023-08-05T02:43:10.939908+00:00",
          "end_time": "2023-08-05T02:43:11.097825+00:00"
        }
      },
      "id": "6802b970-4e1a-4f00-83d7-bc3a812e83b7"
    },
    {
      "cell_type": "code",
      "source": [
        "class Portfolio:\n",
        "    def __init__(self):\n",
        "        self.positions = {}\n",
        "\n",
        "    def add_position(self, ticker, size, price, delta, gamma=0):\n",
        "        self.positions[ticker] = {'size': size, 'price': price, 'delta': delta, 'gamma': gamma}\n",
        "\n",
        "    def remove_position(self, ticker):\n",
        "        if ticker in self.positions:\n",
        "            del self.positions[ticker]\n",
        "        else:\n",
        "            print(f\"{ticker} not found in the portfolio.\")\n",
        "\n",
        "    def calculate_hedge(self):\n",
        "        total_delta = sum([position['size'] * position['delta'] for position in self.positions.values()])\n",
        "        total_gamma = sum([position['size'] * position['gamma'] for position in self.positions.values()])\n",
        "        option_delta = 0.5\n",
        "        option_gamma = 0.05\n",
        "        options_to_trade = -total_gamma / option_gamma\n",
        "        shares_to_trade = -total_delta + options_to_trade * option_delta\n",
        "        return shares_to_trade, options_to_trade\n",
        "\n",
        "    def view_portfolio(self):\n",
        "        return self.positions\n",
        "\n",
        "# Test the updated Portfolio class\n",
        "portfolio = Portfolio()\n",
        "portfolio.add_position('AAPL', 100, 150, 0.6, 0.05)\n",
        "portfolio.add_position('MSFT', 50, 250, 0.5, 0.04)\n",
        "portfolio_contents = portfolio.view_portfolio()\n",
        "portfolio_contents"
      ],
      "outputs": [
        {
          "output_type": "execute_result",
          "execution_count": null,
          "data": {
            "text/plain": "{'AAPL': {'size': 100, 'price': 150, 'delta': 0.6, 'gamma': 0.05},\n 'MSFT': {'size': 50, 'price': 250, 'delta': 0.5, 'gamma': 0.04}}"
          },
          "metadata": {}
        }
      ],
      "execution_count": null,
      "metadata": {
        "noteable": {
          "cell_type": "code"
        },
        "ExecuteTime": {
          "start_time": "2023-08-05T02:44:11.530549+00:00",
          "end_time": "2023-08-05T02:44:11.697495+00:00"
        }
      },
      "id": "70d450e4-3cdc-45e0-8874-1ec5612a7b72"
    },
    {
      "cell_type": "code",
      "source": [
        "import numpy as np\n",
        "\n",
        "class Portfolio:\n",
        "    def __init__(self):\n",
        "        self.positions = {}\n",
        "\n",
        "    def add_position(self, ticker, size, price, delta, gamma=0, historical_prices=None):\n",
        "        self.positions[ticker] = {'size': size, 'price': price, 'delta': delta, 'gamma': gamma, 'historical_prices': historical_prices}\n",
        "\n",
        "    def remove_position(self, ticker):\n",
        "        if ticker in self.positions:\n",
        "            del self.positions[ticker]\n",
        "        else:\n",
        "            print(f\"{ticker} not found in the portfolio.\")\n",
        "\n",
        "    def calculate_VaR(self, confidence_level=0.99, target_VaR=10000):\n",
        "        # Using historical simulation method for VaR\n",
        "        portfolio_returns = []\n",
        "        for position in self.positions.values():\n",
        "            if position['historical_prices']:\n",
        "                daily_returns = np.diff(position['historical_prices']) / position['historical_prices'][:-1]\n",
        "                weighted_returns = daily_returns * position['size']\n",
        "                portfolio_returns.append(weighted_returns)\n",
        "\n",
        "        portfolio_returns = np.sum(portfolio_returns, axis=0)\n",
        "        VaR = -np.percentile(portfolio_returns, 100 - (confidence_level * 100))\n",
        "\n",
        "        # Adjust portfolio to meet target VaR\n",
        "        # This is a simplified approach; in practice, more sophisticated methods might be used\n",
        "        while VaR > target_VaR:\n",
        "            # Reduce the largest position by 10% as a simple adjustment\n",
        "            largest_position = max(self.positions.keys(), key=lambda x: self.positions[x]['size'])\n",
        "            self.positions[largest_position]['size'] *= 0.9\n",
        "            VaR = -np.percentile(portfolio_returns, 100 - (confidence_level * 100))\n",
        "\n",
        "        return VaR\n",
        "\n",
        "    def calculate_hedge(self):\n",
        "        total_delta = sum([position['size'] * position['delta'] for position in self.positions.values()])\n",
        "        total_gamma = sum([position['size'] * position['gamma'] for position in self.positions.values()])\n",
        "        option_delta = 0.5\n",
        "        option_gamma = 0.05\n",
        "        options_to_trade = -total_gamma / option_gamma\n",
        "        shares_to_trade = -total_delta + options_to_trade * option_delta\n",
        "        return shares_to_trade, options_to_trade\n",
        "\n",
        "    def view_portfolio(self):\n",
        "        return self.positions\n",
        "\n",
        "# Test the updated Portfolio class with VaR constraint\n",
        "portfolio = Portfolio()\n",
        "portfolio.add_position('AAPL', 100, 150, 0.6, 0.05, historical_prices=np.random.rand(100) * 150)\n",
        "portfolio.add_position('MSFT', 50, 250, 0.5, 0.04, historical_prices=np.random.rand(100) * 250)\n",
        "VaR = portfolio.calculate_VaR()\n",
        "combined_shares_to_trade, combined_options_to_trade = portfolio.calculate_hedge()\n",
        "VaR, combined_shares_to_trade, combined_options_to_trade"
      ],
      "outputs": [
        {
          "output_type": "error",
          "ename": "ValueError",
          "evalue": "The truth value of an array with more than one element is ambiguous. Use a.any() or a.all()",
          "traceback": [
            "\u001b[0;31m---------------------------------------------------------------------------\u001b[0m",
            "\u001b[0;31mValueError\u001b[0m                                Traceback (most recent call last)",
            "Cell \u001b[0;32mIn[21], line 54\u001b[0m\n\u001b[1;32m     52\u001b[0m portfolio\u001b[38;5;241m.\u001b[39madd_position(\u001b[38;5;124m'\u001b[39m\u001b[38;5;124mAAPL\u001b[39m\u001b[38;5;124m'\u001b[39m, \u001b[38;5;241m100\u001b[39m, \u001b[38;5;241m150\u001b[39m, \u001b[38;5;241m0.6\u001b[39m, \u001b[38;5;241m0.05\u001b[39m, historical_prices\u001b[38;5;241m=\u001b[39mnp\u001b[38;5;241m.\u001b[39mrandom\u001b[38;5;241m.\u001b[39mrand(\u001b[38;5;241m100\u001b[39m) \u001b[38;5;241m*\u001b[39m \u001b[38;5;241m150\u001b[39m)\n\u001b[1;32m     53\u001b[0m portfolio\u001b[38;5;241m.\u001b[39madd_position(\u001b[38;5;124m'\u001b[39m\u001b[38;5;124mMSFT\u001b[39m\u001b[38;5;124m'\u001b[39m, \u001b[38;5;241m50\u001b[39m, \u001b[38;5;241m250\u001b[39m, \u001b[38;5;241m0.5\u001b[39m, \u001b[38;5;241m0.04\u001b[39m, historical_prices\u001b[38;5;241m=\u001b[39mnp\u001b[38;5;241m.\u001b[39mrandom\u001b[38;5;241m.\u001b[39mrand(\u001b[38;5;241m100\u001b[39m) \u001b[38;5;241m*\u001b[39m \u001b[38;5;241m250\u001b[39m)\n\u001b[0;32m---> 54\u001b[0m VaR \u001b[38;5;241m=\u001b[39m \u001b[43mportfolio\u001b[49m\u001b[38;5;241;43m.\u001b[39;49m\u001b[43mcalculate_VaR\u001b[49m\u001b[43m(\u001b[49m\u001b[43m)\u001b[49m\n\u001b[1;32m     55\u001b[0m combined_shares_to_trade, combined_options_to_trade \u001b[38;5;241m=\u001b[39m portfolio\u001b[38;5;241m.\u001b[39mcalculate_hedge()\n\u001b[1;32m     56\u001b[0m VaR, combined_shares_to_trade, combined_options_to_trade\n",
            "Cell \u001b[0;32mIn[21], line 20\u001b[0m, in \u001b[0;36mPortfolio.calculate_VaR\u001b[0;34m(self, confidence_level, target_VaR)\u001b[0m\n\u001b[1;32m     18\u001b[0m portfolio_returns \u001b[38;5;241m=\u001b[39m []\n\u001b[1;32m     19\u001b[0m \u001b[38;5;28;01mfor\u001b[39;00m position \u001b[38;5;129;01min\u001b[39;00m \u001b[38;5;28mself\u001b[39m\u001b[38;5;241m.\u001b[39mpositions\u001b[38;5;241m.\u001b[39mvalues():\n\u001b[0;32m---> 20\u001b[0m     \u001b[38;5;28;01mif\u001b[39;00m position[\u001b[38;5;124m'\u001b[39m\u001b[38;5;124mhistorical_prices\u001b[39m\u001b[38;5;124m'\u001b[39m]:\n\u001b[1;32m     21\u001b[0m         daily_returns \u001b[38;5;241m=\u001b[39m np\u001b[38;5;241m.\u001b[39mdiff(position[\u001b[38;5;124m'\u001b[39m\u001b[38;5;124mhistorical_prices\u001b[39m\u001b[38;5;124m'\u001b[39m]) \u001b[38;5;241m/\u001b[39m position[\u001b[38;5;124m'\u001b[39m\u001b[38;5;124mhistorical_prices\u001b[39m\u001b[38;5;124m'\u001b[39m][:\u001b[38;5;241m-\u001b[39m\u001b[38;5;241m1\u001b[39m]\n\u001b[1;32m     22\u001b[0m         weighted_returns \u001b[38;5;241m=\u001b[39m daily_returns \u001b[38;5;241m*\u001b[39m position[\u001b[38;5;124m'\u001b[39m\u001b[38;5;124msize\u001b[39m\u001b[38;5;124m'\u001b[39m]\n",
            "\u001b[0;31mValueError\u001b[0m: The truth value of an array with more than one element is ambiguous. Use a.any() or a.all()"
          ]
        }
      ],
      "execution_count": null,
      "metadata": {
        "noteable": {
          "cell_type": "code"
        },
        "ExecuteTime": {
          "start_time": "2023-08-05T02:47:02.492260+00:00",
          "end_time": "2023-08-05T02:47:02.715150+00:00"
        }
      },
      "id": "7014edd4-876c-48c4-a243-a9690687764d"
    },
    {
      "cell_type": "code",
      "source": [
        "class Portfolio:\n",
        "    def __init__(self):\n",
        "        self.positions = {}\n",
        "\n",
        "    def add_position(self, ticker, size, price, delta, gamma=0, historical_prices=None):\n",
        "        self.positions[ticker] = {'size': size, 'price': price, 'delta': delta, 'gamma': gamma, 'historical_prices': historical_prices}\n",
        "\n",
        "    def remove_position(self, ticker):\n",
        "        if ticker in self.positions:\n",
        "            del self.positions[ticker]\n",
        "        else:\n",
        "            print(f\"{ticker} not found in the portfolio.\")\n",
        "\n",
        "    def calculate_VaR(self, confidence_level=0.99, target_VaR=10000):\n",
        "        # Using historical simulation method for VaR\n",
        "        portfolio_returns = []\n",
        "        for position in self.positions.values():\n",
        "            if position['historical_prices']:\n",
        "                daily_returns = np.diff(position['historical_prices']) / position['historical_prices'][:-1]\n",
        "                weighted_returns = daily_returns * position['size']\n",
        "                portfolio_returns.append(weighted_returns)\n",
        "\n",
        "        portfolio_returns = np.sum(portfolio_returns, axis=0)\n",
        "        VaR = -np.percentile(portfolio_returns, 100 - (confidence_level * 100))\n",
        "\n",
        "        # Adjust portfolio to meet target VaR\n",
        "        # This is a simplified approach; in practice, more sophisticated methods might be used\n",
        "        while VaR > target_VaR:\n",
        "            # Reduce the largest position by 10% as a simple adjustment\n",
        "            largest_position = max(self.positions.keys(), key=lambda x: self.positions[x]['size'])\n",
        "            self.positions[largest_position]['size'] *= 0.9\n",
        "            # Recalculate VaR after adjustment\n",
        "            portfolio_returns = []\n",
        "            for position in self.positions.values():\n",
        "                if position['historical_prices']:\n",
        "                    daily_returns = np.diff(position['historical_prices']) / position['historical_prices'][:-1]\n",
        "                    weighted_returns = daily_returns * position['size']\n",
        "                    portfolio_returns.append(weighted_returns)\n",
        "            portfolio_returns = np.sum(portfolio_returns, axis=0)\n",
        "            VaR = -np.percentile(portfolio_returns, 100 - (confidence_level * 100))\n",
        "\n",
        "        return VaR\n",
        "\n",
        "    def calculate_hedge(self):\n",
        "        total_delta = sum([position['size'] * position['delta'] for position in self.positions.values()])\n",
        "        total_gamma = sum([position['size'] * position['gamma'] for position in self.positions.values()])\n",
        "        option_delta = 0.5\n",
        "        option_gamma = 0.05\n",
        "        options_to_trade = -total_gamma / option_gamma\n",
        "        shares_to_trade = -total_delta + options_to_trade * option_delta\n",
        "        return shares_to_trade, options_to_trade\n",
        "\n",
        "    def view_portfolio(self):\n",
        "        return self.positions\n",
        "\n",
        "# Test the updated Portfolio class with VaR constraint\n",
        "portfolio = Portfolio()\n",
        "portfolio.add_position('AAPL', 100, 150, 0.6, 0.05, historical_prices=np.random.rand(100) * 150)\n",
        "portfolio.add_position('MSFT', 50, 250, 0.5, 0.04, historical_prices=np.random.rand(100) * 250)\n",
        "VaR = portfolio.calculate_VaR()\n",
        "combined_shares_to_trade, combined_options_to_trade = portfolio.calculate_hedge()\n",
        "VaR, combined_shares_to_trade, combined_options_to_trade"
      ],
      "outputs": [
        {
          "output_type": "error",
          "ename": "ValueError",
          "evalue": "The truth value of an array with more than one element is ambiguous. Use a.any() or a.all()",
          "traceback": [
            "\u001b[0;31m---------------------------------------------------------------------------\u001b[0m",
            "\u001b[0;31mValueError\u001b[0m                                Traceback (most recent call last)",
            "Cell \u001b[0;32mIn[22], line 60\u001b[0m\n\u001b[1;32m     58\u001b[0m portfolio\u001b[38;5;241m.\u001b[39madd_position(\u001b[38;5;124m'\u001b[39m\u001b[38;5;124mAAPL\u001b[39m\u001b[38;5;124m'\u001b[39m, \u001b[38;5;241m100\u001b[39m, \u001b[38;5;241m150\u001b[39m, \u001b[38;5;241m0.6\u001b[39m, \u001b[38;5;241m0.05\u001b[39m, historical_prices\u001b[38;5;241m=\u001b[39mnp\u001b[38;5;241m.\u001b[39mrandom\u001b[38;5;241m.\u001b[39mrand(\u001b[38;5;241m100\u001b[39m) \u001b[38;5;241m*\u001b[39m \u001b[38;5;241m150\u001b[39m)\n\u001b[1;32m     59\u001b[0m portfolio\u001b[38;5;241m.\u001b[39madd_position(\u001b[38;5;124m'\u001b[39m\u001b[38;5;124mMSFT\u001b[39m\u001b[38;5;124m'\u001b[39m, \u001b[38;5;241m50\u001b[39m, \u001b[38;5;241m250\u001b[39m, \u001b[38;5;241m0.5\u001b[39m, \u001b[38;5;241m0.04\u001b[39m, historical_prices\u001b[38;5;241m=\u001b[39mnp\u001b[38;5;241m.\u001b[39mrandom\u001b[38;5;241m.\u001b[39mrand(\u001b[38;5;241m100\u001b[39m) \u001b[38;5;241m*\u001b[39m \u001b[38;5;241m250\u001b[39m)\n\u001b[0;32m---> 60\u001b[0m VaR \u001b[38;5;241m=\u001b[39m \u001b[43mportfolio\u001b[49m\u001b[38;5;241;43m.\u001b[39;49m\u001b[43mcalculate_VaR\u001b[49m\u001b[43m(\u001b[49m\u001b[43m)\u001b[49m\n\u001b[1;32m     61\u001b[0m combined_shares_to_trade, combined_options_to_trade \u001b[38;5;241m=\u001b[39m portfolio\u001b[38;5;241m.\u001b[39mcalculate_hedge()\n\u001b[1;32m     62\u001b[0m VaR, combined_shares_to_trade, combined_options_to_trade\n",
            "Cell \u001b[0;32mIn[22], line 18\u001b[0m, in \u001b[0;36mPortfolio.calculate_VaR\u001b[0;34m(self, confidence_level, target_VaR)\u001b[0m\n\u001b[1;32m     16\u001b[0m portfolio_returns \u001b[38;5;241m=\u001b[39m []\n\u001b[1;32m     17\u001b[0m \u001b[38;5;28;01mfor\u001b[39;00m position \u001b[38;5;129;01min\u001b[39;00m \u001b[38;5;28mself\u001b[39m\u001b[38;5;241m.\u001b[39mpositions\u001b[38;5;241m.\u001b[39mvalues():\n\u001b[0;32m---> 18\u001b[0m     \u001b[38;5;28;01mif\u001b[39;00m position[\u001b[38;5;124m'\u001b[39m\u001b[38;5;124mhistorical_prices\u001b[39m\u001b[38;5;124m'\u001b[39m]:\n\u001b[1;32m     19\u001b[0m         daily_returns \u001b[38;5;241m=\u001b[39m np\u001b[38;5;241m.\u001b[39mdiff(position[\u001b[38;5;124m'\u001b[39m\u001b[38;5;124mhistorical_prices\u001b[39m\u001b[38;5;124m'\u001b[39m]) \u001b[38;5;241m/\u001b[39m position[\u001b[38;5;124m'\u001b[39m\u001b[38;5;124mhistorical_prices\u001b[39m\u001b[38;5;124m'\u001b[39m][:\u001b[38;5;241m-\u001b[39m\u001b[38;5;241m1\u001b[39m]\n\u001b[1;32m     20\u001b[0m         weighted_returns \u001b[38;5;241m=\u001b[39m daily_returns \u001b[38;5;241m*\u001b[39m position[\u001b[38;5;124m'\u001b[39m\u001b[38;5;124msize\u001b[39m\u001b[38;5;124m'\u001b[39m]\n",
            "\u001b[0;31mValueError\u001b[0m: The truth value of an array with more than one element is ambiguous. Use a.any() or a.all()"
          ]
        }
      ],
      "execution_count": null,
      "metadata": {
        "noteable": {
          "cell_type": "code"
        },
        "ExecuteTime": {
          "start_time": "2023-08-05T02:48:30.843487+00:00",
          "end_time": "2023-08-05T02:48:31.077391+00:00"
        }
      },
      "id": "97f6bee0-b4b2-4258-8c9b-559d6cd9b2e5"
    },
    {
      "cell_type": "code",
      "source": [
        "class Portfolio:\n",
        "    def __init__(self):\n",
        "        self.positions = {}\n",
        "\n",
        "    def add_position(self, ticker, size, price, delta, gamma=0, historical_prices=None):\n",
        "        self.positions[ticker] = {'size': size, 'price': price, 'delta': delta, 'gamma': gamma, 'historical_prices': historical_prices}\n",
        "\n",
        "    def remove_position(self, ticker):\n",
        "        if ticker in self.positions:\n",
        "            del self.positions[ticker]\n",
        "        else:\n",
        "            print(f\"{ticker} not found in the portfolio.\")\n",
        "\n",
        "    def calculate_VaR(self, confidence_level=0.99, target_VaR=10000):\n",
        "        # Using historical simulation method for VaR\n",
        "        portfolio_returns = []\n",
        "        for position in self.positions.values():\n",
        "            if position['historical_prices']:\n",
        "                daily_returns = np.diff(position['historical_prices']) / position['historical_prices'][:-1]\n",
        "                weighted_returns = daily_returns * position['size']\n",
        "                portfolio_returns.append(weighted_returns)\n",
        "\n",
        "        portfolio_returns = np.sum(portfolio_returns, axis=0)\n",
        "        VaR = -np.percentile(portfolio_returns, 100 - (confidence_level * 100))\n",
        "\n",
        "        # Adjust portfolio to meet target VaR\n",
        "        # This is a simplified approach; in practice, more sophisticated methods might be used\n",
        "        while VaR > target_VaR:\n",
        "            # Reduce the largest position by 10% as a simple adjustment\n",
        "            largest_position = max(self.positions.keys(), key=lambda x: self.positions[x]['size'])\n",
        "            self.positions[largest_position]['size'] *= 0.9\n",
        "            # Recalculate VaR after adjustment\n",
        "            portfolio_returns = []\n",
        "            for position in self.positions.values():\n",
        "                if position['historical_prices']:\n",
        "                    daily_returns = np.diff(position['historical_prices']) / position['historical_prices'][:-1]\n",
        "                    weighted_returns = daily_returns * position['size']\n",
        "                    portfolio_returns.append(weighted_returns)\n",
        "            portfolio_returns = np.sum(portfolio_returns, axis=0)\n",
        "            VaR = -np.percentile(portfolio_returns, 100 - (confidence_level * 100))\n",
        "\n",
        "        return VaR\n",
        "\n",
        "    def calculate_hedge(self):\n",
        "        total_delta = sum([position['size'] * position['delta'] for position in self.positions.values()])\n",
        "        total_gamma = sum([position['size'] * position['gamma'] for position in self.positions.values()])\n",
        "        option_delta = 0.5\n",
        "        option_gamma = 0.05\n",
        "        options_to_trade = -total_gamma / option_gamma\n",
        "        shares_to_trade = -total_delta + options_to_trade * option_delta\n",
        "        return shares_to_trade, options_to_trade\n",
        "\n",
        "    def view_portfolio(self):\n",
        "        return self.positions\n",
        "\n",
        "# Test the updated Portfolio class with VaR constraint\n",
        "portfolio = Portfolio()\n",
        "portfolio.add_position('AAPL', 100, 150, 0.6, 0.05, historical_prices=np.random.rand(100) * 150)\n",
        "portfolio.add_position('MSFT', 50, 250, 0.5, 0.04, historical_prices=np.random.rand(100) * 250)\n",
        "VaR = portfolio.calculate_VaR()\n",
        "combined_shares_to_trade, combined_options_to_trade = portfolio.calculate_hedge()\n",
        "VaR, combined_shares_to_trade, combined_options_to_trade"
      ],
      "outputs": [
        {
          "output_type": "error",
          "ename": "ValueError",
          "evalue": "The truth value of an array with more than one element is ambiguous. Use a.any() or a.all()",
          "traceback": [
            "\u001b[0;31m---------------------------------------------------------------------------\u001b[0m",
            "\u001b[0;31mValueError\u001b[0m                                Traceback (most recent call last)",
            "Cell \u001b[0;32mIn[23], line 60\u001b[0m\n\u001b[1;32m     58\u001b[0m portfolio\u001b[38;5;241m.\u001b[39madd_position(\u001b[38;5;124m'\u001b[39m\u001b[38;5;124mAAPL\u001b[39m\u001b[38;5;124m'\u001b[39m, \u001b[38;5;241m100\u001b[39m, \u001b[38;5;241m150\u001b[39m, \u001b[38;5;241m0.6\u001b[39m, \u001b[38;5;241m0.05\u001b[39m, historical_prices\u001b[38;5;241m=\u001b[39mnp\u001b[38;5;241m.\u001b[39mrandom\u001b[38;5;241m.\u001b[39mrand(\u001b[38;5;241m100\u001b[39m) \u001b[38;5;241m*\u001b[39m \u001b[38;5;241m150\u001b[39m)\n\u001b[1;32m     59\u001b[0m portfolio\u001b[38;5;241m.\u001b[39madd_position(\u001b[38;5;124m'\u001b[39m\u001b[38;5;124mMSFT\u001b[39m\u001b[38;5;124m'\u001b[39m, \u001b[38;5;241m50\u001b[39m, \u001b[38;5;241m250\u001b[39m, \u001b[38;5;241m0.5\u001b[39m, \u001b[38;5;241m0.04\u001b[39m, historical_prices\u001b[38;5;241m=\u001b[39mnp\u001b[38;5;241m.\u001b[39mrandom\u001b[38;5;241m.\u001b[39mrand(\u001b[38;5;241m100\u001b[39m) \u001b[38;5;241m*\u001b[39m \u001b[38;5;241m250\u001b[39m)\n\u001b[0;32m---> 60\u001b[0m VaR \u001b[38;5;241m=\u001b[39m \u001b[43mportfolio\u001b[49m\u001b[38;5;241;43m.\u001b[39;49m\u001b[43mcalculate_VaR\u001b[49m\u001b[43m(\u001b[49m\u001b[43m)\u001b[49m\n\u001b[1;32m     61\u001b[0m combined_shares_to_trade, combined_options_to_trade \u001b[38;5;241m=\u001b[39m portfolio\u001b[38;5;241m.\u001b[39mcalculate_hedge()\n\u001b[1;32m     62\u001b[0m VaR, combined_shares_to_trade, combined_options_to_trade\n",
            "Cell \u001b[0;32mIn[23], line 18\u001b[0m, in \u001b[0;36mPortfolio.calculate_VaR\u001b[0;34m(self, confidence_level, target_VaR)\u001b[0m\n\u001b[1;32m     16\u001b[0m portfolio_returns \u001b[38;5;241m=\u001b[39m []\n\u001b[1;32m     17\u001b[0m \u001b[38;5;28;01mfor\u001b[39;00m position \u001b[38;5;129;01min\u001b[39;00m \u001b[38;5;28mself\u001b[39m\u001b[38;5;241m.\u001b[39mpositions\u001b[38;5;241m.\u001b[39mvalues():\n\u001b[0;32m---> 18\u001b[0m     \u001b[38;5;28;01mif\u001b[39;00m position[\u001b[38;5;124m'\u001b[39m\u001b[38;5;124mhistorical_prices\u001b[39m\u001b[38;5;124m'\u001b[39m]:\n\u001b[1;32m     19\u001b[0m         daily_returns \u001b[38;5;241m=\u001b[39m np\u001b[38;5;241m.\u001b[39mdiff(position[\u001b[38;5;124m'\u001b[39m\u001b[38;5;124mhistorical_prices\u001b[39m\u001b[38;5;124m'\u001b[39m]) \u001b[38;5;241m/\u001b[39m position[\u001b[38;5;124m'\u001b[39m\u001b[38;5;124mhistorical_prices\u001b[39m\u001b[38;5;124m'\u001b[39m][:\u001b[38;5;241m-\u001b[39m\u001b[38;5;241m1\u001b[39m]\n\u001b[1;32m     20\u001b[0m         weighted_returns \u001b[38;5;241m=\u001b[39m daily_returns \u001b[38;5;241m*\u001b[39m position[\u001b[38;5;124m'\u001b[39m\u001b[38;5;124msize\u001b[39m\u001b[38;5;124m'\u001b[39m]\n",
            "\u001b[0;31mValueError\u001b[0m: The truth value of an array with more than one element is ambiguous. Use a.any() or a.all()"
          ]
        }
      ],
      "execution_count": null,
      "metadata": {
        "noteable": {
          "cell_type": "code"
        },
        "ExecuteTime": {
          "start_time": "2023-08-05T02:49:21.369792+00:00",
          "end_time": "2023-08-05T02:49:21.596863+00:00"
        }
      },
      "id": "a5ef69eb-f358-4a85-a650-186a95c29f47"
    },
    {
      "cell_type": "code",
      "source": [
        "class Portfolio:\n",
        "    def __init__(self):\n",
        "        self.positions = {}\n",
        "\n",
        "    def add_position(self, ticker, size, price, delta, gamma=0, historical_prices=None):\n",
        "        self.positions[ticker] = {'size': size, 'price': price, 'delta': delta, 'gamma': gamma, 'historical_prices': historical_prices}\n",
        "\n",
        "    def remove_position(self, ticker):\n",
        "        if ticker in self.positions:\n",
        "            del self.positions[ticker]\n",
        "        else:\n",
        "            print(f\"{ticker} not found in the portfolio.\")\n",
        "\n",
        "    def calculate_VaR(self, confidence_level=0.99, target_VaR=10000):\n",
        "        # Using historical simulation method for VaR\n",
        "        portfolio_returns = []\n",
        "        for position in self.positions.values():\n",
        "            if position['historical_prices']:\n",
        "                daily_returns = np.diff(position['historical_prices']) / position['historical_prices'][:-1]\n",
        "                weighted_returns = daily_returns * position['size']\n",
        "                portfolio_returns.append(weighted_returns)\n",
        "\n",
        "        portfolio_returns = np.sum(portfolio_returns, axis=0)\n",
        "        VaR = -np.percentile(portfolio_returns, 100 - (confidence_level * 100))\n",
        "\n",
        "        # Adjust portfolio to meet target VaR\n",
        "        # This is a simplified approach; in practice, more sophisticated methods might be used\n",
        "        while VaR > target_VaR:\n",
        "            # Reduce the largest position by 10% as a simple adjustment\n",
        "            largest_position = max(self.positions.keys(), key=lambda x: self.positions[x]['size'])\n",
        "            self.positions[largest_position]['size'] *= 0.9\n",
        "            # Recalculate VaR after adjustment\n",
        "            portfolio_returns = []\n",
        "            for position in self.positions.values():\n",
        "                if position['historical_prices']:\n",
        "                    daily_returns = np.diff(position['historical_prices']) / position['historical_prices'][:-1]\n",
        "                    weighted_returns = daily_returns * position['size']\n",
        "                    portfolio_returns.append(weighted_returns)\n",
        "            portfolio_returns = np.sum(portfolio_returns, axis=0)\n",
        "            VaR = -np.percentile(portfolio_returns, 100 - (confidence_level * 100))\n",
        "\n",
        "        return VaR\n",
        "\n",
        "    def calculate_hedge(self):\n",
        "        total_delta = sum([position['size'] * position['delta'] for position in self.positions.values()])\n",
        "        total_gamma = sum([position['size'] * position['gamma'] for position in self.positions.values()])\n",
        "        option_delta = 0.5\n",
        "        option_gamma = 0.05\n",
        "        options_to_trade = -total_gamma / option_gamma\n",
        "        shares_to_trade = -total_delta + options_to_trade * option_delta\n",
        "        return shares_to_trade, options_to_trade\n",
        "\n",
        "    def view_portfolio(self):\n",
        "        return self.positions\n",
        "\n",
        "# Test the updated Portfolio class with VaR constraint\n",
        "portfolio = Portfolio()\n",
        "portfolio.add_position('AAPL', 100, 150, 0.6, 0.05, historical_prices=np.random.rand(100) * 150)\n",
        "portfolio.add_position('MSFT', 50, 250, 0.5, 0.04, historical_prices=np.random.rand(100) * 250)\n",
        "VaR = portfolio.calculate_VaR()\n",
        "combined_shares_to_trade, combined_options_to_trade = portfolio.calculate_hedge()\n",
        "VaR, combined_shares_to_trade, combined_options_to_trade"
      ],
      "outputs": [
        {
          "output_type": "error",
          "ename": "ValueError",
          "evalue": "The truth value of an array with more than one element is ambiguous. Use a.any() or a.all()",
          "traceback": [
            "\u001b[0;31m---------------------------------------------------------------------------\u001b[0m",
            "\u001b[0;31mValueError\u001b[0m                                Traceback (most recent call last)",
            "Cell \u001b[0;32mIn[24], line 60\u001b[0m\n\u001b[1;32m     58\u001b[0m portfolio\u001b[38;5;241m.\u001b[39madd_position(\u001b[38;5;124m'\u001b[39m\u001b[38;5;124mAAPL\u001b[39m\u001b[38;5;124m'\u001b[39m, \u001b[38;5;241m100\u001b[39m, \u001b[38;5;241m150\u001b[39m, \u001b[38;5;241m0.6\u001b[39m, \u001b[38;5;241m0.05\u001b[39m, historical_prices\u001b[38;5;241m=\u001b[39mnp\u001b[38;5;241m.\u001b[39mrandom\u001b[38;5;241m.\u001b[39mrand(\u001b[38;5;241m100\u001b[39m) \u001b[38;5;241m*\u001b[39m \u001b[38;5;241m150\u001b[39m)\n\u001b[1;32m     59\u001b[0m portfolio\u001b[38;5;241m.\u001b[39madd_position(\u001b[38;5;124m'\u001b[39m\u001b[38;5;124mMSFT\u001b[39m\u001b[38;5;124m'\u001b[39m, \u001b[38;5;241m50\u001b[39m, \u001b[38;5;241m250\u001b[39m, \u001b[38;5;241m0.5\u001b[39m, \u001b[38;5;241m0.04\u001b[39m, historical_prices\u001b[38;5;241m=\u001b[39mnp\u001b[38;5;241m.\u001b[39mrandom\u001b[38;5;241m.\u001b[39mrand(\u001b[38;5;241m100\u001b[39m) \u001b[38;5;241m*\u001b[39m \u001b[38;5;241m250\u001b[39m)\n\u001b[0;32m---> 60\u001b[0m VaR \u001b[38;5;241m=\u001b[39m \u001b[43mportfolio\u001b[49m\u001b[38;5;241;43m.\u001b[39;49m\u001b[43mcalculate_VaR\u001b[49m\u001b[43m(\u001b[49m\u001b[43m)\u001b[49m\n\u001b[1;32m     61\u001b[0m combined_shares_to_trade, combined_options_to_trade \u001b[38;5;241m=\u001b[39m portfolio\u001b[38;5;241m.\u001b[39mcalculate_hedge()\n\u001b[1;32m     62\u001b[0m VaR, combined_shares_to_trade, combined_options_to_trade\n",
            "Cell \u001b[0;32mIn[24], line 18\u001b[0m, in \u001b[0;36mPortfolio.calculate_VaR\u001b[0;34m(self, confidence_level, target_VaR)\u001b[0m\n\u001b[1;32m     16\u001b[0m portfolio_returns \u001b[38;5;241m=\u001b[39m []\n\u001b[1;32m     17\u001b[0m \u001b[38;5;28;01mfor\u001b[39;00m position \u001b[38;5;129;01min\u001b[39;00m \u001b[38;5;28mself\u001b[39m\u001b[38;5;241m.\u001b[39mpositions\u001b[38;5;241m.\u001b[39mvalues():\n\u001b[0;32m---> 18\u001b[0m     \u001b[38;5;28;01mif\u001b[39;00m position[\u001b[38;5;124m'\u001b[39m\u001b[38;5;124mhistorical_prices\u001b[39m\u001b[38;5;124m'\u001b[39m]:\n\u001b[1;32m     19\u001b[0m         daily_returns \u001b[38;5;241m=\u001b[39m np\u001b[38;5;241m.\u001b[39mdiff(position[\u001b[38;5;124m'\u001b[39m\u001b[38;5;124mhistorical_prices\u001b[39m\u001b[38;5;124m'\u001b[39m]) \u001b[38;5;241m/\u001b[39m position[\u001b[38;5;124m'\u001b[39m\u001b[38;5;124mhistorical_prices\u001b[39m\u001b[38;5;124m'\u001b[39m][:\u001b[38;5;241m-\u001b[39m\u001b[38;5;241m1\u001b[39m]\n\u001b[1;32m     20\u001b[0m         weighted_returns \u001b[38;5;241m=\u001b[39m daily_returns \u001b[38;5;241m*\u001b[39m position[\u001b[38;5;124m'\u001b[39m\u001b[38;5;124msize\u001b[39m\u001b[38;5;124m'\u001b[39m]\n",
            "\u001b[0;31mValueError\u001b[0m: The truth value of an array with more than one element is ambiguous. Use a.any() or a.all()"
          ]
        }
      ],
      "execution_count": null,
      "metadata": {
        "noteable": {
          "cell_type": "code"
        },
        "ExecuteTime": {
          "start_time": "2023-08-05T02:50:13.105471+00:00",
          "end_time": "2023-08-05T02:50:13.341132+00:00"
        }
      },
      "id": "a1899bb2-eb16-4780-87b2-666f13da2041"
    },
    {
      "cell_type": "code",
      "source": [
        "class Portfolio:\n",
        "    def __init__(self):\n",
        "        self.positions = {}\n",
        "\n",
        "    def add_position(self, ticker, size, price, delta, gamma=0, historical_prices=None):\n",
        "        self.positions[ticker] = {'size': size, 'price': price, 'delta': delta, 'gamma': gamma, 'historical_prices': historical_prices}\n",
        "\n",
        "    def remove_position(self, ticker):\n",
        "        if ticker in self.positions:\n",
        "            del self.positions[ticker]\n",
        "        else:\n",
        "            print(f\"{ticker} not found in the portfolio.\")\n",
        "\n",
        "    def calculate_VaR(self, confidence_level=0.99, target_VaR=10000):\n",
        "        # Using historical simulation method for VaR\n",
        "        portfolio_returns = []\n",
        "        for position in self.positions.values():\n",
        "            if position['historical_prices']:\n",
        "                daily_returns = np.diff(position['historical_prices']) / position['historical_prices'][:-1]\n",
        "                weighted_returns = daily_returns * position['size']\n",
        "                portfolio_returns.append(weighted_returns)\n",
        "\n",
        "        portfolio_returns = np.sum(portfolio_returns, axis=0)\n",
        "        VaR = -np.percentile(portfolio_returns, 100 - (confidence_level * 100))\n",
        "\n",
        "        # Adjust portfolio to meet target VaR\n",
        "        # This is a simplified approach; in practice, more sophisticated methods might be used\n",
        "        while VaR > target_VaR:\n",
        "            # Reduce the largest position by 10% as a simple adjustment\n",
        "            largest_position = max(self.positions.keys(), key=lambda x: self.positions[x]['size'])\n",
        "            self.positions[largest_position]['size'] *= 0.9\n",
        "            # Recalculate VaR after adjustment\n",
        "            portfolio_returns = []\n",
        "            for position in self.positions.values():\n",
        "                if position['historical_prices']:\n",
        "                    daily_returns = np.diff(position['historical_prices']) / position['historical_prices'][:-1]\n",
        "                    weighted_returns = daily_returns * position['size']\n",
        "                    portfolio_returns.append(weighted_returns)\n",
        "            portfolio_returns = np.sum(portfolio_returns, axis=0)\n",
        "            VaR = -np.percentile(portfolio_returns, 100 - (confidence_level * 100))\n",
        "\n",
        "        return VaR\n",
        "\n",
        "    def calculate_hedge(self):\n",
        "        total_delta = sum([position['size'] * position['delta'] for position in self.positions.values()])\n",
        "        total_gamma = sum([position['size'] * position['gamma'] for position in self.positions.values()])\n",
        "        option_delta = 0.5\n",
        "        option_gamma = 0.05\n",
        "        options_to_trade = -total_gamma / option_gamma\n",
        "        shares_to_trade = -total_delta + options_to_trade * option_delta\n",
        "        return shares_to_trade, options_to_trade\n",
        "\n",
        "    def view_portfolio(self):\n",
        "        return self.positions\n",
        "\n",
        "# Test the updated Portfolio class with VaR constraint\n",
        "portfolio = Portfolio()\n",
        "portfolio.add_position('AAPL', 100, 150, 0.6, 0.05, historical_prices=np.random.rand(100) * 150)\n",
        "portfolio.add_position('MSFT', 50, 250, 0.5, 0.04, historical_prices=np.random.rand(100) * 250)\n",
        "VaR = portfolio.calculate_VaR()\n",
        "combined_shares_to_trade, combined_options_to_trade = portfolio.calculate_hedge()\n",
        "VaR, combined_shares_to_trade, combined_options_to_trade"
      ],
      "outputs": [
        {
          "output_type": "error",
          "ename": "ValueError",
          "evalue": "The truth value of an array with more than one element is ambiguous. Use a.any() or a.all()",
          "traceback": [
            "\u001b[0;31m---------------------------------------------------------------------------\u001b[0m",
            "\u001b[0;31mValueError\u001b[0m                                Traceback (most recent call last)",
            "Cell \u001b[0;32mIn[25], line 60\u001b[0m\n\u001b[1;32m     58\u001b[0m portfolio\u001b[38;5;241m.\u001b[39madd_position(\u001b[38;5;124m'\u001b[39m\u001b[38;5;124mAAPL\u001b[39m\u001b[38;5;124m'\u001b[39m, \u001b[38;5;241m100\u001b[39m, \u001b[38;5;241m150\u001b[39m, \u001b[38;5;241m0.6\u001b[39m, \u001b[38;5;241m0.05\u001b[39m, historical_prices\u001b[38;5;241m=\u001b[39mnp\u001b[38;5;241m.\u001b[39mrandom\u001b[38;5;241m.\u001b[39mrand(\u001b[38;5;241m100\u001b[39m) \u001b[38;5;241m*\u001b[39m \u001b[38;5;241m150\u001b[39m)\n\u001b[1;32m     59\u001b[0m portfolio\u001b[38;5;241m.\u001b[39madd_position(\u001b[38;5;124m'\u001b[39m\u001b[38;5;124mMSFT\u001b[39m\u001b[38;5;124m'\u001b[39m, \u001b[38;5;241m50\u001b[39m, \u001b[38;5;241m250\u001b[39m, \u001b[38;5;241m0.5\u001b[39m, \u001b[38;5;241m0.04\u001b[39m, historical_prices\u001b[38;5;241m=\u001b[39mnp\u001b[38;5;241m.\u001b[39mrandom\u001b[38;5;241m.\u001b[39mrand(\u001b[38;5;241m100\u001b[39m) \u001b[38;5;241m*\u001b[39m \u001b[38;5;241m250\u001b[39m)\n\u001b[0;32m---> 60\u001b[0m VaR \u001b[38;5;241m=\u001b[39m \u001b[43mportfolio\u001b[49m\u001b[38;5;241;43m.\u001b[39;49m\u001b[43mcalculate_VaR\u001b[49m\u001b[43m(\u001b[49m\u001b[43m)\u001b[49m\n\u001b[1;32m     61\u001b[0m combined_shares_to_trade, combined_options_to_trade \u001b[38;5;241m=\u001b[39m portfolio\u001b[38;5;241m.\u001b[39mcalculate_hedge()\n\u001b[1;32m     62\u001b[0m VaR, combined_shares_to_trade, combined_options_to_trade\n",
            "Cell \u001b[0;32mIn[25], line 18\u001b[0m, in \u001b[0;36mPortfolio.calculate_VaR\u001b[0;34m(self, confidence_level, target_VaR)\u001b[0m\n\u001b[1;32m     16\u001b[0m portfolio_returns \u001b[38;5;241m=\u001b[39m []\n\u001b[1;32m     17\u001b[0m \u001b[38;5;28;01mfor\u001b[39;00m position \u001b[38;5;129;01min\u001b[39;00m \u001b[38;5;28mself\u001b[39m\u001b[38;5;241m.\u001b[39mpositions\u001b[38;5;241m.\u001b[39mvalues():\n\u001b[0;32m---> 18\u001b[0m     \u001b[38;5;28;01mif\u001b[39;00m position[\u001b[38;5;124m'\u001b[39m\u001b[38;5;124mhistorical_prices\u001b[39m\u001b[38;5;124m'\u001b[39m]:\n\u001b[1;32m     19\u001b[0m         daily_returns \u001b[38;5;241m=\u001b[39m np\u001b[38;5;241m.\u001b[39mdiff(position[\u001b[38;5;124m'\u001b[39m\u001b[38;5;124mhistorical_prices\u001b[39m\u001b[38;5;124m'\u001b[39m]) \u001b[38;5;241m/\u001b[39m position[\u001b[38;5;124m'\u001b[39m\u001b[38;5;124mhistorical_prices\u001b[39m\u001b[38;5;124m'\u001b[39m][:\u001b[38;5;241m-\u001b[39m\u001b[38;5;241m1\u001b[39m]\n\u001b[1;32m     20\u001b[0m         weighted_returns \u001b[38;5;241m=\u001b[39m daily_returns \u001b[38;5;241m*\u001b[39m position[\u001b[38;5;124m'\u001b[39m\u001b[38;5;124msize\u001b[39m\u001b[38;5;124m'\u001b[39m]\n",
            "\u001b[0;31mValueError\u001b[0m: The truth value of an array with more than one element is ambiguous. Use a.any() or a.all()"
          ]
        }
      ],
      "execution_count": null,
      "metadata": {
        "noteable": {
          "cell_type": "code"
        },
        "ExecuteTime": {
          "start_time": "2023-08-05T02:51:07.941173+00:00",
          "end_time": "2023-08-05T02:51:08.162060+00:00"
        }
      },
      "id": "d2e42f32-09c6-4fe0-be7a-a736f5cfe4e2"
    },
    {
      "cell_type": "code",
      "source": [
        "class Portfolio:\n",
        "    def __init__(self):\n",
        "        self.positions = {}\n",
        "\n",
        "    def add_position(self, ticker, size, price, delta, gamma=0, historical_prices=None):\n",
        "        self.positions[ticker] = {'size': size, 'price': price, 'delta': delta, 'gamma': gamma, 'historical_prices': historical_prices}\n",
        "\n",
        "    def remove_position(self, ticker):\n",
        "        if ticker in self.positions:\n",
        "            del self.positions[ticker]\n",
        "        else:\n",
        "            print(f\"{ticker} not found in the portfolio.\")\n",
        "\n",
        "    def calculate_VaR(self, confidence_level=0.99, target_VaR=10000):\n",
        "        # Using historical simulation method for VaR\n",
        "        portfolio_returns = []\n",
        "        for position in self.positions.values():\n",
        "            if position['historical_prices']:\n",
        "                daily_returns = np.diff(position['historical_prices']) / position['historical_prices'][:-1]\n",
        "                weighted_returns = daily_returns * position['size']\n",
        "                portfolio_returns.append(weighted_returns)\n",
        "\n",
        "        portfolio_returns = np.sum(portfolio_returns, axis=0)\n",
        "        VaR = -np.percentile(portfolio_returns, 100 - (confidence_level * 100))\n",
        "\n",
        "        # Adjust portfolio to meet target VaR\n",
        "        # This is a simplified approach; in practice, more sophisticated methods might be used\n",
        "        iteration = 0\n",
        "        max_iterations = 100\n",
        "        while VaR > target_VaR and iteration < max_iterations:\n",
        "            # Reduce the largest position by 10% as a simple adjustment\n",
        "            largest_position = max(self.positions.keys(), key=lambda x: self.positions[x]['size'])\n",
        "            self.positions[largest_position]['size'] *= 0.9\n",
        "            # Recalculate VaR after adjustment\n",
        "            portfolio_returns = []\n",
        "            for position in self.positions.values():\n",
        "                if position['historical_prices']:\n",
        "                    daily_returns = np.diff(position['historical_prices']) / position['historical_prices'][:-1]\n",
        "                    weighted_returns = daily_returns * position['size']\n",
        "                    portfolio_returns.append(weighted_returns)\n",
        "            portfolio_returns = np.sum(portfolio_returns, axis=0)\n",
        "            VaR = -np.percentile(portfolio_returns, 100 - (confidence_level * 100))\n",
        "            iteration += 1\n",
        "\n",
        "        return VaR\n",
        "\n",
        "    def calculate_hedge(self):\n",
        "        total_delta = sum([position['size'] * position['delta'] for position in self.positions.values()])\n",
        "        total_gamma = sum([position['size'] * position['gamma'] for position in self.positions.values()])\n",
        "        option_delta = 0.5\n",
        "        option_gamma = 0.05\n",
        "        options_to_trade = -total_gamma / option_gamma\n",
        "        shares_to_trade = -total_delta + options_to_trade * option_delta\n",
        "        return shares_to_trade, options_to_trade\n",
        "\n",
        "    def view_portfolio(self):\n",
        "        return self.positions\n",
        "\n",
        "# Test the updated Portfolio class with VaR constraint\n",
        "portfolio = Portfolio()\n",
        "portfolio.add_position('AAPL', 100, 150, 0.6, 0.05, historical_prices=np.random.rand(100) * 150)\n",
        "portfolio.add_position('MSFT', 50, 250, 0.5, 0.04, historical_prices=np.random.rand(100) * 250)\n",
        "VaR = portfolio.calculate_VaR()\n",
        "combined_shares_to_trade, combined_options_to_trade = portfolio.calculate_hedge()\n",
        "VaR, combined_shares_to_trade, combined_options_to_trade"
      ],
      "outputs": [
        {
          "output_type": "error",
          "ename": "ValueError",
          "evalue": "The truth value of an array with more than one element is ambiguous. Use a.any() or a.all()",
          "traceback": [
            "\u001b[0;31m---------------------------------------------------------------------------\u001b[0m",
            "\u001b[0;31mValueError\u001b[0m                                Traceback (most recent call last)",
            "Cell \u001b[0;32mIn[26], line 63\u001b[0m\n\u001b[1;32m     61\u001b[0m portfolio\u001b[38;5;241m.\u001b[39madd_position(\u001b[38;5;124m'\u001b[39m\u001b[38;5;124mAAPL\u001b[39m\u001b[38;5;124m'\u001b[39m, \u001b[38;5;241m100\u001b[39m, \u001b[38;5;241m150\u001b[39m, \u001b[38;5;241m0.6\u001b[39m, \u001b[38;5;241m0.05\u001b[39m, historical_prices\u001b[38;5;241m=\u001b[39mnp\u001b[38;5;241m.\u001b[39mrandom\u001b[38;5;241m.\u001b[39mrand(\u001b[38;5;241m100\u001b[39m) \u001b[38;5;241m*\u001b[39m \u001b[38;5;241m150\u001b[39m)\n\u001b[1;32m     62\u001b[0m portfolio\u001b[38;5;241m.\u001b[39madd_position(\u001b[38;5;124m'\u001b[39m\u001b[38;5;124mMSFT\u001b[39m\u001b[38;5;124m'\u001b[39m, \u001b[38;5;241m50\u001b[39m, \u001b[38;5;241m250\u001b[39m, \u001b[38;5;241m0.5\u001b[39m, \u001b[38;5;241m0.04\u001b[39m, historical_prices\u001b[38;5;241m=\u001b[39mnp\u001b[38;5;241m.\u001b[39mrandom\u001b[38;5;241m.\u001b[39mrand(\u001b[38;5;241m100\u001b[39m) \u001b[38;5;241m*\u001b[39m \u001b[38;5;241m250\u001b[39m)\n\u001b[0;32m---> 63\u001b[0m VaR \u001b[38;5;241m=\u001b[39m \u001b[43mportfolio\u001b[49m\u001b[38;5;241;43m.\u001b[39;49m\u001b[43mcalculate_VaR\u001b[49m\u001b[43m(\u001b[49m\u001b[43m)\u001b[49m\n\u001b[1;32m     64\u001b[0m combined_shares_to_trade, combined_options_to_trade \u001b[38;5;241m=\u001b[39m portfolio\u001b[38;5;241m.\u001b[39mcalculate_hedge()\n\u001b[1;32m     65\u001b[0m VaR, combined_shares_to_trade, combined_options_to_trade\n",
            "Cell \u001b[0;32mIn[26], line 18\u001b[0m, in \u001b[0;36mPortfolio.calculate_VaR\u001b[0;34m(self, confidence_level, target_VaR)\u001b[0m\n\u001b[1;32m     16\u001b[0m portfolio_returns \u001b[38;5;241m=\u001b[39m []\n\u001b[1;32m     17\u001b[0m \u001b[38;5;28;01mfor\u001b[39;00m position \u001b[38;5;129;01min\u001b[39;00m \u001b[38;5;28mself\u001b[39m\u001b[38;5;241m.\u001b[39mpositions\u001b[38;5;241m.\u001b[39mvalues():\n\u001b[0;32m---> 18\u001b[0m     \u001b[38;5;28;01mif\u001b[39;00m position[\u001b[38;5;124m'\u001b[39m\u001b[38;5;124mhistorical_prices\u001b[39m\u001b[38;5;124m'\u001b[39m]:\n\u001b[1;32m     19\u001b[0m         daily_returns \u001b[38;5;241m=\u001b[39m np\u001b[38;5;241m.\u001b[39mdiff(position[\u001b[38;5;124m'\u001b[39m\u001b[38;5;124mhistorical_prices\u001b[39m\u001b[38;5;124m'\u001b[39m]) \u001b[38;5;241m/\u001b[39m position[\u001b[38;5;124m'\u001b[39m\u001b[38;5;124mhistorical_prices\u001b[39m\u001b[38;5;124m'\u001b[39m][:\u001b[38;5;241m-\u001b[39m\u001b[38;5;241m1\u001b[39m]\n\u001b[1;32m     20\u001b[0m         weighted_returns \u001b[38;5;241m=\u001b[39m daily_returns \u001b[38;5;241m*\u001b[39m position[\u001b[38;5;124m'\u001b[39m\u001b[38;5;124msize\u001b[39m\u001b[38;5;124m'\u001b[39m]\n",
            "\u001b[0;31mValueError\u001b[0m: The truth value of an array with more than one element is ambiguous. Use a.any() or a.all()"
          ]
        }
      ],
      "execution_count": null,
      "metadata": {
        "noteable": {
          "cell_type": "code"
        },
        "ExecuteTime": {
          "start_time": "2023-08-05T02:52:12.364362+00:00",
          "end_time": "2023-08-05T02:52:12.591788+00:00"
        }
      },
      "id": "9d6b0009-7403-438a-9fc6-f3cc441ead0f"
    },
    {
      "cell_type": "code",
      "source": [
        "class Portfolio:\n",
        "    def __init__(self):\n",
        "        self.positions = {}\n",
        "\n",
        "    def add_position(self, ticker, size, price, delta, gamma=0, historical_prices=None):\n",
        "        self.positions[ticker] = {'size': size, 'price': price, 'delta': delta, 'gamma': gamma, 'historical_prices': historical_prices}\n",
        "\n",
        "    def remove_position(self, ticker):\n",
        "        if ticker in self.positions:\n",
        "            del self.positions[ticker]\n",
        "        else:\n",
        "            print(f\"{ticker} not found in the portfolio.\")\n",
        "\n",
        "    def calculate_VaR(self, confidence_level=0.99, target_VaR=10000):\n",
        "        # Using historical simulation method for VaR\n",
        "        portfolio_returns = []\n",
        "        for position in self.positions.values():\n",
        "            if position['historical_prices']:\n",
        "                daily_returns = np.diff(position['historical_prices']) / position['historical_prices'][:-1]\n",
        "                weighted_returns = daily_returns * position['size']\n",
        "                portfolio_returns.append(weighted_returns)\n",
        "\n",
        "        portfolio_returns = np.sum(portfolio_returns, axis=0)\n",
        "        VaR = -np.percentile(portfolio_returns, 100 - (confidence_level * 100))\n",
        "        print(f'Initial VaR: {VaR}')\n",
        "\n",
        "        # Adjust portfolio to meet target VaR\n",
        "        # This is a simplified approach; in practice, more sophisticated methods might be used\n",
        "        iteration = 0\n",
        "        max_iterations = 100\n",
        "        while VaR > target_VaR and iteration < max_iterations:\n",
        "            # Reduce the largest position by 10% as a simple adjustment\n",
        "            largest_position = max(self.positions.keys(), key=lambda x: self.positions[x]['size'])\n",
        "            self.positions[largest_position]['size'] *= 0.9\n",
        "            # Recalculate VaR after adjustment\n",
        "            portfolio_returns = []\n",
        "            for position in self.positions.values():\n",
        "                if position['historical_prices']:\n",
        "                    daily_returns = np.diff(position['historical_prices']) / position['historical_prices'][:-1]\n",
        "                    weighted_returns = daily_returns * position['size']\n",
        "                    portfolio_returns.append(weighted_returns)\n",
        "            portfolio_returns = np.sum(portfolio_returns, axis=0)\n",
        "            VaR = -np.percentile(portfolio_returns, 100 - (confidence_level * 100))\n",
        "            print(f'Adjusted VaR after iteration {iteration}: {VaR}')\n",
        "            iteration += 1\n",
        "\n",
        "        return VaR\n",
        "\n",
        "    def calculate_hedge(self):\n",
        "        total_delta = sum([position['size'] * position['delta'] for position in self.positions.values()])\n",
        "        total_gamma = sum([position['size'] * position['gamma'] for position in self.positions.values()])\n",
        "        option_delta = 0.5\n",
        "        option_gamma = 0.05\n",
        "        options_to_trade = -total_gamma / option_gamma\n",
        "        shares_to_trade = -total_delta + options_to_trade * option_delta\n",
        "        return shares_to_trade, options_to_trade\n",
        "\n",
        "    def view_portfolio(self):\n",
        "        return self.positions\n",
        "\n",
        "# Test the updated Portfolio class with VaR constraint\n",
        "portfolio = Portfolio()\n",
        "portfolio.add_position('AAPL', 100, 150, 0.6, 0.05, historical_prices=np.random.rand(100) * 150)\n",
        "portfolio.add_position('MSFT', 50, 250, 0.5, 0.04, historical_prices=np.random.rand(100) * 250)\n",
        "VaR = portfolio.calculate_VaR()\n",
        "combined_shares_to_trade, combined_options_to_trade = portfolio.calculate_hedge()\n",
        "VaR, combined_shares_to_trade, combined_options_to_trade"
      ],
      "outputs": [
        {
          "output_type": "error",
          "ename": "ValueError",
          "evalue": "The truth value of an array with more than one element is ambiguous. Use a.any() or a.all()",
          "traceback": [
            "\u001b[0;31m---------------------------------------------------------------------------\u001b[0m",
            "\u001b[0;31mValueError\u001b[0m                                Traceback (most recent call last)",
            "Cell \u001b[0;32mIn[27], line 65\u001b[0m\n\u001b[1;32m     63\u001b[0m portfolio\u001b[38;5;241m.\u001b[39madd_position(\u001b[38;5;124m'\u001b[39m\u001b[38;5;124mAAPL\u001b[39m\u001b[38;5;124m'\u001b[39m, \u001b[38;5;241m100\u001b[39m, \u001b[38;5;241m150\u001b[39m, \u001b[38;5;241m0.6\u001b[39m, \u001b[38;5;241m0.05\u001b[39m, historical_prices\u001b[38;5;241m=\u001b[39mnp\u001b[38;5;241m.\u001b[39mrandom\u001b[38;5;241m.\u001b[39mrand(\u001b[38;5;241m100\u001b[39m) \u001b[38;5;241m*\u001b[39m \u001b[38;5;241m150\u001b[39m)\n\u001b[1;32m     64\u001b[0m portfolio\u001b[38;5;241m.\u001b[39madd_position(\u001b[38;5;124m'\u001b[39m\u001b[38;5;124mMSFT\u001b[39m\u001b[38;5;124m'\u001b[39m, \u001b[38;5;241m50\u001b[39m, \u001b[38;5;241m250\u001b[39m, \u001b[38;5;241m0.5\u001b[39m, \u001b[38;5;241m0.04\u001b[39m, historical_prices\u001b[38;5;241m=\u001b[39mnp\u001b[38;5;241m.\u001b[39mrandom\u001b[38;5;241m.\u001b[39mrand(\u001b[38;5;241m100\u001b[39m) \u001b[38;5;241m*\u001b[39m \u001b[38;5;241m250\u001b[39m)\n\u001b[0;32m---> 65\u001b[0m VaR \u001b[38;5;241m=\u001b[39m \u001b[43mportfolio\u001b[49m\u001b[38;5;241;43m.\u001b[39;49m\u001b[43mcalculate_VaR\u001b[49m\u001b[43m(\u001b[49m\u001b[43m)\u001b[49m\n\u001b[1;32m     66\u001b[0m combined_shares_to_trade, combined_options_to_trade \u001b[38;5;241m=\u001b[39m portfolio\u001b[38;5;241m.\u001b[39mcalculate_hedge()\n\u001b[1;32m     67\u001b[0m VaR, combined_shares_to_trade, combined_options_to_trade\n",
            "Cell \u001b[0;32mIn[27], line 18\u001b[0m, in \u001b[0;36mPortfolio.calculate_VaR\u001b[0;34m(self, confidence_level, target_VaR)\u001b[0m\n\u001b[1;32m     16\u001b[0m portfolio_returns \u001b[38;5;241m=\u001b[39m []\n\u001b[1;32m     17\u001b[0m \u001b[38;5;28;01mfor\u001b[39;00m position \u001b[38;5;129;01min\u001b[39;00m \u001b[38;5;28mself\u001b[39m\u001b[38;5;241m.\u001b[39mpositions\u001b[38;5;241m.\u001b[39mvalues():\n\u001b[0;32m---> 18\u001b[0m     \u001b[38;5;28;01mif\u001b[39;00m position[\u001b[38;5;124m'\u001b[39m\u001b[38;5;124mhistorical_prices\u001b[39m\u001b[38;5;124m'\u001b[39m]:\n\u001b[1;32m     19\u001b[0m         daily_returns \u001b[38;5;241m=\u001b[39m np\u001b[38;5;241m.\u001b[39mdiff(position[\u001b[38;5;124m'\u001b[39m\u001b[38;5;124mhistorical_prices\u001b[39m\u001b[38;5;124m'\u001b[39m]) \u001b[38;5;241m/\u001b[39m position[\u001b[38;5;124m'\u001b[39m\u001b[38;5;124mhistorical_prices\u001b[39m\u001b[38;5;124m'\u001b[39m][:\u001b[38;5;241m-\u001b[39m\u001b[38;5;241m1\u001b[39m]\n\u001b[1;32m     20\u001b[0m         weighted_returns \u001b[38;5;241m=\u001b[39m daily_returns \u001b[38;5;241m*\u001b[39m position[\u001b[38;5;124m'\u001b[39m\u001b[38;5;124msize\u001b[39m\u001b[38;5;124m'\u001b[39m]\n",
            "\u001b[0;31mValueError\u001b[0m: The truth value of an array with more than one element is ambiguous. Use a.any() or a.all()"
          ]
        }
      ],
      "execution_count": null,
      "metadata": {
        "noteable": {
          "cell_type": "code"
        },
        "ExecuteTime": {
          "start_time": "2023-08-05T02:53:28.246523+00:00",
          "end_time": "2023-08-05T02:53:28.484235+00:00"
        }
      },
      "id": "98710850-2890-47f8-8953-1af552fefe34"
    },
    {
      "cell_type": "code",
      "source": [
        "# Clear the portfolio\n",
        "portfolio.positions.clear()\n",
        "portfolio.view_portfolio()"
      ],
      "outputs": [
        {
          "output_type": "execute_result",
          "execution_count": null,
          "data": {
            "text/plain": "{}"
          },
          "metadata": {}
        }
      ],
      "execution_count": null,
      "metadata": {
        "noteable": {
          "cell_type": "code"
        },
        "ExecuteTime": {
          "start_time": "2023-08-05T02:54:01.632604+00:00",
          "end_time": "2023-08-05T02:54:01.791189+00:00"
        }
      },
      "id": "a17ddb6e-297f-4810-a997-f0857e499c64"
    },
    {
      "cell_type": "code",
      "source": [
        "# Add positions to the portfolio\n",
        "portfolio.add_position('TLT', 40000000, 150, 0.6, 0.05, historical_prices=np.random.rand(100) * 150)\n",
        "portfolio.add_position('IEF', 15000000, 120, 0.5, 0.04, historical_prices=np.random.rand(100) * 120)\n",
        "portfolio.add_position('DBC', 7500000, 18, 0.55, 0.045, historical_prices=np.random.rand(100) * 18)\n",
        "portfolio.add_position('GLD', 7500000, 170, 0.58, 0.048, historical_prices=np.random.rand(100) * 170)\n",
        "portfolio.add_position('VTI', 30000000, 220, 0.62, 0.052, historical_prices=np.random.rand(100) * 220)\n",
        "\n",
        "# Calculate VaR and hedge recommendations\n",
        "VaR = portfolio.calculate_VaR(target_VaR=1000000)\n",
        "shares_to_trade, options_to_trade = portfolio.calculate_hedge()\n",
        "VaR, shares_to_trade, options_to_trade"
      ],
      "outputs": [
        {
          "output_type": "error",
          "ename": "ValueError",
          "evalue": "The truth value of an array with more than one element is ambiguous. Use a.any() or a.all()",
          "traceback": [
            "\u001b[0;31m---------------------------------------------------------------------------\u001b[0m",
            "\u001b[0;31mValueError\u001b[0m                                Traceback (most recent call last)",
            "Cell \u001b[0;32mIn[29], line 9\u001b[0m\n\u001b[1;32m      6\u001b[0m portfolio\u001b[38;5;241m.\u001b[39madd_position(\u001b[38;5;124m'\u001b[39m\u001b[38;5;124mVTI\u001b[39m\u001b[38;5;124m'\u001b[39m, \u001b[38;5;241m30000000\u001b[39m, \u001b[38;5;241m220\u001b[39m, \u001b[38;5;241m0.62\u001b[39m, \u001b[38;5;241m0.052\u001b[39m, historical_prices\u001b[38;5;241m=\u001b[39mnp\u001b[38;5;241m.\u001b[39mrandom\u001b[38;5;241m.\u001b[39mrand(\u001b[38;5;241m100\u001b[39m) \u001b[38;5;241m*\u001b[39m \u001b[38;5;241m220\u001b[39m)\n\u001b[1;32m      8\u001b[0m \u001b[38;5;66;03m# Calculate VaR and hedge recommendations\u001b[39;00m\n\u001b[0;32m----> 9\u001b[0m VaR \u001b[38;5;241m=\u001b[39m \u001b[43mportfolio\u001b[49m\u001b[38;5;241;43m.\u001b[39;49m\u001b[43mcalculate_VaR\u001b[49m\u001b[43m(\u001b[49m\u001b[43mtarget_VaR\u001b[49m\u001b[38;5;241;43m=\u001b[39;49m\u001b[38;5;241;43m1000000\u001b[39;49m\u001b[43m)\u001b[49m\n\u001b[1;32m     10\u001b[0m shares_to_trade, options_to_trade \u001b[38;5;241m=\u001b[39m portfolio\u001b[38;5;241m.\u001b[39mcalculate_hedge()\n\u001b[1;32m     11\u001b[0m VaR, shares_to_trade, options_to_trade\n",
            "Cell \u001b[0;32mIn[27], line 18\u001b[0m, in \u001b[0;36mPortfolio.calculate_VaR\u001b[0;34m(self, confidence_level, target_VaR)\u001b[0m\n\u001b[1;32m     16\u001b[0m portfolio_returns \u001b[38;5;241m=\u001b[39m []\n\u001b[1;32m     17\u001b[0m \u001b[38;5;28;01mfor\u001b[39;00m position \u001b[38;5;129;01min\u001b[39;00m \u001b[38;5;28mself\u001b[39m\u001b[38;5;241m.\u001b[39mpositions\u001b[38;5;241m.\u001b[39mvalues():\n\u001b[0;32m---> 18\u001b[0m     \u001b[38;5;28;01mif\u001b[39;00m position[\u001b[38;5;124m'\u001b[39m\u001b[38;5;124mhistorical_prices\u001b[39m\u001b[38;5;124m'\u001b[39m]:\n\u001b[1;32m     19\u001b[0m         daily_returns \u001b[38;5;241m=\u001b[39m np\u001b[38;5;241m.\u001b[39mdiff(position[\u001b[38;5;124m'\u001b[39m\u001b[38;5;124mhistorical_prices\u001b[39m\u001b[38;5;124m'\u001b[39m]) \u001b[38;5;241m/\u001b[39m position[\u001b[38;5;124m'\u001b[39m\u001b[38;5;124mhistorical_prices\u001b[39m\u001b[38;5;124m'\u001b[39m][:\u001b[38;5;241m-\u001b[39m\u001b[38;5;241m1\u001b[39m]\n\u001b[1;32m     20\u001b[0m         weighted_returns \u001b[38;5;241m=\u001b[39m daily_returns \u001b[38;5;241m*\u001b[39m position[\u001b[38;5;124m'\u001b[39m\u001b[38;5;124msize\u001b[39m\u001b[38;5;124m'\u001b[39m]\n",
            "\u001b[0;31mValueError\u001b[0m: The truth value of an array with more than one element is ambiguous. Use a.any() or a.all()"
          ]
        }
      ],
      "execution_count": null,
      "metadata": {
        "noteable": {
          "cell_type": "code"
        },
        "ExecuteTime": {
          "start_time": "2023-08-05T02:57:41.686619+00:00",
          "end_time": "2023-08-05T02:57:41.897495+00:00"
        }
      },
      "id": "dcbc14e1-9d0b-4458-8225-7b8a99b7df61"
    },
    {
      "cell_type": "code",
      "source": [
        "class Portfolio:\n",
        "    def __init__(self):\n",
        "        self.positions = {}\n",
        "\n",
        "    def add_position(self, ticker, size, price, delta, gamma=0, historical_prices=None):\n",
        "        self.positions[ticker] = {'size': size, 'price': price, 'delta': delta, 'gamma': gamma, 'historical_prices': historical_prices}\n",
        "\n",
        "    def remove_position(self, ticker):\n",
        "        if ticker in self.positions:\n",
        "            del self.positions[ticker]\n",
        "        else:\n",
        "            print(f\"{ticker} not found in the portfolio.\")\n",
        "\n",
        "    def calculate_VaR(self, confidence_level=0.99, target_VaR=1000000):\n",
        "        # Using historical simulation method for VaR\n",
        "        portfolio_returns = []\n",
        "        for position in self.positions.values():\n",
        "            if position['historical_prices'] is not None:\n",
        "                daily_returns = np.diff(position['historical_prices']) / position['historical_prices'][:-1]\n",
        "                weighted_returns = daily_returns * position['size']\n",
        "                portfolio_returns.append(weighted_returns)\n",
        "\n",
        "        portfolio_returns = np.sum(portfolio_returns, axis=0)\n",
        "        VaR = -np.percentile(portfolio_returns, 100 - (confidence_level * 100))\n",
        "\n",
        "        # Adjust portfolio to meet target VaR\n",
        "        while VaR > target_VaR:\n",
        "            # Reduce the largest position by 10% as a simple adjustment\n",
        "            largest_position = max(self.positions.keys(), key=lambda x: self.positions[x]['size'])\n",
        "            self.positions[largest_position]['size'] *= 0.9\n",
        "            # Recalculate VaR after adjustment\n",
        "            portfolio_returns = []\n",
        "            for position in self.positions.values():\n",
        "                if position['historical_prices'] is not None:\n",
        "                    daily_returns = np.diff(position['historical_prices']) / position['historical_prices'][:-1]\n",
        "                    weighted_returns = daily_returns * position['size']\n",
        "                    portfolio_returns.append(weighted_returns)\n",
        "            portfolio_returns = np.sum(portfolio_returns, axis=0)\n",
        "            VaR = -np.percentile(portfolio_returns, 100 - (confidence_level * 100))\n",
        "\n",
        "        return VaR\n",
        "\n",
        "    def calculate_hedge(self):\n",
        "        total_delta = sum([position['size'] * position['delta'] for position in self.positions.values()])\n",
        "        total_gamma = sum([position['size'] * position['gamma'] for position in self.positions.values()])\n",
        "        option_delta = 0.5\n",
        "        option_gamma = 0.05\n",
        "        options_to_trade = -total_gamma / option_gamma\n",
        "        shares_to_trade = -total_delta + options_to_trade * option_delta\n",
        "        return shares_to_trade, options_to_trade\n",
        "\n",
        "    def view_portfolio(self):\n",
        "        return self.positions\n",
        "\n",
        "# Add positions to the portfolio\n",
        "portfolio = Portfolio()\n",
        "portfolio.add_position('TLT', 40000000, 150, 0.6, 0.05, historical_prices=np.random.rand(100) * 150)\n",
        "portfolio.add_position('IEF', 15000000, 120, 0.5, 0.04, historical_prices=np.random.rand(100) * 120)\n",
        "portfolio.add_position('DBC', 7500000, 18, 0.55, 0.045, historical_prices=np.random.rand(100) * 18)\n",
        "portfolio.add_position('GLD', 7500000, 170, 0.58, 0.048, historical_prices=np.random.rand(100) * 170)\n",
        "portfolio.add_position('VTI', 30000000, 220, 0.62, 0.052, historical_prices=np.random.rand(100) * 220)\n",
        "\n",
        "# Calculate VaR and hedge recommendations\n",
        "VaR = portfolio.calculate_VaR(target_VaR=1000000)\n",
        "shares_to_trade, options_to_trade = portfolio.calculate_hedge()\n",
        "VaR, shares_to_trade, options_to_trade"
      ],
      "outputs": [
        {
          "output_type": "execute_result",
          "execution_count": null,
          "data": {
            "text/plain": "(996399.8810381495, -1749066.7266669963, -1580917.1481485602)"
          },
          "metadata": {}
        }
      ],
      "execution_count": null,
      "metadata": {
        "noteable": {
          "cell_type": "code"
        },
        "ExecuteTime": {
          "start_time": "2023-08-05T02:58:36.079365+00:00",
          "end_time": "2023-08-05T02:58:36.316882+00:00"
        }
      },
      "id": "21bf455c-dcf5-4da6-829c-91fb957ee16b"
    },
    {
      "cell_type": "code",
      "source": [
        "# Add the hedge recommendations to the portfolio\n",
        "# Assuming 'Shares' and 'Options' as generic tickers for the hedging instruments\n",
        "portfolio.add_position('Shares', shares_to_trade, 1, 1)  # Assuming price of 1 and delta of 1 for shares\n",
        "portfolio.add_position('Options', options_to_trade, 1, 0.5, 0.05)  # Assuming price of 1, delta of 0.5, and gamma of 0.05 for options\n",
        "\n",
        "# Recalculate VaR and hedge recommendations after adding the hedges\n",
        "VaR = portfolio.calculate_VaR(target_VaR=1000000)\n",
        "shares_to_trade, options_to_trade = portfolio.calculate_hedge()\n",
        "VaR, shares_to_trade, options_to_trade"
      ],
      "outputs": [
        {
          "output_type": "execute_result",
          "execution_count": null,
          "data": {
            "text/plain": "(996399.8810381495, 1580917.14814856, -0.0)"
          },
          "metadata": {}
        }
      ],
      "execution_count": null,
      "metadata": {
        "noteable": {
          "cell_type": "code"
        },
        "ExecuteTime": {
          "start_time": "2023-08-05T03:00:07.478434+00:00",
          "end_time": "2023-08-05T03:00:07.639638+00:00"
        }
      },
      "id": "3020eed5-b7bf-486b-8f58-4f92c7035050"
    },
    {
      "cell_type": "code",
      "source": [
        "portfolio.view_portfolio()"
      ],
      "outputs": [
        {
          "output_type": "execute_result",
          "execution_count": null,
          "data": {
            "text/plain": "{'TLT': {'size': 349118.5427235088,\n  'price': 150,\n  'delta': 0.6,\n  'gamma': 0.05,\n  'historical_prices': array([129.04170049, 128.09627995,  64.7130693 ,   1.29646311,\n          77.71821395,  98.29117101,  75.43308798,  13.32710794,\n          28.05351404, 123.49614754,  92.69480451,  93.77148447,\n          25.92059716,  77.22359259, 110.89503991,   6.61048002,\n          96.81246712,  29.04405571,  88.84951314,  14.44864499,\n          16.96347397,  31.08176765,  81.22710295,  74.18397552,\n          58.68310332, 108.00519342,  18.23244147, 131.52149256,\n          83.00335864,  41.05303881, 144.98554635,  28.03455477,\n         139.37625762,  20.77631537, 129.50236321,   9.17438922,\n          87.82591917,  68.69309782,  18.58936881,  15.03557835,\n         120.05189596,  21.43393834,  11.03265526,  87.12053078,\n          99.4155656 ,  59.59421154, 125.70149226,  30.78770957,\n          98.35092541, 122.6952952 ,   5.31648128, 130.44646439,\n          14.07402311,  42.79869338,  46.99011199,  59.96302298,\n           5.98833191,  86.13803366,  77.67771426,  47.19889404,\n          24.25777337, 123.56081771,  35.5557782 ,  27.76504303,\n         112.52051656, 101.98806463,  93.46443132, 109.97795946,\n          11.86782557,  61.64348265,  23.71160143, 140.15008342,\n         142.33711531,  75.24972511,  53.15705351,  88.22328924,\n          62.37338101,  57.39532015, 138.85505425,  73.08142229,\n         134.01784691, 122.29407474, 115.49928247,   7.31026531,\n          96.401631  , 104.20027666,  89.43732407,  39.81502159,\n          32.37655648,  48.57595942,  64.7507739 ,  83.08802989,\n         132.0285175 ,  86.75453758, 142.53670249, 102.34751997,\n          55.24554044, 101.46738777, 131.94492882,  35.18788525])},\n 'IEF': {'size': 337925.9931740879,\n  'price': 120,\n  'delta': 0.5,\n  'gamma': 0.04,\n  'historical_prices': array([ 30.94502862,  31.3896094 , 105.29734337,  46.20088099,\n           4.87168097,  59.45010827,   9.25066243,   0.81881035,\n         118.8185298 ,  51.58356174,  76.28583078,  82.38095683,\n         100.58400143,  75.63141847,  23.54501094,  27.01514552,\n          59.36777713,  53.31223809, 104.81791827,  40.21341676,\n          20.2435897 ,  96.36295202, 104.29706757,  86.85819579,\n          91.43888326, 119.14822828,  27.34553992,  36.90438134,\n          71.05523006,   0.42729824,  43.47308506, 115.18520712,\n         103.54304633, 109.67021613,  47.76602252,  77.91356547,\n         119.13203886, 117.46718461, 116.18267215,  24.29543381,\n         117.6689131 , 100.51915806,  63.71330869,  68.85074488,\n          58.56704916,  82.67672802,   7.61411385,  18.30565998,\n         110.88106208,  68.26767497,  45.32643432,  62.53769841,\n          80.05782577,  68.33206982,  20.89686189,  95.08713561,\n          38.09676381,  59.6882572 ,   8.49465844,  10.7120321 ,\n          33.62673644,  66.74493184,  82.95111104,  34.19741964,\n          79.8261001 ,  41.83743561,  83.84512607,  15.49743193,\n          44.04720985, 104.51420005,  84.93298075,  30.73349946,\n          83.34852575,  30.671519  ,  14.12762139,  21.95178023,\n          61.06796698,  26.40078112,  72.80272601,  61.89367743,\n          45.58221393,  21.36021302,   5.60476297,  60.81445071,\n           0.92405519,  24.92509891, 109.17467381,  55.22436877,\n          43.68609697,   1.49319876,   5.77691432,  23.01937143,\n           3.64929835,  38.07797923,  98.0068266 ,  93.1341368 ,\n         104.00575417,  94.26009724,  40.73741876,  18.51481139])},\n 'DBC': {'size': 317933.68706412177,\n  'price': 18,\n  'delta': 0.55,\n  'gamma': 0.045,\n  'historical_prices': array([ 3.74342299, 11.28073506,  2.44676771, 14.35336784,  6.20777895,\n         17.09527706,  0.7784521 , 13.60715485,  9.78394549,  7.33815478,\n          3.10194388, 16.09292111, 12.84795409, 11.8270297 , 16.20927203,\n         10.37576262, 13.86348766,  6.24208702, 10.56908846,  0.74552422,\n         12.64644557,  1.43714881, 10.31325322,  2.60725862, 10.98105951,\n         16.47608207,  3.24531779, 14.65239453, 15.93466886,  0.9999068 ,\n          4.59134933,  1.61008324, 12.73375725,  2.0975016 ,  1.86450746,\n         15.0021372 , 12.75896847,  9.92033745,  2.9212506 , 16.60373599,\n          8.72638282, 14.06852977, 12.89212517,  0.15198125,  6.78254806,\n          6.40987524, 12.48898752, 15.10109566,  5.43746148, 17.41940851,\n         10.09944679, 13.67214515, 17.45415867, 13.59973417,  4.35452828,\n          0.590645  ,  8.23751361,  8.6629688 , 10.1331998 ,  3.34006805,\n          4.78430396,  7.62922364,  0.49850503, 10.20751397, 12.81433615,\n         12.21273626, 17.55513456,  8.81916568,  3.07898214,  2.37677549,\n          5.23143859, 16.29178497,  9.15671379, 13.28786768, 10.64265191,\n          9.21437686,  8.26223968, 10.63608321,  2.29498137,  5.90100823,\n         17.69845835, 16.62669467, 15.8650384 ,  3.72322286, 16.12808877,\n         14.266121  , 12.72407248,  7.35741046, 14.04968493,  2.75225918,\n         16.73247858, 10.38063051,  3.10960846,  7.95137398, 11.31346668,\n          0.87806199, 12.65855294,  4.48578572, 12.07848785, 15.54001658])},\n 'GLD': {'size': 353259.6522934686,\n  'price': 170,\n  'delta': 0.58,\n  'gamma': 0.048,\n  'historical_prices': array([5.52449025e+01, 1.67917495e+02, 4.53678492e+01, 1.57866968e+02,\n         6.54858269e+01, 3.91221340e+01, 8.34360976e+01, 1.03160514e+01,\n         1.62242371e+02, 1.35421279e+02, 1.47768580e+02, 4.01966711e+01,\n         4.80347309e+01, 8.92109620e+01, 3.07664297e+01, 8.58579653e+01,\n         2.31689836e+01, 8.75424637e+01, 1.03505677e+02, 1.07505410e+02,\n         4.62538157e+01, 3.28069005e+01, 7.79578737e+01, 1.67312473e+02,\n         1.02653698e+02, 3.93762322e+01, 6.91581705e+01, 1.56897791e+02,\n         5.58502066e+01, 3.03834384e+01, 1.07893075e-01, 9.43503289e+01,\n         1.07353038e+02, 5.35390785e+00, 1.85310279e+01, 1.03325072e+01,\n         1.86044517e+01, 1.40038510e+02, 1.40190639e+02, 4.51567538e+00,\n         4.57562378e+01, 6.57533395e+01, 1.87560002e+01, 9.27431288e+01,\n         1.16502953e+01, 5.97743109e+01, 1.63235186e+02, 1.67095318e+02,\n         3.33524459e+01, 1.33948714e+02, 1.21450551e+01, 5.00889848e+01,\n         5.94423336e+01, 1.01602197e+02, 1.56125722e+02, 1.25843535e+02,\n         1.43922070e+02, 1.14173483e+02, 5.23631563e+01, 8.11059124e+00,\n         9.26716737e+01, 1.21175247e+02, 8.45673280e+01, 7.39356392e+01,\n         1.51858746e+02, 2.09659461e+01, 1.33956964e+02, 9.12412486e+01,\n         6.77747689e+00, 7.99928881e+01, 1.18559951e+02, 4.03480841e+00,\n         7.42582155e+01, 1.52027240e+01, 1.08744819e+02, 1.10400304e+02,\n         1.64485161e+02, 3.83257355e+01, 4.44400735e+01, 7.39191542e+01,\n         3.92134778e+01, 4.43739147e+01, 4.69086828e+01, 1.48738149e+02,\n         7.34461868e+01, 3.97737591e+01, 2.12228307e+01, 7.70867168e+01,\n         1.20616503e+02, 4.22893299e+01, 1.58370537e+02, 8.34056617e+01,\n         2.65614238e+01, 2.47792343e+01, 1.22201675e+02, 6.98074869e+01,\n         4.87884430e+00, 6.34455564e+01, 4.96531100e+01, 7.64250858e+00])},\n 'VTI': {'size': 323257.9099291748,\n  'price': 220,\n  'delta': 0.62,\n  'gamma': 0.052,\n  'historical_prices': array([139.96005794,  30.96515524, 160.32492819, 212.08825505,\n          14.16436636, 143.02266869,  90.54432959,  73.26452538,\n         163.94814461, 145.70346024,  60.49970649, 170.19327741,\n          31.5026537 ,  67.66505478,  15.17550374, 163.10781929,\n          73.53198418, 178.84477679, 138.54922939,  59.44083457,\n         138.08356859, 125.41500551, 139.44010828,  33.34635833,\n         106.86000253,  13.71282489,  66.63691217, 103.01245781,\n         107.67397053,  24.75183904,  89.0254328 ,  54.85161473,\n         120.58513488, 139.62416373,  90.21469677, 199.70843851,\n         188.49411622, 149.98709079, 202.67556179,  87.39467714,\n         204.83493402, 201.83988479, 145.78932416,  93.14926553,\n         109.12727209, 201.64354184, 211.73939097,  37.44162561,\n         153.66370826, 196.92911272, 142.43758949,  18.26386123,\n         124.11279584,  14.74482922, 214.52690961,   0.66900972,\n          79.99253694, 107.49218087,  11.41604027, 209.24743519,\n          29.19114494, 138.72730925, 182.55629288,  67.69166304,\n          27.87405869, 109.94836528,  67.407597  , 179.09225881,\n         175.29622017,  71.07441   ,   9.4372474 , 161.11731695,\n         122.76363778, 144.92214353,  42.38471229, 181.80322395,\n          88.34864845,  36.77514437, 185.34932379, 134.37886782,\n         146.17629528,  68.66720669,   7.18223731, 212.12418317,\n           5.66070457, 219.99159375,  89.25978823, 208.99249453,\n         139.60349562, 173.27943788, 182.55153014,  62.16868242,\n          91.33195774, 208.26162566, 111.00990532,   4.29338467,\n         202.34546845, 165.04329073,  81.92454878, 101.48581016])},\n 'Shares': {'size': -1749066.7266669963,\n  'price': 1,\n  'delta': 1,\n  'gamma': 0,\n  'historical_prices': None},\n 'Options': {'size': -1580917.1481485602,\n  'price': 1,\n  'delta': 0.5,\n  'gamma': 0.05,\n  'historical_prices': None}}"
          },
          "metadata": {}
        }
      ],
      "execution_count": null,
      "metadata": {
        "noteable": {
          "cell_type": "code"
        },
        "ExecuteTime": {
          "start_time": "2023-08-05T03:01:19.078398+00:00",
          "end_time": "2023-08-05T03:01:19.244861+00:00"
        }
      },
      "id": "39890c13-c2ae-44f6-be9f-89a8dc772789"
    }
  ],
  "metadata": {
    "noteable-chatgpt": {
      "create_notebook": {
        "openai_conversation_id": "0ca2b430-a3ff-5d0a-a030-2a6670375f03",
        "openai_ephemeral_user_id": "e1e167cb-5810-5705-9550-d19a9ddac05b",
        "openai_subdivision1_iso_code": "US-NY"
      }
    },
    "kernel_info": {
      "name": "python3"
    },
    "noteable": {
      "last_transaction_id": "5d0728b9-48db-4eda-9ef0-1ee94dccc898",
      "last_delta_id": "4fc33406-0df6-4039-8910-9694c1a21d6a"
    },
    "kernelspec": {
      "name": "python3",
      "display_name": "Python 3.9",
      "language": "python"
    },
    "selected_hardware_size": "small",
    "nteract": {
      "version": "noteable@2.9.0"
    }
  },
  "nbformat": 4,
  "nbformat_minor": 5
}