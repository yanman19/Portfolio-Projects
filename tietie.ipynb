{
 "cells": [
  {
   "cell_type": "code",
   "execution_count": null,
   "id": "b7a58d48",
   "metadata": {},
   "outputs": [],
   "source": [
    "import pandas as pd\n",
    "\n",
    "# Assuming filtered_df and month_hours are your DataFrames\n",
    "# Replace 'filtered_df' and 'month_hours' with the actual names of your DataFrames\n",
    "\n",
    "# Convert 'Contracts' to the same data type in both DataFrames if necessary\n",
    "# filtered_df['Contracts'] = filtered_df['Contracts'].astype(the_desired_type)\n",
    "# month_hours['Contracts'] = month_hours['Contracts'].astype(the_desired_type)\n",
    "\n",
    "# Define a function to perform the dynamic lookup\n",
    "def get_hours(row, month_hours_df):\n",
    "    # Find the row in month_hours that matches the 'Contracts' value\n",
    "    matching_row = month_hours_df[month_hours_df['Contracts'] == row['Contracts']]\n",
    "    if not matching_row.empty:\n",
    "        # Get the column name from the 'QBT' field of filtered_df\n",
    "        column_name = row['QBT']\n",
    "        # Retrieve the value from the matching row and column in month_hours\n",
    "        return matching_row.iloc[0][column_name]\n",
    "    return None\n",
    "\n",
    "# Apply the function to create a new 'hours' column in filtered_df\n",
    "filtered_df['hours'] = filtered_df.apply(get_hours, axis=1, args=(month_hours,))\n"
   ]
  }
 ],
 "metadata": {
  "kernelspec": {
   "display_name": "Python 3 (ipykernel)",
   "language": "python",
   "name": "python3"
  },
  "language_info": {
   "codemirror_mode": {
    "name": "ipython",
    "version": 3
   },
   "file_extension": ".py",
   "mimetype": "text/x-python",
   "name": "python",
   "nbconvert_exporter": "python",
   "pygments_lexer": "ipython3",
   "version": "3.9.12"
  }
 },
 "nbformat": 4,
 "nbformat_minor": 5
}
