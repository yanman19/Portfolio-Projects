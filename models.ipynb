{
  "cells": [
    {
      "cell_type": "code",
      "source": [
        "from prophet import Prophet\n",
        "import pandas as pd\n",
        "from sklearn.metrics import mean_squared_error, mean_absolute_error\n",
        "import numpy as np\n",
        "\n",
        "def train_prophet_model(df, input_month, date_column, target_column):\n",
        "    # Convert the date column to datetime\n",
        "    df[date_column] = pd.to_datetime(df[date_column])\n",
        "\n",
        "    # Filter training data to include only the same month across years, excluding the most recent year\n",
        "    training_data = df[df[date_column].dt.month == input_month]\n",
        "    training_data = training_data[training_data[date_column].dt.year < training_data[date_column].dt.year.max()]\n",
        "\n",
        "    # Test data is the most recent year\n",
        "    test_data = df[df[date_column].dt.year == df[date_column].dt.year.max()]\n",
        "\n",
        "    # Prepare data for Prophet\n",
        "    training_data = training_data[[date_column, target_column]].rename(columns={date_column: 'ds', target_column: 'y'})\n",
        "    test_data = test_data[[date_column, target_column]].rename(columns={date_column: 'ds', target_column: 'y'})\n",
        "\n",
        "    # Initialize and fit the model\n",
        "    model = Prophet()\n",
        "    model.fit(training_data)\n",
        "\n",
        "    # Make predictions\n",
        "    forecast = model.predict(test_data[['ds']])\n",
        "\n",
        "    # Calculate metrics\n",
        "    mse = mean_squared_error(test_data['y'], forecast['yhat'])\n",
        "    mae = mean_absolute_error(test_data['y'], forecast['yhat'])\n",
        "\n",
        "    # Print metrics\n",
        "    print(f\"Mean Squared Error: {mse}\")\n",
        "    print(f\"Mean Absolute Error: {mae}\")\n",
        "\n",
        "    # If you want to see the components of the forecast\n",
        "    # model.plot_components(forecast)\n",
        "\n",
        "    return forecast\n",
        "\n",
        "# Example usage\n",
        "# df = pd.read_csv('your_dataset.csv')\n",
        "# forecast = train_prophet_model(df, input_month=4, date_column='your_date_column', target_column='your_target_column')\n"
      ],
      "outputs": [],
      "execution_count": null,
      "metadata": {},
      "id": "e02f2bc7"
    },
    {
      "cell_type": "code",
      "source": [
        "def make_predictions_with_assumptions(model, assumptions, date_column, future_periods, frequency):\n",
        "    \"\"\"\n",
        "    model: Trained Prophet model\n",
        "    assumptions: Dictionary containing assumptions for each variable\n",
        "    date_column: Name of the date column\n",
        "    future_periods: Number of periods to make predictions for\n",
        "    frequency: Frequency of the predictions ('D' for daily, 'M' for monthly, etc.)\n",
        "    \"\"\"\n",
        "    # Create a future DataFrame\n",
        "    future = model.make_future_dataframe(periods=future_periods, freq=frequency)\n",
        "\n",
        "    # Add the assumptions to the future DataFrame\n",
        "    for var in assumptions:\n",
        "        if var in future.columns:\n",
        "            raise ValueError(f\"Variable {var} conflicts with existing columns in the DataFrame.\")\n",
        "        future[var] = assumptions[var]\n",
        "\n",
        "    # Make predictions\n",
        "    forecast = model.predict(future)\n",
        "\n",
        "    # Return the predictions\n",
        "    return forecast[['ds', 'yhat', 'yhat_lower', 'yhat_upper']]\n",
        "\n",
        "# Example usage\n",
        "# assumptions = {'additional_regressor1': [value1, value2, ...], 'additional_regressor2': [value1, value2, ...]}\n",
        "# predictions = make_predictions_with_assumptions(model, assumptions, 'ds', future_periods=365, frequency='D')\n"
      ],
      "outputs": [],
      "execution_count": null,
      "metadata": {
        "jupyter": {
          "source_hidden": false,
          "outputs_hidden": false
        },
        "noteable": {
          "cell_type": "code"
        }
      },
      "id": "0c711a06-e588-4bbc-81cc-7b1dbb0def48"
    }
  ],
  "metadata": {
    "kernel_info": {
      "name": "python3.9-noteable"
    },
    "noteable": {
      "last_delta_id": "ae91b68f-4566-40f5-8faf-1db784874fb3"
    },
    "kernelspec": {
      "display_name": "Python 3.9 (Noteable)",
      "identifier": "noteable",
      "language": "python",
      "language_version": "3.9",
      "name": "python3.9-noteable"
    },
    "selected_hardware_size": "small",
    "nteract": {
      "version": "noteable@2.9.0"
    }
  },
  "nbformat": 4,
  "nbformat_minor": 5
}