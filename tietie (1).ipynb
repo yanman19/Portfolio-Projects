{
 "cells": [
  {
   "cell_type": "code",
   "execution_count": null,
   "id": "9ff22a76",
   "metadata": {},
   "outputs": [],
   "source": [
    "import pandas as pd\n",
    "\n",
    "# Assuming filtered_df and month_hours are your DataFrames\n",
    "# Replace 'filtered_df' and 'month_hours' with the actual names of your DataFrames\n",
    "\n",
    "# Convert 'Contracts' to the same data type in both DataFrames if necessary\n",
    "# filtered_df['Contracts'] = filtered_df['Contracts'].astype(the_desired_type)\n",
    "# month_hours['Contracts'] = month_hours['Contracts'].astype(the_desired_type)\n",
    "\n",
    "# Define a function to perform the dynamic lookup\n",
    "def get_hours(row, month_hours_df):\n",
    "    # Find the row in month_hours that matches the 'Contracts' value\n",
    "    matching_row = month_hours_df[month_hours_df['Contracts'] == row['Contracts']]\n",
    "    if not matching_row.empty:\n",
    "        # Get the column name from the 'QBT' field of filtered_df\n",
    "        column_name = row['QBT']\n",
    "        # Retrieve the value from the matching row and column in month_hours\n",
    "        return matching_row.iloc[0][column_name]\n",
    "    return None\n",
    "\n",
    "# Apply the function to create a new 'hours' column in filtered_df\n",
    "filtered_df['hours'] = filtered_df.apply(get_hours, axis=1, args=(month_hours,))\n"
   ]
  },
  {
   "cell_type": "code",
   "execution_count": null,
   "id": "1e2925f3",
   "metadata": {},
   "outputs": [],
   "source": [
    "import pandas as pd\n",
    "\n",
    "# Assuming df is your DataFrame and 'your_column' is the column you're basing your calculation on\n",
    "# Replace 'new_column', 'calculation_column', and 'your_column' with the actual names of your columns\n",
    "\n",
    "# Define the lambda function for the conditional calculation\n",
    "df['new_column'] = df.apply(lambda row: (row['calculation_column'] * 100) if row['your_column'] == 'EXCH' \n",
    "                            else (row['calculation_column'] / 50) if row['your_column'] == 'Ex' \n",
    "                            else row['calculation_column'], axis=1)\n",
    "\n",
    "# This will create a new column 'new_column' with the calculated values based on the condition\n"
   ]
  }
 ],
 "metadata": {
  "kernelspec": {
   "display_name": "Python 3 (ipykernel)",
   "language": "python",
   "name": "python3"
  },
  "language_info": {
   "codemirror_mode": {
    "name": "ipython",
    "version": 3
   },
   "file_extension": ".py",
   "mimetype": "text/x-python",
   "name": "python",
   "nbconvert_exporter": "python",
   "pygments_lexer": "ipython3",
   "version": "3.9.12"
  }
 },
 "nbformat": 4,
 "nbformat_minor": 5
}
