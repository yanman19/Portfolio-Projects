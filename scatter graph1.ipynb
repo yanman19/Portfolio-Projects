{
 "cells": [
  {
   "cell_type": "code",
   "execution_count": null,
   "id": "c1ef0e06",
   "metadata": {},
   "outputs": [],
   "source": [
    "import matplotlib.pyplot as plt\n",
    "from sklearn.linear_model import LinearRegression\n",
    "from sklearn.metrics import r2_score\n",
    "\n",
    "def plot_regression_by_year(data, x_col, y_col):\n",
    "    # Group data by year\n",
    "    data['year'] = data['date'].dt.year\n",
    "    grouped = data.groupby('year')\n",
    "\n",
    "    # Prepare for scatter plot with regression lines\n",
    "    plt.figure(figsize=(12, 6))\n",
    "    colors = plt.cm.rainbow(np.linspace(0, 1, len(grouped)))\n",
    "\n",
    "    # Initialize table for slope and r2 values\n",
    "    table_data = []\n",
    "\n",
    "    for i, (year, group) in enumerate(grouped):\n",
    "        # Linear regression\n",
    "        X = group[x_col].values.reshape(-1, 1)\n",
    "        y = group[y_col].values\n",
    "        reg = LinearRegression().fit(X, y)\n",
    "        y_pred = reg.predict(X)\n",
    "\n",
    "        # Scatter plot\n",
    "        plt.scatter(X, y, color=colors[i], label=year, alpha=0.7)\n",
    "        plt.plot(X, y_pred, color=colors[i], linewidth=2)\n",
    "\n",
    "        # Add slope and r2 to the table\n",
    "        slope = reg.coef_[0]\n",
    "        r2 = r2_score(y, y_pred)\n",
    "        table_data.append([year, slope, r2])\n",
    "\n",
    "    # Display scatter plot with regression lines\n",
    "    plt.xlabel(x_col.capitalize())\n",
    "    plt.ylabel(y_col.capitalize())\n",
    "    plt.title(f'{y_col.capitalize()} vs {x_col.capitalize()} by Year')\n",
    "    plt.legend()\n",
    "    plt.show()\n",
    "\n",
    "    # Display table of slope and r2 values\n",
    "    table_df = pd.DataFrame(table_data, columns=[\"Year\", \"Slope\", \"R2\"])\n",
    "    display(table_df)\n",
    "\n",
    "# Call the function with the example data\n",
    "plot_regression_by_year(data, \"weather\", \"load\")\n"
   ]
  }
 ],
 "metadata": {
  "kernelspec": {
   "display_name": "Python 3 (ipykernel)",
   "language": "python",
   "name": "python3"
  },
  "language_info": {
   "codemirror_mode": {
    "name": "ipython",
    "version": 3
   },
   "file_extension": ".py",
   "mimetype": "text/x-python",
   "name": "python",
   "nbconvert_exporter": "python",
   "pygments_lexer": "ipython3",
   "version": "3.9.12"
  }
 },
 "nbformat": 4,
 "nbformat_minor": 5
}
