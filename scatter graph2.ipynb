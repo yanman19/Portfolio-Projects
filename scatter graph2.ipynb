{
 "cells": [
  {
   "cell_type": "code",
   "execution_count": 1,
   "id": "ba9d02fc",
   "metadata": {},
   "outputs": [
    {
     "ename": "NameError",
     "evalue": "name 'data' is not defined",
     "output_type": "error",
     "traceback": [
      "\u001b[1;31m---------------------------------------------------------------------------\u001b[0m",
      "\u001b[1;31mNameError\u001b[0m                                 Traceback (most recent call last)",
      "Input \u001b[1;32mIn [1]\u001b[0m, in \u001b[0;36m<cell line: 44>\u001b[1;34m()\u001b[0m\n\u001b[0;32m     41\u001b[0m     display(table_df)\n\u001b[0;32m     43\u001b[0m \u001b[38;5;66;03m# Call the function with the example data\u001b[39;00m\n\u001b[1;32m---> 44\u001b[0m plot_regression_by_year_statsmodels(\u001b[43mdata\u001b[49m, \u001b[38;5;124m\"\u001b[39m\u001b[38;5;124mweather\u001b[39m\u001b[38;5;124m\"\u001b[39m, \u001b[38;5;124m\"\u001b[39m\u001b[38;5;124mload\u001b[39m\u001b[38;5;124m\"\u001b[39m)\n",
      "\u001b[1;31mNameError\u001b[0m: name 'data' is not defined"
     ]
    }
   ],
   "source": [
    "import statsmodels.api as sm\n",
    "\n",
    "def plot_regression_by_year_statsmodels(data, x_col, y_col):\n",
    "    # Group data by year\n",
    "    data['year'] = data['date'].dt.year\n",
    "    grouped = data.groupby('year')\n",
    "\n",
    "    # Prepare for scatter plot with regression lines\n",
    "    plt.figure(figsize=(12, 6))\n",
    "    colors = plt.cm.rainbow(np.linspace(0, 1, len(grouped)))\n",
    "\n",
    "    # Initialize table for slope and r2 values\n",
    "    table_data = []\n",
    "\n",
    "    for i, (year, group) in enumerate(grouped):\n",
    "        # Linear regression\n",
    "        X = group[x_col].values\n",
    "        X = sm.add_constant(X) # Add a constant term for the intercept\n",
    "        y = group[y_col].values\n",
    "        model = sm.OLS(y, X).fit()\n",
    "        y_pred = model.predict(X)\n",
    "\n",
    "        # Scatter plot\n",
    "        plt.scatter(X[:, 1], y, color=colors[i], label=year, alpha=0.7)\n",
    "        plt.plot(X[:, 1], y_pred, color=colors[i], linewidth=2)\n",
    "\n",
    "        # Add slope and r2 to the table\n",
    "        slope = model.params[1]\n",
    "        r2 = model.rsquared\n",
    "        table_data.append([year, slope, r2])\n",
    "\n",
    "    # Display scatter plot with regression lines\n",
    "    plt.xlabel(x_col.capitalize())\n",
    "    plt.ylabel(y_col.capitalize())\n",
    "    plt.title(f'{y_col.capitalize()} vs {x_col.capitalize()} by Year')\n",
    "    plt.legend()\n",
    "    plt.show()\n",
    "\n",
    "    # Display table of slope and r2 values\n",
    "    table_df = pd.DataFrame(table_data, columns=[\"Year\", \"Slope\", \"R2\"])\n",
    "    display(table_df)\n",
    "\n",
    "# Call the function with the example data\n",
    "plot_regression_by_year_statsmodels(data, \"weather\", \"load\")\n"
   ]
  }
 ],
 "metadata": {
  "kernelspec": {
   "display_name": "Python 3 (ipykernel)",
   "language": "python",
   "name": "python3"
  },
  "language_info": {
   "codemirror_mode": {
    "name": "ipython",
    "version": 3
   },
   "file_extension": ".py",
   "mimetype": "text/x-python",
   "name": "python",
   "nbconvert_exporter": "python",
   "pygments_lexer": "ipython3",
   "version": "3.9.12"
  }
 },
 "nbformat": 4,
 "nbformat_minor": 5
}
