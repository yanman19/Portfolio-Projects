{
  "cells": [
    {
      "cell_type": "code",
      "source": [
        "import pandas as pd\n",
        "import numpy as np"
      ],
      "outputs": [],
      "execution_count": null,
      "metadata": {
        "noteable": {
          "cell_type": "code"
        },
        "ExecuteTime": {
          "end_time": "2023-09-09T20:54:22.904434+00:00",
          "start_time": "2023-09-09T20:54:22.748709+00:00"
        }
      },
      "id": "530bbe7e-320a-481c-b124-0418dbca2df4"
    },
    {
      "cell_type": "code",
      "source": [
        "# Creating a sample time series data for demonstration purposes\n",
        "date_rng = pd.date_range(start='2015-01-01', end='2022-12-31', freq='D')\n",
        "df_sample = pd.DataFrame(date_rng, columns=['date'])\n",
        "df_sample['load_region_1'] = np.random.randint(0, 100, size=(len(date_rng)))\n",
        "df_sample['load_region_2'] = np.random.randint(0, 100, size=(len(date_rng)))\n",
        "df_sample['load_region_3'] = np.random.randint(0, 100, size=(len(date_rng)))\n",
        "df_sample.set_index('date', inplace=True)\n",
        "df_sample.head()"
      ],
      "outputs": [
        {
          "output_type": "display_data",
          "data": {
            "application/vnd.dataresource+json": {
              "schema": {
                "fields": [
                  {
                    "name": "date",
                    "type": "datetime"
                  },
                  {
                    "name": "load_region_1",
                    "type": "integer"
                  },
                  {
                    "name": "load_region_2",
                    "type": "integer"
                  },
                  {
                    "name": "load_region_3",
                    "type": "integer"
                  }
                ],
                "primaryKey": [
                  "date"
                ],
                "pandas_version": "1.4.0"
              },
              "data": [
                {
                  "date": "2015-01-01T00:00:00Z",
                  "load_region_1": 71,
                  "load_region_2": 75,
                  "load_region_3": 8
                },
                {
                  "date": "2015-01-02T00:00:00Z",
                  "load_region_1": 74,
                  "load_region_2": 75,
                  "load_region_3": 15
                },
                {
                  "date": "2015-01-03T00:00:00Z",
                  "load_region_1": 85,
                  "load_region_2": 60,
                  "load_region_3": 60
                },
                {
                  "date": "2015-01-04T00:00:00Z",
                  "load_region_1": 7,
                  "load_region_2": 26,
                  "load_region_3": 39
                },
                {
                  "date": "2015-01-05T00:00:00Z",
                  "load_region_1": 4,
                  "load_region_2": 63,
                  "load_region_3": 9
                }
              ],
              "datalink": {
                "display_id": "623f2740-2c32-4750-8228-916def6d6250"
              }
            }
          },
          "metadata": {
            "application/vnd.dataresource+json": {
              "datalink": {
                "dataframe_info": {
                  "default_index_used": false,
                  "orig_size_bytes": 160,
                  "orig_num_rows": 5,
                  "orig_num_cols": 3,
                  "truncated_string_columns": [],
                  "truncated_size_bytes": 160,
                  "truncated_num_rows": 5,
                  "truncated_num_cols": 3
                },
                "dx_settings": {
                  "NUM_PAST_SAMPLES_TRACKED": 3,
                  "ENABLE_DATALINK": true,
                  "DISPLAY_MODE": "simple",
                  "GENERATE_DEX_METADATA": false,
                  "STRINGIFY_INDEX_VALUES": false,
                  "ALLOW_NOTEABLE_ATTRS": true,
                  "DISPLAY_MAX_COLUMNS": 100,
                  "HTML_TABLE_SCHEMA": false,
                  "SAMPLING_FACTOR": 0.1,
                  "LOG_LEVEL": 30,
                  "ENABLE_ASSIGNMENT": true,
                  "FLATTEN_INDEX_VALUES": false,
                  "DEV_MODE": false,
                  "COLUMN_SAMPLING_METHOD": "outer",
                  "FLATTEN_COLUMN_VALUES": true,
                  "DISPLAY_MAX_ROWS": 50000,
                  "ROW_SAMPLING_METHOD": "random",
                  "RANDOM_STATE": 12648430,
                  "DB_LOCATION": ":memory:",
                  "STRINGIFY_COLUMN_VALUES": true,
                  "SAMPLING_METHOD": "random",
                  "MAX_STRING_LENGTH": 250,
                  "MAX_RENDER_SIZE_BYTES": 104857600,
                  "RESET_INDEX_VALUES": false
                },
                "display_id": "623f2740-2c32-4750-8228-916def6d6250",
                "applied_filters": [],
                "sample_history": [],
                "sampling_time": "2023-09-09T20:55:15.375787",
                "variable_name": "unk_dataframe_606734baadc0484582b62b2b19ef637a",
                "user_variable_name": null
              },
              "display_id": "623f2740-2c32-4750-8228-916def6d6250"
            }
          }
        }
      ],
      "execution_count": null,
      "metadata": {
        "noteable": {
          "cell_type": "code"
        },
        "ExecuteTime": {
          "end_time": "2023-09-09T20:55:15.540384+00:00",
          "start_time": "2023-09-09T20:55:15.342931+00:00"
        },
        "datalink": {
          "623f2740-2c32-4750-8228-916def6d6250": {
            "applied_filters": [],
            "dataframe_info": {
              "default_index_used": false,
              "orig_num_cols": 3,
              "orig_num_rows": 5,
              "orig_size_bytes": 160,
              "truncated_num_cols": 3,
              "truncated_num_rows": 5,
              "truncated_size_bytes": 160,
              "truncated_string_columns": []
            },
            "display_id": "623f2740-2c32-4750-8228-916def6d6250",
            "dx_settings": {
              "ALLOW_NOTEABLE_ATTRS": true,
              "COLUMN_SAMPLING_METHOD": "outer",
              "DB_LOCATION": ":memory:",
              "DEV_MODE": false,
              "DISPLAY_MAX_COLUMNS": 100,
              "DISPLAY_MAX_ROWS": 50000,
              "DISPLAY_MODE": "simple",
              "ENABLE_ASSIGNMENT": true,
              "ENABLE_DATALINK": true,
              "FLATTEN_COLUMN_VALUES": true,
              "FLATTEN_INDEX_VALUES": false,
              "GENERATE_DEX_METADATA": false,
              "HTML_TABLE_SCHEMA": false,
              "LOG_LEVEL": 30,
              "MAX_RENDER_SIZE_BYTES": 104857600,
              "MAX_STRING_LENGTH": 250,
              "NUM_PAST_SAMPLES_TRACKED": 3,
              "RANDOM_STATE": 12648430,
              "RESET_INDEX_VALUES": false,
              "ROW_SAMPLING_METHOD": "random",
              "SAMPLING_FACTOR": 0.1,
              "SAMPLING_METHOD": "random",
              "STRINGIFY_COLUMN_VALUES": true,
              "STRINGIFY_INDEX_VALUES": false
            },
            "sample_history": [],
            "sampling_time": "2023-09-09T20:55:15.375787",
            "user_variable_name": null,
            "variable_name": "unk_dataframe_606734baadc0484582b62b2b19ef637a"
          }
        }
      },
      "id": "c9f377f1-38ae-43b1-8f21-a5d5315cfed0"
    },
    {
      "cell_type": "code",
      "source": [
        "def process_data_for_region(df, region_column):\n",
        "    # Resampling data monthly and calculating cumulative sum\n",
        "    monthly_data = df[region_column].resample('M').sum()\n",
        "    # Creating a pivot table with years as index and months as columns\n",
        "    pivot_data = monthly_data.pivot_table(index=monthly_data.index.year, columns=monthly_data.index.month, values=region_column, aggfunc='sum')\n",
        "    # Removing the year 2020\n",
        "    pivot_data = pivot_data.drop(2020, errors='ignore')\n",
        "    # Calculating percentage change compared to the same month in the year before\n",
        "    pct_change_data = pivot_data.pct_change() * 100\n",
        "    # Combining the cumulative load and its percentage change\n",
        "    for col in pivot_data.columns:\n",
        "        pivot_data[col] = pivot_data[col].astype(str) + ' (' + pct_change_data[col].round(2).astype(str) + '%)'\n",
        "    return pivot_data\n",
        "\n",
        "# Processing data for each region\n",
        "region_1_table = process_data_for_region(df_sample, 'load_region_1')\n",
        "region_2_table = process_data_for_region(df_sample, 'load_region_2')\n",
        "region_3_table = process_data_for_region(df_sample, 'load_region_3')\n",
        "\n",
        "region_1_table"
      ],
      "outputs": [
        {
          "output_type": "error",
          "ename": "AttributeError",
          "evalue": "'Series' object has no attribute 'pivot_table'",
          "traceback": [
            "\u001b[0;31m---------------------------------------------------------------------------\u001b[0m",
            "\u001b[0;31mAttributeError\u001b[0m                            Traceback (most recent call last)",
            "\u001b[0;32m/tmp/ipykernel_7/3986410351.py\u001b[0m in \u001b[0;36m?\u001b[0;34m()\u001b[0m\n\u001b[0;32m---> 16\u001b[0;31m \u001b[0;32mdef\u001b[0m \u001b[0mprocess_data_for_region\u001b[0m\u001b[0;34m(\u001b[0m\u001b[0mdf\u001b[0m\u001b[0;34m,\u001b[0m \u001b[0mregion_column\u001b[0m\u001b[0;34m)\u001b[0m\u001b[0;34m:\u001b[0m\u001b[0;34m\u001b[0m\u001b[0;34m\u001b[0m\u001b[0m\n\u001b[0m\u001b[1;32m     17\u001b[0m     \u001b[0;31m# Resampling data monthly and calculating cumulative sum\u001b[0m\u001b[0;34m\u001b[0m\u001b[0;34m\u001b[0m\u001b[0m\n\u001b[1;32m     18\u001b[0m     \u001b[0mmonthly_data\u001b[0m \u001b[0;34m=\u001b[0m \u001b[0mdf\u001b[0m\u001b[0;34m[\u001b[0m\u001b[0mregion_column\u001b[0m\u001b[0;34m]\u001b[0m\u001b[0;34m.\u001b[0m\u001b[0mresample\u001b[0m\u001b[0;34m(\u001b[0m\u001b[0;34m'M'\u001b[0m\u001b[0;34m)\u001b[0m\u001b[0;34m.\u001b[0m\u001b[0msum\u001b[0m\u001b[0;34m(\u001b[0m\u001b[0;34m)\u001b[0m\u001b[0;34m\u001b[0m\u001b[0;34m\u001b[0m\u001b[0m\n\u001b[1;32m     19\u001b[0m     \u001b[0;31m# Creating a pivot table with years as index and months as columns\u001b[0m\u001b[0;34m\u001b[0m\u001b[0;34m\u001b[0m\u001b[0m\n",
            "\u001b[0;32m/tmp/ipykernel_7/3986410351.py\u001b[0m in \u001b[0;36m?\u001b[0;34m(df, region_column)\u001b[0m\n\u001b[1;32m      1\u001b[0m \u001b[0;32mdef\u001b[0m \u001b[0mprocess_data_for_region\u001b[0m\u001b[0;34m(\u001b[0m\u001b[0mdf\u001b[0m\u001b[0;34m,\u001b[0m \u001b[0mregion_column\u001b[0m\u001b[0;34m)\u001b[0m\u001b[0;34m:\u001b[0m\u001b[0;34m\u001b[0m\u001b[0;34m\u001b[0m\u001b[0m\n\u001b[1;32m      2\u001b[0m     \u001b[0;31m# Resampling data monthly and calculating cumulative sum\u001b[0m\u001b[0;34m\u001b[0m\u001b[0;34m\u001b[0m\u001b[0m\n\u001b[1;32m      3\u001b[0m     \u001b[0mmonthly_data\u001b[0m \u001b[0;34m=\u001b[0m \u001b[0mdf\u001b[0m\u001b[0;34m[\u001b[0m\u001b[0mregion_column\u001b[0m\u001b[0;34m]\u001b[0m\u001b[0;34m.\u001b[0m\u001b[0mresample\u001b[0m\u001b[0;34m(\u001b[0m\u001b[0;34m'M'\u001b[0m\u001b[0;34m)\u001b[0m\u001b[0;34m.\u001b[0m\u001b[0msum\u001b[0m\u001b[0;34m(\u001b[0m\u001b[0;34m)\u001b[0m\u001b[0;34m\u001b[0m\u001b[0;34m\u001b[0m\u001b[0m\n\u001b[1;32m      4\u001b[0m     \u001b[0;31m# Creating a pivot table with years as index and months as columns\u001b[0m\u001b[0;34m\u001b[0m\u001b[0;34m\u001b[0m\u001b[0m\n\u001b[0;32m----> 5\u001b[0;31m     \u001b[0mpivot_data\u001b[0m \u001b[0;34m=\u001b[0m \u001b[0mmonthly_data\u001b[0m\u001b[0;34m.\u001b[0m\u001b[0mpivot_table\u001b[0m\u001b[0;34m(\u001b[0m\u001b[0mindex\u001b[0m\u001b[0;34m=\u001b[0m\u001b[0mmonthly_data\u001b[0m\u001b[0;34m.\u001b[0m\u001b[0mindex\u001b[0m\u001b[0;34m.\u001b[0m\u001b[0myear\u001b[0m\u001b[0;34m,\u001b[0m \u001b[0mcolumns\u001b[0m\u001b[0;34m=\u001b[0m\u001b[0mmonthly_data\u001b[0m\u001b[0;34m.\u001b[0m\u001b[0mindex\u001b[0m\u001b[0;34m.\u001b[0m\u001b[0mmonth\u001b[0m\u001b[0;34m,\u001b[0m \u001b[0mvalues\u001b[0m\u001b[0;34m=\u001b[0m\u001b[0mregion_column\u001b[0m\u001b[0;34m,\u001b[0m \u001b[0maggfunc\u001b[0m\u001b[0;34m=\u001b[0m\u001b[0;34m'sum'\u001b[0m\u001b[0;34m)\u001b[0m\u001b[0;34m\u001b[0m\u001b[0;34m\u001b[0m\u001b[0m\n\u001b[0m\u001b[1;32m      6\u001b[0m     \u001b[0;31m# Removing the year 2020\u001b[0m\u001b[0;34m\u001b[0m\u001b[0;34m\u001b[0m\u001b[0m\n\u001b[1;32m      7\u001b[0m     \u001b[0mpivot_data\u001b[0m \u001b[0;34m=\u001b[0m \u001b[0mpivot_data\u001b[0m\u001b[0;34m.\u001b[0m\u001b[0mdrop\u001b[0m\u001b[0;34m(\u001b[0m\u001b[0;36m2020\u001b[0m\u001b[0;34m,\u001b[0m \u001b[0merrors\u001b[0m\u001b[0;34m=\u001b[0m\u001b[0;34m'ignore'\u001b[0m\u001b[0;34m)\u001b[0m\u001b[0;34m\u001b[0m\u001b[0;34m\u001b[0m\u001b[0m\n\u001b[1;32m      8\u001b[0m     \u001b[0;31m# Calculating percentage change compared to the same month in the year before\u001b[0m\u001b[0;34m\u001b[0m\u001b[0;34m\u001b[0m\u001b[0m\n",
            "\u001b[0;32m/opt/conda/lib/python3.9/site-packages/pandas/core/generic.py\u001b[0m in \u001b[0;36m?\u001b[0;34m(self, name)\u001b[0m\n\u001b[1;32m   5898\u001b[0m             \u001b[0;32mand\u001b[0m \u001b[0mname\u001b[0m \u001b[0;32mnot\u001b[0m \u001b[0;32min\u001b[0m \u001b[0mself\u001b[0m\u001b[0;34m.\u001b[0m\u001b[0m_accessors\u001b[0m\u001b[0;34m\u001b[0m\u001b[0;34m\u001b[0m\u001b[0m\n\u001b[1;32m   5899\u001b[0m             \u001b[0;32mand\u001b[0m \u001b[0mself\u001b[0m\u001b[0;34m.\u001b[0m\u001b[0m_info_axis\u001b[0m\u001b[0;34m.\u001b[0m\u001b[0m_can_hold_identifiers_and_holds_name\u001b[0m\u001b[0;34m(\u001b[0m\u001b[0mname\u001b[0m\u001b[0;34m)\u001b[0m\u001b[0;34m\u001b[0m\u001b[0;34m\u001b[0m\u001b[0m\n\u001b[1;32m   5900\u001b[0m         ):\n\u001b[1;32m   5901\u001b[0m             \u001b[0;32mreturn\u001b[0m \u001b[0mself\u001b[0m\u001b[0;34m[\u001b[0m\u001b[0mname\u001b[0m\u001b[0;34m]\u001b[0m\u001b[0;34m\u001b[0m\u001b[0;34m\u001b[0m\u001b[0m\n\u001b[0;32m-> 5902\u001b[0;31m         \u001b[0;32mreturn\u001b[0m \u001b[0mobject\u001b[0m\u001b[0;34m.\u001b[0m\u001b[0m__getattribute__\u001b[0m\u001b[0;34m(\u001b[0m\u001b[0mself\u001b[0m\u001b[0;34m,\u001b[0m \u001b[0mname\u001b[0m\u001b[0;34m)\u001b[0m\u001b[0;34m\u001b[0m\u001b[0;34m\u001b[0m\u001b[0m\n\u001b[0m",
            "\u001b[0;31mAttributeError\u001b[0m: 'Series' object has no attribute 'pivot_table'"
          ]
        }
      ],
      "execution_count": null,
      "metadata": {
        "noteable": {
          "cell_type": "code"
        },
        "ExecuteTime": {
          "end_time": "2023-09-09T20:56:03.542665+00:00",
          "start_time": "2023-09-09T20:56:03.277211+00:00"
        }
      },
      "id": "10156bf2-6151-4642-9611-afb1e710a40d"
    },
    {
      "cell_type": "code",
      "source": [
        "def process_data_for_region(df, region_column):\n",
        "    # Resampling data monthly and calculating cumulative sum\n",
        "    monthly_data = df[region_column].resample('M').sum()\n",
        "    # Creating a DataFrame with years and months\n",
        "    monthly_df = pd.DataFrame({\n",
        "        'Year': monthly_data.index.year,\n",
        "        'Month': monthly_data.index.month,\n",
        "        'Load': monthly_data.values\n",
        "    })\n",
        "    # Creating a pivot table with years as index and months as columns\n",
        "    pivot_data = monthly_df.pivot(index='Year', columns='Month', values='Load')\n",
        "    # Removing the year 2020\n",
        "    pivot_data = pivot_data.drop(2020, errors='ignore')\n",
        "    # Calculating percentage change compared to the same month in the year before\n",
        "    pct_change_data = pivot_data.pct_change() * 100\n",
        "    # Combining the cumulative load and its percentage change\n",
        "    for col in pivot_data.columns:\n",
        "        pivot_data[col] = pivot_data[col].astype(str) + ' (' + pct_change_data[col].round(2).astype(str) + '%)'\n",
        "    return pivot_data\n",
        "\n",
        "# Processing data for each region\n",
        "region_1_table = process_data_for_region(df_sample, 'load_region_1')\n",
        "region_2_table = process_data_for_region(df_sample, 'load_region_2')\n",
        "region_3_table = process_data_for_region(df_sample, 'load_region_3')\n",
        "\n",
        "region_1_table"
      ],
      "outputs": [
        {
          "output_type": "display_data",
          "data": {
            "application/vnd.dataresource+json": {
              "schema": {
                "fields": [
                  {
                    "name": "Year",
                    "type": "integer"
                  },
                  {
                    "name": "1",
                    "type": "string"
                  },
                  {
                    "name": "2",
                    "type": "string"
                  },
                  {
                    "name": "3",
                    "type": "string"
                  },
                  {
                    "name": "4",
                    "type": "string"
                  },
                  {
                    "name": "5",
                    "type": "string"
                  },
                  {
                    "name": "6",
                    "type": "string"
                  },
                  {
                    "name": "7",
                    "type": "string"
                  },
                  {
                    "name": "8",
                    "type": "string"
                  },
                  {
                    "name": "9",
                    "type": "string"
                  },
                  {
                    "name": "10",
                    "type": "string"
                  },
                  {
                    "name": "11",
                    "type": "string"
                  },
                  {
                    "name": "12",
                    "type": "string"
                  }
                ],
                "primaryKey": [
                  "Year"
                ],
                "pandas_version": "1.4.0"
              },
              "data": [
                {
                  "1": "1798 (nan%)",
                  "2": "1548 (nan%)",
                  "3": "1624 (nan%)",
                  "4": "1482 (nan%)",
                  "5": "1630 (nan%)",
                  "6": "1441 (nan%)",
                  "7": "1632 (nan%)",
                  "8": "1854 (nan%)",
                  "9": "1639 (nan%)",
                  "10": "1664 (nan%)",
                  "11": "1568 (nan%)",
                  "12": "1588 (nan%)",
                  "Year": 2015
                },
                {
                  "1": "1611 (-10.4%)",
                  "2": "1418 (-8.4%)",
                  "3": "1710 (5.3%)",
                  "4": "1453 (-1.96%)",
                  "5": "1627 (-0.18%)",
                  "6": "1726 (19.78%)",
                  "7": "1441 (-11.7%)",
                  "8": "1582 (-14.67%)",
                  "9": "1458 (-11.04%)",
                  "10": "1508 (-9.38%)",
                  "11": "1156 (-26.28%)",
                  "12": "1750 (10.2%)",
                  "Year": 2016
                },
                {
                  "1": "1390 (-13.72%)",
                  "2": "1061 (-25.18%)",
                  "3": "1650 (-3.51%)",
                  "4": "1546 (6.4%)",
                  "5": "1614 (-0.8%)",
                  "6": "1717 (-0.52%)",
                  "7": "1502 (4.23%)",
                  "8": "1300 (-17.83%)",
                  "9": "1568 (7.54%)",
                  "10": "1598 (5.97%)",
                  "11": "1465 (26.73%)",
                  "12": "1614 (-7.77%)",
                  "Year": 2017
                },
                {
                  "1": "1442 (3.74%)",
                  "2": "1474 (38.93%)",
                  "3": "1365 (-17.27%)",
                  "4": "1441 (-6.79%)",
                  "5": "1372 (-14.99%)",
                  "6": "1806 (5.18%)",
                  "7": "1470 (-2.13%)",
                  "8": "1549 (19.15%)",
                  "9": "1468 (-6.38%)",
                  "10": "1428 (-10.64%)",
                  "11": "1681 (14.74%)",
                  "12": "1822 (12.89%)",
                  "Year": 2018
                },
                {
                  "1": "1597 (10.75%)",
                  "2": "1647 (11.74%)",
                  "3": "1417 (3.81%)",
                  "4": "1426 (-1.04%)",
                  "5": "1451 (5.76%)",
                  "6": "1578 (-12.62%)",
                  "7": "1890 (28.57%)",
                  "8": "1307 (-15.62%)",
                  "9": "1570 (6.95%)",
                  "10": "1439 (0.77%)",
                  "11": "1624 (-3.39%)",
                  "12": "1681 (-7.74%)",
                  "Year": 2019
                },
                {
                  "1": "1559 (-2.38%)",
                  "2": "1356 (-17.67%)",
                  "3": "1491 (5.22%)",
                  "4": "1657 (16.2%)",
                  "5": "1612 (11.1%)",
                  "6": "1606 (1.77%)",
                  "7": "1899 (0.48%)",
                  "8": "1785 (36.57%)",
                  "9": "1434 (-8.66%)",
                  "10": "1709 (18.76%)",
                  "11": "1526 (-6.03%)",
                  "12": "1663 (-1.07%)",
                  "Year": 2021
                },
                {
                  "1": "1558 (-0.06%)",
                  "2": "1702 (25.52%)",
                  "3": "1318 (-11.6%)",
                  "4": "1287 (-22.33%)",
                  "5": "1727 (7.13%)",
                  "6": "1424 (-11.33%)",
                  "7": "1521 (-19.91%)",
                  "8": "1662 (-6.89%)",
                  "9": "1515 (5.65%)",
                  "10": "1350 (-21.01%)",
                  "11": "1402 (-8.13%)",
                  "12": "1713 (3.01%)",
                  "Year": 2022
                }
              ],
              "datalink": {
                "display_id": "cf66ef21-6448-4bbf-afc9-ccb753138bcb"
              }
            }
          },
          "metadata": {
            "application/vnd.dataresource+json": {
              "datalink": {
                "dataframe_info": {
                  "default_index_used": false,
                  "orig_size_bytes": 728,
                  "orig_num_rows": 7,
                  "orig_num_cols": 12,
                  "truncated_string_columns": [],
                  "truncated_size_bytes": 728,
                  "truncated_num_rows": 7,
                  "truncated_num_cols": 12
                },
                "dx_settings": {
                  "NUM_PAST_SAMPLES_TRACKED": 3,
                  "ENABLE_DATALINK": true,
                  "DISPLAY_MODE": "simple",
                  "GENERATE_DEX_METADATA": false,
                  "STRINGIFY_INDEX_VALUES": false,
                  "ALLOW_NOTEABLE_ATTRS": true,
                  "DISPLAY_MAX_COLUMNS": 100,
                  "HTML_TABLE_SCHEMA": false,
                  "SAMPLING_FACTOR": 0.1,
                  "LOG_LEVEL": 30,
                  "ENABLE_ASSIGNMENT": true,
                  "FLATTEN_INDEX_VALUES": false,
                  "DEV_MODE": false,
                  "COLUMN_SAMPLING_METHOD": "outer",
                  "FLATTEN_COLUMN_VALUES": true,
                  "DISPLAY_MAX_ROWS": 50000,
                  "ROW_SAMPLING_METHOD": "random",
                  "RANDOM_STATE": 12648430,
                  "DB_LOCATION": ":memory:",
                  "STRINGIFY_COLUMN_VALUES": true,
                  "SAMPLING_METHOD": "random",
                  "MAX_STRING_LENGTH": 250,
                  "MAX_RENDER_SIZE_BYTES": 104857600,
                  "RESET_INDEX_VALUES": false
                },
                "display_id": "cf66ef21-6448-4bbf-afc9-ccb753138bcb",
                "applied_filters": [],
                "sample_history": [],
                "sampling_time": "2023-09-09T20:56:40.011473",
                "variable_name": "region_1_table",
                "user_variable_name": "region_1_table"
              },
              "display_id": "cf66ef21-6448-4bbf-afc9-ccb753138bcb"
            }
          }
        }
      ],
      "execution_count": null,
      "metadata": {
        "noteable": {
          "cell_type": "code"
        },
        "ExecuteTime": {
          "end_time": "2023-09-09T20:56:40.172746+00:00",
          "start_time": "2023-09-09T20:56:39.912114+00:00"
        },
        "datalink": {
          "cf66ef21-6448-4bbf-afc9-ccb753138bcb": {
            "applied_filters": [],
            "dataframe_info": {
              "default_index_used": false,
              "orig_num_cols": 12,
              "orig_num_rows": 7,
              "orig_size_bytes": 728,
              "truncated_num_cols": 12,
              "truncated_num_rows": 7,
              "truncated_size_bytes": 728,
              "truncated_string_columns": []
            },
            "display_id": "cf66ef21-6448-4bbf-afc9-ccb753138bcb",
            "dx_settings": {
              "ALLOW_NOTEABLE_ATTRS": true,
              "COLUMN_SAMPLING_METHOD": "outer",
              "DB_LOCATION": ":memory:",
              "DEV_MODE": false,
              "DISPLAY_MAX_COLUMNS": 100,
              "DISPLAY_MAX_ROWS": 50000,
              "DISPLAY_MODE": "simple",
              "ENABLE_ASSIGNMENT": true,
              "ENABLE_DATALINK": true,
              "FLATTEN_COLUMN_VALUES": true,
              "FLATTEN_INDEX_VALUES": false,
              "GENERATE_DEX_METADATA": false,
              "HTML_TABLE_SCHEMA": false,
              "LOG_LEVEL": 30,
              "MAX_RENDER_SIZE_BYTES": 104857600,
              "MAX_STRING_LENGTH": 250,
              "NUM_PAST_SAMPLES_TRACKED": 3,
              "RANDOM_STATE": 12648430,
              "RESET_INDEX_VALUES": false,
              "ROW_SAMPLING_METHOD": "random",
              "SAMPLING_FACTOR": 0.1,
              "SAMPLING_METHOD": "random",
              "STRINGIFY_COLUMN_VALUES": true,
              "STRINGIFY_INDEX_VALUES": false
            },
            "sample_history": [],
            "sampling_time": "2023-09-09T20:56:40.011473",
            "user_variable_name": "region_1_table",
            "variable_name": "region_1_table"
          }
        }
      },
      "id": "6de882b3-6b92-40b0-9e5c-c5f02eb0fef0"
    },
    {
      "cell_type": "code",
      "source": [
        "# Adjusting the function to use month numbers instead of names\n",
        "def process_data_for_region_v2(df, region_column):\n",
        "    # Resampling data monthly and calculating cumulative sum\n",
        "    monthly_data = df[region_column].resample('M').sum()\n",
        "    # Creating a DataFrame with years and months\n",
        "    monthly_df = pd.DataFrame({\n",
        "        'Year': monthly_data.index.year,\n",
        "        'Month': monthly_data.index.month,\n",
        "        'Load': monthly_data.values\n",
        "    })\n",
        "    # Creating a pivot table with years as index and months as columns\n",
        "    pivot_data = monthly_df.pivot(index='Year', columns='Month', values='Load')\n",
        "    # Removing the year 2020\n",
        "    pivot_data = pivot_data.drop(2020, errors='ignore')\n",
        "    # Calculating percentage change compared to the same month in the year before\n",
        "    pct_change_data = pivot_data.pct_change() * 100\n",
        "    # Combining the cumulative load and its percentage change\n",
        "    for col in pivot_data.columns:\n",
        "        pivot_data[col] = pivot_data[col].astype(str) + ' (' + pct_change_data[col].round(2).astype(str) + '%)'\n",
        "    return pivot_data\n",
        "\n",
        "# Processing data for each region using the updated function\n",
        "region_1_table_v2 = process_data_for_region_v2(df_sample, 'load_region_1')\n",
        "region_2_table_v2 = process_data_for_region_v2(df_sample, 'load_region_2')\n",
        "region_3_table_v2 = process_data_for_region_v2(df_sample, 'load_region_3')\n",
        "\n",
        "region_1_table_v2"
      ],
      "outputs": [
        {
          "output_type": "display_data",
          "data": {
            "application/vnd.dataresource+json": {
              "schema": {
                "fields": [
                  {
                    "name": "Year",
                    "type": "integer"
                  },
                  {
                    "name": "1",
                    "type": "string"
                  },
                  {
                    "name": "2",
                    "type": "string"
                  },
                  {
                    "name": "3",
                    "type": "string"
                  },
                  {
                    "name": "4",
                    "type": "string"
                  },
                  {
                    "name": "5",
                    "type": "string"
                  },
                  {
                    "name": "6",
                    "type": "string"
                  },
                  {
                    "name": "7",
                    "type": "string"
                  },
                  {
                    "name": "8",
                    "type": "string"
                  },
                  {
                    "name": "9",
                    "type": "string"
                  },
                  {
                    "name": "10",
                    "type": "string"
                  },
                  {
                    "name": "11",
                    "type": "string"
                  },
                  {
                    "name": "12",
                    "type": "string"
                  }
                ],
                "primaryKey": [
                  "Year"
                ],
                "pandas_version": "1.4.0"
              },
              "data": [
                {
                  "1": "1798 (nan%)",
                  "2": "1548 (nan%)",
                  "3": "1624 (nan%)",
                  "4": "1482 (nan%)",
                  "5": "1630 (nan%)",
                  "6": "1441 (nan%)",
                  "7": "1632 (nan%)",
                  "8": "1854 (nan%)",
                  "9": "1639 (nan%)",
                  "10": "1664 (nan%)",
                  "11": "1568 (nan%)",
                  "12": "1588 (nan%)",
                  "Year": 2015
                },
                {
                  "1": "1611 (-10.4%)",
                  "2": "1418 (-8.4%)",
                  "3": "1710 (5.3%)",
                  "4": "1453 (-1.96%)",
                  "5": "1627 (-0.18%)",
                  "6": "1726 (19.78%)",
                  "7": "1441 (-11.7%)",
                  "8": "1582 (-14.67%)",
                  "9": "1458 (-11.04%)",
                  "10": "1508 (-9.38%)",
                  "11": "1156 (-26.28%)",
                  "12": "1750 (10.2%)",
                  "Year": 2016
                },
                {
                  "1": "1390 (-13.72%)",
                  "2": "1061 (-25.18%)",
                  "3": "1650 (-3.51%)",
                  "4": "1546 (6.4%)",
                  "5": "1614 (-0.8%)",
                  "6": "1717 (-0.52%)",
                  "7": "1502 (4.23%)",
                  "8": "1300 (-17.83%)",
                  "9": "1568 (7.54%)",
                  "10": "1598 (5.97%)",
                  "11": "1465 (26.73%)",
                  "12": "1614 (-7.77%)",
                  "Year": 2017
                },
                {
                  "1": "1442 (3.74%)",
                  "2": "1474 (38.93%)",
                  "3": "1365 (-17.27%)",
                  "4": "1441 (-6.79%)",
                  "5": "1372 (-14.99%)",
                  "6": "1806 (5.18%)",
                  "7": "1470 (-2.13%)",
                  "8": "1549 (19.15%)",
                  "9": "1468 (-6.38%)",
                  "10": "1428 (-10.64%)",
                  "11": "1681 (14.74%)",
                  "12": "1822 (12.89%)",
                  "Year": 2018
                },
                {
                  "1": "1597 (10.75%)",
                  "2": "1647 (11.74%)",
                  "3": "1417 (3.81%)",
                  "4": "1426 (-1.04%)",
                  "5": "1451 (5.76%)",
                  "6": "1578 (-12.62%)",
                  "7": "1890 (28.57%)",
                  "8": "1307 (-15.62%)",
                  "9": "1570 (6.95%)",
                  "10": "1439 (0.77%)",
                  "11": "1624 (-3.39%)",
                  "12": "1681 (-7.74%)",
                  "Year": 2019
                },
                {
                  "1": "1559 (-2.38%)",
                  "2": "1356 (-17.67%)",
                  "3": "1491 (5.22%)",
                  "4": "1657 (16.2%)",
                  "5": "1612 (11.1%)",
                  "6": "1606 (1.77%)",
                  "7": "1899 (0.48%)",
                  "8": "1785 (36.57%)",
                  "9": "1434 (-8.66%)",
                  "10": "1709 (18.76%)",
                  "11": "1526 (-6.03%)",
                  "12": "1663 (-1.07%)",
                  "Year": 2021
                },
                {
                  "1": "1558 (-0.06%)",
                  "2": "1702 (25.52%)",
                  "3": "1318 (-11.6%)",
                  "4": "1287 (-22.33%)",
                  "5": "1727 (7.13%)",
                  "6": "1424 (-11.33%)",
                  "7": "1521 (-19.91%)",
                  "8": "1662 (-6.89%)",
                  "9": "1515 (5.65%)",
                  "10": "1350 (-21.01%)",
                  "11": "1402 (-8.13%)",
                  "12": "1713 (3.01%)",
                  "Year": 2022
                }
              ],
              "datalink": {
                "display_id": "d5f701be-7b54-4c45-8815-a2498bbfa71d"
              }
            }
          },
          "metadata": {
            "application/vnd.dataresource+json": {
              "datalink": {
                "dataframe_info": {
                  "default_index_used": false,
                  "orig_size_bytes": 728,
                  "orig_num_rows": 7,
                  "orig_num_cols": 12,
                  "truncated_string_columns": [],
                  "truncated_size_bytes": 728,
                  "truncated_num_rows": 7,
                  "truncated_num_cols": 12
                },
                "dx_settings": {
                  "NUM_PAST_SAMPLES_TRACKED": 3,
                  "ENABLE_DATALINK": true,
                  "DISPLAY_MODE": "simple",
                  "GENERATE_DEX_METADATA": false,
                  "STRINGIFY_INDEX_VALUES": false,
                  "ALLOW_NOTEABLE_ATTRS": true,
                  "DISPLAY_MAX_COLUMNS": 100,
                  "HTML_TABLE_SCHEMA": false,
                  "SAMPLING_FACTOR": 0.1,
                  "LOG_LEVEL": 30,
                  "ENABLE_ASSIGNMENT": true,
                  "FLATTEN_INDEX_VALUES": false,
                  "DEV_MODE": false,
                  "COLUMN_SAMPLING_METHOD": "outer",
                  "FLATTEN_COLUMN_VALUES": true,
                  "DISPLAY_MAX_ROWS": 50000,
                  "ROW_SAMPLING_METHOD": "random",
                  "RANDOM_STATE": 12648430,
                  "DB_LOCATION": ":memory:",
                  "STRINGIFY_COLUMN_VALUES": true,
                  "SAMPLING_METHOD": "random",
                  "MAX_STRING_LENGTH": 250,
                  "MAX_RENDER_SIZE_BYTES": 104857600,
                  "RESET_INDEX_VALUES": false
                },
                "display_id": "d5f701be-7b54-4c45-8815-a2498bbfa71d",
                "applied_filters": [],
                "sample_history": [],
                "sampling_time": "2023-09-09T20:58:38.610305",
                "variable_name": "region_1_table",
                "user_variable_name": "region_1_table"
              },
              "display_id": "d5f701be-7b54-4c45-8815-a2498bbfa71d"
            }
          }
        }
      ],
      "execution_count": null,
      "metadata": {
        "noteable": {
          "cell_type": "code"
        },
        "ExecuteTime": {
          "end_time": "2023-09-09T20:58:38.770561+00:00",
          "start_time": "2023-09-09T20:58:38.529231+00:00"
        },
        "datalink": {
          "d5f701be-7b54-4c45-8815-a2498bbfa71d": {
            "applied_filters": [],
            "dataframe_info": {
              "default_index_used": false,
              "orig_num_cols": 12,
              "orig_num_rows": 7,
              "orig_size_bytes": 728,
              "truncated_num_cols": 12,
              "truncated_num_rows": 7,
              "truncated_size_bytes": 728,
              "truncated_string_columns": []
            },
            "display_id": "d5f701be-7b54-4c45-8815-a2498bbfa71d",
            "dx_settings": {
              "ALLOW_NOTEABLE_ATTRS": true,
              "COLUMN_SAMPLING_METHOD": "outer",
              "DB_LOCATION": ":memory:",
              "DEV_MODE": false,
              "DISPLAY_MAX_COLUMNS": 100,
              "DISPLAY_MAX_ROWS": 50000,
              "DISPLAY_MODE": "simple",
              "ENABLE_ASSIGNMENT": true,
              "ENABLE_DATALINK": true,
              "FLATTEN_COLUMN_VALUES": true,
              "FLATTEN_INDEX_VALUES": false,
              "GENERATE_DEX_METADATA": false,
              "HTML_TABLE_SCHEMA": false,
              "LOG_LEVEL": 30,
              "MAX_RENDER_SIZE_BYTES": 104857600,
              "MAX_STRING_LENGTH": 250,
              "NUM_PAST_SAMPLES_TRACKED": 3,
              "RANDOM_STATE": 12648430,
              "RESET_INDEX_VALUES": false,
              "ROW_SAMPLING_METHOD": "random",
              "SAMPLING_FACTOR": 0.1,
              "SAMPLING_METHOD": "random",
              "STRINGIFY_COLUMN_VALUES": true,
              "STRINGIFY_INDEX_VALUES": false
            },
            "sample_history": [],
            "sampling_time": "2023-09-09T20:58:38.610305",
            "user_variable_name": "region_1_table",
            "variable_name": "region_1_table"
          }
        }
      },
      "id": "be154d55-32c1-4b91-8cf7-605406088296"
    },
    {
      "cell_type": "code",
      "source": [
        "def add_aggregated_columns(df):\n",
        "    # Extracting the raw values and percentage changes\n",
        "    df_values = df.applymap(lambda x: float(x.split(' ')[0]))\n",
        "    df_pct_changes = df.applymap(lambda x: float(x.split(' ')[1].replace('(', '').replace('%)', '')) / 100)\n",
        "\n",
        "    # Calculating aggregated values and percentage changes\n",
        "    df_values['FG'] = df_values[1] + df_values[2]\n",
        "    df_values['JV'] = df_values[7] + df_values[8]\n",
        "    df_values['Calendar'] = df_values.sum(axis=1)\n",
        "\n",
        "    df_pct_changes['FG'] = (df_values['FG'] / (df_values['FG'] - df_values[1] - df_values[2])) - 1\n",
        "    df_pct_changes['JV'] = (df_values['JV'] / (df_values['JV'] - df_values[7] - df_values[8])) - 1\n",
        "    df_pct_changes['Calendar'] = df_values['Calendar'].pct_change()\n",
        "\n",
        "    # Combining the aggregated values and their percentage changes\n",
        "    for col in ['FG', 'JV', 'Calendar']:\n",
        "        df[col] = df_values[col].astype(str) + ' (' + (df_pct_changes[col] * 100).round(2).astype(str) + '%)'\n",
        "    return df\n",
        "\n",
        "# Adding aggregated columns to each region table\n",
        "region_1_table_v3 = add_aggregated_columns(region_1_table_v2)\n",
        "region_2_table_v3 = add_aggregated_columns(region_2_table_v2)\n",
        "region_3_table_v3 = add_aggregated_columns(region_3_table_v2)\n",
        "\n",
        "region_1_table_v3"
      ],
      "outputs": [
        {
          "output_type": "display_data",
          "data": {
            "application/vnd.dataresource+json": {
              "schema": {
                "fields": [
                  {
                    "name": "Year",
                    "type": "integer"
                  },
                  {
                    "name": "1",
                    "type": "string"
                  },
                  {
                    "name": "2",
                    "type": "string"
                  },
                  {
                    "name": "3",
                    "type": "string"
                  },
                  {
                    "name": "4",
                    "type": "string"
                  },
                  {
                    "name": "5",
                    "type": "string"
                  },
                  {
                    "name": "6",
                    "type": "string"
                  },
                  {
                    "name": "7",
                    "type": "string"
                  },
                  {
                    "name": "8",
                    "type": "string"
                  },
                  {
                    "name": "9",
                    "type": "string"
                  },
                  {
                    "name": "10",
                    "type": "string"
                  },
                  {
                    "name": "11",
                    "type": "string"
                  },
                  {
                    "name": "12",
                    "type": "string"
                  },
                  {
                    "name": "FG",
                    "type": "string"
                  },
                  {
                    "name": "JV",
                    "type": "string"
                  },
                  {
                    "name": "Calendar",
                    "type": "string"
                  }
                ],
                "primaryKey": [
                  "Year"
                ],
                "pandas_version": "1.4.0"
              },
              "data": [
                {
                  "1": "1798 (nan%)",
                  "2": "1548 (nan%)",
                  "3": "1624 (nan%)",
                  "4": "1482 (nan%)",
                  "5": "1630 (nan%)",
                  "6": "1441 (nan%)",
                  "7": "1632 (nan%)",
                  "8": "1854 (nan%)",
                  "9": "1639 (nan%)",
                  "10": "1664 (nan%)",
                  "11": "1568 (nan%)",
                  "12": "1588 (nan%)",
                  "Year": 2015,
                  "FG": "3346.0 (inf%)",
                  "JV": "3486.0 (inf%)",
                  "Calendar": "26300.0 (nan%)"
                },
                {
                  "1": "1611 (-10.4%)",
                  "2": "1418 (-8.4%)",
                  "3": "1710 (5.3%)",
                  "4": "1453 (-1.96%)",
                  "5": "1627 (-0.18%)",
                  "6": "1726 (19.78%)",
                  "7": "1441 (-11.7%)",
                  "8": "1582 (-14.67%)",
                  "9": "1458 (-11.04%)",
                  "10": "1508 (-9.38%)",
                  "11": "1156 (-26.28%)",
                  "12": "1750 (10.2%)",
                  "Year": 2016,
                  "FG": "3029.0 (inf%)",
                  "JV": "3023.0 (inf%)",
                  "Calendar": "24492.0 (-6.87%)"
                },
                {
                  "1": "1390 (-13.72%)",
                  "2": "1061 (-25.18%)",
                  "3": "1650 (-3.51%)",
                  "4": "1546 (6.4%)",
                  "5": "1614 (-0.8%)",
                  "6": "1717 (-0.52%)",
                  "7": "1502 (4.23%)",
                  "8": "1300 (-17.83%)",
                  "9": "1568 (7.54%)",
                  "10": "1598 (5.97%)",
                  "11": "1465 (26.73%)",
                  "12": "1614 (-7.77%)",
                  "Year": 2017,
                  "FG": "2451.0 (inf%)",
                  "JV": "2802.0 (inf%)",
                  "Calendar": "23278.0 (-4.96%)"
                },
                {
                  "1": "1442 (3.74%)",
                  "2": "1474 (38.93%)",
                  "3": "1365 (-17.27%)",
                  "4": "1441 (-6.79%)",
                  "5": "1372 (-14.99%)",
                  "6": "1806 (5.18%)",
                  "7": "1470 (-2.13%)",
                  "8": "1549 (19.15%)",
                  "9": "1468 (-6.38%)",
                  "10": "1428 (-10.64%)",
                  "11": "1681 (14.74%)",
                  "12": "1822 (12.89%)",
                  "Year": 2018,
                  "FG": "2916.0 (inf%)",
                  "JV": "3019.0 (inf%)",
                  "Calendar": "24253.0 (4.19%)"
                },
                {
                  "1": "1597 (10.75%)",
                  "2": "1647 (11.74%)",
                  "3": "1417 (3.81%)",
                  "4": "1426 (-1.04%)",
                  "5": "1451 (5.76%)",
                  "6": "1578 (-12.62%)",
                  "7": "1890 (28.57%)",
                  "8": "1307 (-15.62%)",
                  "9": "1570 (6.95%)",
                  "10": "1439 (0.77%)",
                  "11": "1624 (-3.39%)",
                  "12": "1681 (-7.74%)",
                  "Year": 2019,
                  "FG": "3244.0 (inf%)",
                  "JV": "3197.0 (inf%)",
                  "Calendar": "25068.0 (3.36%)"
                },
                {
                  "1": "1559 (-2.38%)",
                  "2": "1356 (-17.67%)",
                  "3": "1491 (5.22%)",
                  "4": "1657 (16.2%)",
                  "5": "1612 (11.1%)",
                  "6": "1606 (1.77%)",
                  "7": "1899 (0.48%)",
                  "8": "1785 (36.57%)",
                  "9": "1434 (-8.66%)",
                  "10": "1709 (18.76%)",
                  "11": "1526 (-6.03%)",
                  "12": "1663 (-1.07%)",
                  "Year": 2021,
                  "FG": "2915.0 (inf%)",
                  "JV": "3684.0 (inf%)",
                  "Calendar": "25896.0 (3.3%)"
                },
                {
                  "1": "1558 (-0.06%)",
                  "2": "1702 (25.52%)",
                  "3": "1318 (-11.6%)",
                  "4": "1287 (-22.33%)",
                  "5": "1727 (7.13%)",
                  "6": "1424 (-11.33%)",
                  "7": "1521 (-19.91%)",
                  "8": "1662 (-6.89%)",
                  "9": "1515 (5.65%)",
                  "10": "1350 (-21.01%)",
                  "11": "1402 (-8.13%)",
                  "12": "1713 (3.01%)",
                  "Year": 2022,
                  "FG": "3260.0 (inf%)",
                  "JV": "3183.0 (inf%)",
                  "Calendar": "24622.0 (-4.92%)"
                }
              ],
              "datalink": {
                "display_id": "c55cd230-669e-43aa-98f1-c5f43248e7bc"
              }
            }
          },
          "metadata": {
            "application/vnd.dataresource+json": {
              "datalink": {
                "dataframe_info": {
                  "default_index_used": false,
                  "orig_size_bytes": 896,
                  "orig_num_rows": 7,
                  "orig_num_cols": 15,
                  "truncated_string_columns": [],
                  "truncated_size_bytes": 896,
                  "truncated_num_rows": 7,
                  "truncated_num_cols": 15
                },
                "dx_settings": {
                  "NUM_PAST_SAMPLES_TRACKED": 3,
                  "ENABLE_DATALINK": true,
                  "DISPLAY_MODE": "simple",
                  "GENERATE_DEX_METADATA": false,
                  "STRINGIFY_INDEX_VALUES": false,
                  "ALLOW_NOTEABLE_ATTRS": true,
                  "DISPLAY_MAX_COLUMNS": 100,
                  "HTML_TABLE_SCHEMA": false,
                  "SAMPLING_FACTOR": 0.1,
                  "LOG_LEVEL": 30,
                  "ENABLE_ASSIGNMENT": true,
                  "FLATTEN_INDEX_VALUES": false,
                  "DEV_MODE": false,
                  "COLUMN_SAMPLING_METHOD": "outer",
                  "FLATTEN_COLUMN_VALUES": true,
                  "DISPLAY_MAX_ROWS": 50000,
                  "ROW_SAMPLING_METHOD": "random",
                  "RANDOM_STATE": 12648430,
                  "DB_LOCATION": ":memory:",
                  "STRINGIFY_COLUMN_VALUES": true,
                  "SAMPLING_METHOD": "random",
                  "MAX_STRING_LENGTH": 250,
                  "MAX_RENDER_SIZE_BYTES": 104857600,
                  "RESET_INDEX_VALUES": false
                },
                "display_id": "c55cd230-669e-43aa-98f1-c5f43248e7bc",
                "applied_filters": [],
                "sample_history": [],
                "sampling_time": "2023-09-09T21:03:03.388932",
                "variable_name": "region_1_table_v2",
                "user_variable_name": "region_1_table_v2"
              },
              "display_id": "c55cd230-669e-43aa-98f1-c5f43248e7bc"
            }
          }
        }
      ],
      "execution_count": null,
      "metadata": {
        "noteable": {
          "cell_type": "code"
        },
        "ExecuteTime": {
          "end_time": "2023-09-09T21:03:03.551753+00:00",
          "start_time": "2023-09-09T21:03:03.302627+00:00"
        },
        "datalink": {
          "c55cd230-669e-43aa-98f1-c5f43248e7bc": {
            "applied_filters": [],
            "dataframe_info": {
              "default_index_used": false,
              "orig_num_cols": 15,
              "orig_num_rows": 7,
              "orig_size_bytes": 896,
              "truncated_num_cols": 15,
              "truncated_num_rows": 7,
              "truncated_size_bytes": 896,
              "truncated_string_columns": []
            },
            "display_id": "c55cd230-669e-43aa-98f1-c5f43248e7bc",
            "dx_settings": {
              "ALLOW_NOTEABLE_ATTRS": true,
              "COLUMN_SAMPLING_METHOD": "outer",
              "DB_LOCATION": ":memory:",
              "DEV_MODE": false,
              "DISPLAY_MAX_COLUMNS": 100,
              "DISPLAY_MAX_ROWS": 50000,
              "DISPLAY_MODE": "simple",
              "ENABLE_ASSIGNMENT": true,
              "ENABLE_DATALINK": true,
              "FLATTEN_COLUMN_VALUES": true,
              "FLATTEN_INDEX_VALUES": false,
              "GENERATE_DEX_METADATA": false,
              "HTML_TABLE_SCHEMA": false,
              "LOG_LEVEL": 30,
              "MAX_RENDER_SIZE_BYTES": 104857600,
              "MAX_STRING_LENGTH": 250,
              "NUM_PAST_SAMPLES_TRACKED": 3,
              "RANDOM_STATE": 12648430,
              "RESET_INDEX_VALUES": false,
              "ROW_SAMPLING_METHOD": "random",
              "SAMPLING_FACTOR": 0.1,
              "SAMPLING_METHOD": "random",
              "STRINGIFY_COLUMN_VALUES": true,
              "STRINGIFY_INDEX_VALUES": false
            },
            "sample_history": [],
            "sampling_time": "2023-09-09T21:03:03.388932",
            "user_variable_name": "region_1_table_v2",
            "variable_name": "region_1_table_v2"
          }
        }
      },
      "id": "7a96a113-d227-4d56-b023-78e9d1640ab6"
    },
    {
      "cell_type": "code",
      "source": [
        "def add_aggregated_columns_v2(df):\n",
        "    # Extracting the raw values and percentage changes\n",
        "    df_values = df.applymap(lambda x: float(x.split(' ')[0]))\n",
        "\n",
        "    # Calculating aggregated values\n",
        "    df_values['FG'] = df_values[1] + df_values[2]\n",
        "    df_values['JV'] = df_values[7] + df_values[8]\n",
        "    df_values['Cal'] = df_values.sum(axis=1)\n",
        "\n",
        "    # Calculating percentage changes for the aggregated columns\n",
        "    df_pct_changes = df_values[['FG', 'JV', 'Cal']].pct_change() * 100\n",
        "\n",
        "    # Combining the aggregated values and their percentage changes\n",
        "    for col in ['FG', 'JV', 'Cal']:\n",
        "        df[col] = df_values[col].astype(str) + ' (' + df_pct_changes[col].round(2).astype(str) + '%)'\n",
        "    return df\n",
        "\n",
        "# Adding aggregated columns to each region table using the updated function\n",
        "region_1_table_v4 = add_aggregated_columns_v2(region_1_table_v2)\n",
        "region_2_table_v4 = add_aggregated_columns_v2(region_2_table_v2)\n",
        "region_3_table_v4 = add_aggregated_columns_v2(region_3_table_v2)\n",
        "\n",
        "region_1_table_v4"
      ],
      "outputs": [
        {
          "output_type": "display_data",
          "data": {
            "application/vnd.dataresource+json": {
              "schema": {
                "fields": [
                  {
                    "name": "Year",
                    "type": "integer"
                  },
                  {
                    "name": "1",
                    "type": "string"
                  },
                  {
                    "name": "2",
                    "type": "string"
                  },
                  {
                    "name": "3",
                    "type": "string"
                  },
                  {
                    "name": "4",
                    "type": "string"
                  },
                  {
                    "name": "5",
                    "type": "string"
                  },
                  {
                    "name": "6",
                    "type": "string"
                  },
                  {
                    "name": "7",
                    "type": "string"
                  },
                  {
                    "name": "8",
                    "type": "string"
                  },
                  {
                    "name": "9",
                    "type": "string"
                  },
                  {
                    "name": "10",
                    "type": "string"
                  },
                  {
                    "name": "11",
                    "type": "string"
                  },
                  {
                    "name": "12",
                    "type": "string"
                  },
                  {
                    "name": "FG",
                    "type": "string"
                  },
                  {
                    "name": "JV",
                    "type": "string"
                  },
                  {
                    "name": "Calendar",
                    "type": "string"
                  },
                  {
                    "name": "Cal",
                    "type": "string"
                  }
                ],
                "primaryKey": [
                  "Year"
                ],
                "pandas_version": "1.4.0"
              },
              "data": [
                {
                  "1": "1798 (nan%)",
                  "2": "1548 (nan%)",
                  "3": "1624 (nan%)",
                  "4": "1482 (nan%)",
                  "5": "1630 (nan%)",
                  "6": "1441 (nan%)",
                  "7": "1632 (nan%)",
                  "8": "1854 (nan%)",
                  "9": "1639 (nan%)",
                  "10": "1664 (nan%)",
                  "11": "1568 (nan%)",
                  "12": "1588 (nan%)",
                  "Year": 2015,
                  "FG": "3346.0 (nan%)",
                  "JV": "3486.0 (nan%)",
                  "Calendar": "26300.0 (nan%)",
                  "Cal": "52600.0 (nan%)"
                },
                {
                  "1": "1611 (-10.4%)",
                  "2": "1418 (-8.4%)",
                  "3": "1710 (5.3%)",
                  "4": "1453 (-1.96%)",
                  "5": "1627 (-0.18%)",
                  "6": "1726 (19.78%)",
                  "7": "1441 (-11.7%)",
                  "8": "1582 (-14.67%)",
                  "9": "1458 (-11.04%)",
                  "10": "1508 (-9.38%)",
                  "11": "1156 (-26.28%)",
                  "12": "1750 (10.2%)",
                  "Year": 2016,
                  "FG": "3029.0 (-9.47%)",
                  "JV": "3023.0 (-13.28%)",
                  "Calendar": "24492.0 (-6.87%)",
                  "Cal": "48984.0 (-6.87%)"
                },
                {
                  "1": "1390 (-13.72%)",
                  "2": "1061 (-25.18%)",
                  "3": "1650 (-3.51%)",
                  "4": "1546 (6.4%)",
                  "5": "1614 (-0.8%)",
                  "6": "1717 (-0.52%)",
                  "7": "1502 (4.23%)",
                  "8": "1300 (-17.83%)",
                  "9": "1568 (7.54%)",
                  "10": "1598 (5.97%)",
                  "11": "1465 (26.73%)",
                  "12": "1614 (-7.77%)",
                  "Year": 2017,
                  "FG": "2451.0 (-19.08%)",
                  "JV": "2802.0 (-7.31%)",
                  "Calendar": "23278.0 (-4.96%)",
                  "Cal": "46556.0 (-4.96%)"
                },
                {
                  "1": "1442 (3.74%)",
                  "2": "1474 (38.93%)",
                  "3": "1365 (-17.27%)",
                  "4": "1441 (-6.79%)",
                  "5": "1372 (-14.99%)",
                  "6": "1806 (5.18%)",
                  "7": "1470 (-2.13%)",
                  "8": "1549 (19.15%)",
                  "9": "1468 (-6.38%)",
                  "10": "1428 (-10.64%)",
                  "11": "1681 (14.74%)",
                  "12": "1822 (12.89%)",
                  "Year": 2018,
                  "FG": "2916.0 (18.97%)",
                  "JV": "3019.0 (7.74%)",
                  "Calendar": "24253.0 (4.19%)",
                  "Cal": "48506.0 (4.19%)"
                },
                {
                  "1": "1597 (10.75%)",
                  "2": "1647 (11.74%)",
                  "3": "1417 (3.81%)",
                  "4": "1426 (-1.04%)",
                  "5": "1451 (5.76%)",
                  "6": "1578 (-12.62%)",
                  "7": "1890 (28.57%)",
                  "8": "1307 (-15.62%)",
                  "9": "1570 (6.95%)",
                  "10": "1439 (0.77%)",
                  "11": "1624 (-3.39%)",
                  "12": "1681 (-7.74%)",
                  "Year": 2019,
                  "FG": "3244.0 (11.25%)",
                  "JV": "3197.0 (5.9%)",
                  "Calendar": "25068.0 (3.36%)",
                  "Cal": "50136.0 (3.36%)"
                },
                {
                  "1": "1559 (-2.38%)",
                  "2": "1356 (-17.67%)",
                  "3": "1491 (5.22%)",
                  "4": "1657 (16.2%)",
                  "5": "1612 (11.1%)",
                  "6": "1606 (1.77%)",
                  "7": "1899 (0.48%)",
                  "8": "1785 (36.57%)",
                  "9": "1434 (-8.66%)",
                  "10": "1709 (18.76%)",
                  "11": "1526 (-6.03%)",
                  "12": "1663 (-1.07%)",
                  "Year": 2021,
                  "FG": "2915.0 (-10.14%)",
                  "JV": "3684.0 (15.23%)",
                  "Calendar": "25896.0 (3.3%)",
                  "Cal": "51792.0 (3.3%)"
                },
                {
                  "1": "1558 (-0.06%)",
                  "2": "1702 (25.52%)",
                  "3": "1318 (-11.6%)",
                  "4": "1287 (-22.33%)",
                  "5": "1727 (7.13%)",
                  "6": "1424 (-11.33%)",
                  "7": "1521 (-19.91%)",
                  "8": "1662 (-6.89%)",
                  "9": "1515 (5.65%)",
                  "10": "1350 (-21.01%)",
                  "11": "1402 (-8.13%)",
                  "12": "1713 (3.01%)",
                  "Year": 2022,
                  "FG": "3260.0 (11.84%)",
                  "JV": "3183.0 (-13.6%)",
                  "Calendar": "24622.0 (-4.92%)",
                  "Cal": "49244.0 (-4.92%)"
                }
              ],
              "datalink": {
                "display_id": "b573dadb-520d-49a2-b4f3-97d2a2d1c011"
              }
            }
          },
          "metadata": {
            "application/vnd.dataresource+json": {
              "datalink": {
                "dataframe_info": {
                  "default_index_used": false,
                  "orig_size_bytes": 952,
                  "orig_num_rows": 7,
                  "orig_num_cols": 16,
                  "truncated_string_columns": [],
                  "truncated_size_bytes": 952,
                  "truncated_num_rows": 7,
                  "truncated_num_cols": 16
                },
                "dx_settings": {
                  "NUM_PAST_SAMPLES_TRACKED": 3,
                  "ENABLE_DATALINK": true,
                  "DISPLAY_MODE": "simple",
                  "GENERATE_DEX_METADATA": false,
                  "STRINGIFY_INDEX_VALUES": false,
                  "ALLOW_NOTEABLE_ATTRS": true,
                  "DISPLAY_MAX_COLUMNS": 100,
                  "HTML_TABLE_SCHEMA": false,
                  "SAMPLING_FACTOR": 0.1,
                  "LOG_LEVEL": 30,
                  "ENABLE_ASSIGNMENT": true,
                  "FLATTEN_INDEX_VALUES": false,
                  "DEV_MODE": false,
                  "COLUMN_SAMPLING_METHOD": "outer",
                  "FLATTEN_COLUMN_VALUES": true,
                  "DISPLAY_MAX_ROWS": 50000,
                  "ROW_SAMPLING_METHOD": "random",
                  "RANDOM_STATE": 12648430,
                  "DB_LOCATION": ":memory:",
                  "STRINGIFY_COLUMN_VALUES": true,
                  "SAMPLING_METHOD": "random",
                  "MAX_STRING_LENGTH": 250,
                  "MAX_RENDER_SIZE_BYTES": 104857600,
                  "RESET_INDEX_VALUES": false
                },
                "display_id": "b573dadb-520d-49a2-b4f3-97d2a2d1c011",
                "applied_filters": [],
                "sample_history": [],
                "sampling_time": "2023-09-09T21:05:03.717767",
                "variable_name": "region_1_table_v2",
                "user_variable_name": "region_1_table_v2"
              },
              "display_id": "b573dadb-520d-49a2-b4f3-97d2a2d1c011"
            }
          }
        }
      ],
      "execution_count": null,
      "metadata": {
        "noteable": {
          "cell_type": "code"
        },
        "ExecuteTime": {
          "end_time": "2023-09-09T21:05:03.879496+00:00",
          "start_time": "2023-09-09T21:05:03.635731+00:00"
        },
        "datalink": {
          "b573dadb-520d-49a2-b4f3-97d2a2d1c011": {
            "applied_filters": [],
            "dataframe_info": {
              "default_index_used": false,
              "orig_num_cols": 16,
              "orig_num_rows": 7,
              "orig_size_bytes": 952,
              "truncated_num_cols": 16,
              "truncated_num_rows": 7,
              "truncated_size_bytes": 952,
              "truncated_string_columns": []
            },
            "display_id": "b573dadb-520d-49a2-b4f3-97d2a2d1c011",
            "dx_settings": {
              "ALLOW_NOTEABLE_ATTRS": true,
              "COLUMN_SAMPLING_METHOD": "outer",
              "DB_LOCATION": ":memory:",
              "DEV_MODE": false,
              "DISPLAY_MAX_COLUMNS": 100,
              "DISPLAY_MAX_ROWS": 50000,
              "DISPLAY_MODE": "simple",
              "ENABLE_ASSIGNMENT": true,
              "ENABLE_DATALINK": true,
              "FLATTEN_COLUMN_VALUES": true,
              "FLATTEN_INDEX_VALUES": false,
              "GENERATE_DEX_METADATA": false,
              "HTML_TABLE_SCHEMA": false,
              "LOG_LEVEL": 30,
              "MAX_RENDER_SIZE_BYTES": 104857600,
              "MAX_STRING_LENGTH": 250,
              "NUM_PAST_SAMPLES_TRACKED": 3,
              "RANDOM_STATE": 12648430,
              "RESET_INDEX_VALUES": false,
              "ROW_SAMPLING_METHOD": "random",
              "SAMPLING_FACTOR": 0.1,
              "SAMPLING_METHOD": "random",
              "STRINGIFY_COLUMN_VALUES": true,
              "STRINGIFY_INDEX_VALUES": false
            },
            "sample_history": [],
            "sampling_time": "2023-09-09T21:05:03.717767",
            "user_variable_name": "region_1_table_v2",
            "variable_name": "region_1_table_v2"
          }
        }
      },
      "id": "0f4d49aa-db1d-4b99-827c-de916aba82a6"
    },
    {
      "cell_type": "code",
      "source": [
        "# Sample data for demonstration purposes\n",
        "data = {\n",
        "    'date': ['2015-01-01', '2015-01-02', '2015-01-03', '2016-01-01', '2016-01-02', '2016-01-03', '2017-01-01', '2017-01-02', '2017-01-03'],\n",
        "    'load_region_1': ['1000', '1100', '1200', '1050', '1150', '1250', '1100', '1200', '1300'],\n",
        "    'load_region_2': ['2000', '2100', '2200', '2050', '2150', '2250', '2100', '2200', '2300'],\n",
        "    'load_region_3': ['3000', '3100', '3200', '3050', '3150', '3250', '3100', '3200', '3300']\n",
        "}\n",
        "df_sample = pd.DataFrame(data)\n",
        "\n",
        "# Ensuring the 'date' column is of datetime data type\n",
        "df_sample['date'] = pd.to_datetime(df_sample['date'])\n",
        "\n",
        "# Ensuring the load columns are of float data type\n",
        "for col in ['load_region_1', 'load_region_2', 'load_region_3']:\n",
        "    df_sample[col] = df_sample[col].astype(float)\n",
        "\n",
        "# Setting the 'date' column as the index\n",
        "df_sample.set_index('date', inplace=True)\n",
        "\n",
        "df_sample.dtypes"
      ],
      "outputs": [
        {
          "output_type": "display_data",
          "data": {
            "application/vnd.dataresource+json": {
              "schema": {
                "fields": [
                  {
                    "name": "index",
                    "type": "string"
                  },
                  {
                    "name": "0",
                    "type": "string"
                  }
                ],
                "primaryKey": [
                  "index"
                ],
                "pandas_version": "1.4.0"
              },
              "data": [
                {
                  "0": "float64",
                  "index": "load_region_1"
                },
                {
                  "0": "float64",
                  "index": "load_region_2"
                },
                {
                  "0": "float64",
                  "index": "load_region_3"
                }
              ],
              "datalink": {
                "display_id": "b4e68836-3234-4e26-8bd1-3aea4f449673"
              }
            }
          },
          "metadata": {
            "application/vnd.dataresource+json": {
              "datalink": {
                "dataframe_info": {
                  "default_index_used": false,
                  "orig_size_bytes": 48,
                  "orig_num_rows": 3,
                  "orig_num_cols": 1,
                  "truncated_string_columns": [],
                  "truncated_size_bytes": 48,
                  "truncated_num_rows": 3,
                  "truncated_num_cols": 1
                },
                "dx_settings": {
                  "NUM_PAST_SAMPLES_TRACKED": 3,
                  "ENABLE_DATALINK": true,
                  "DISPLAY_MODE": "simple",
                  "GENERATE_DEX_METADATA": false,
                  "STRINGIFY_INDEX_VALUES": false,
                  "ALLOW_NOTEABLE_ATTRS": true,
                  "DISPLAY_MAX_COLUMNS": 100,
                  "HTML_TABLE_SCHEMA": false,
                  "SAMPLING_FACTOR": 0.1,
                  "LOG_LEVEL": 30,
                  "ENABLE_ASSIGNMENT": true,
                  "FLATTEN_INDEX_VALUES": false,
                  "DEV_MODE": false,
                  "COLUMN_SAMPLING_METHOD": "outer",
                  "FLATTEN_COLUMN_VALUES": true,
                  "DISPLAY_MAX_ROWS": 50000,
                  "ROW_SAMPLING_METHOD": "random",
                  "RANDOM_STATE": 12648430,
                  "DB_LOCATION": ":memory:",
                  "STRINGIFY_COLUMN_VALUES": true,
                  "SAMPLING_METHOD": "random",
                  "MAX_STRING_LENGTH": 250,
                  "MAX_RENDER_SIZE_BYTES": 104857600,
                  "RESET_INDEX_VALUES": false
                },
                "display_id": "b4e68836-3234-4e26-8bd1-3aea4f449673",
                "applied_filters": [],
                "sample_history": [],
                "sampling_time": "2023-09-09T21:08:21.872640",
                "variable_name": "unk_dataframe_7a24e6dfb79047e4b015479a8483f98e",
                "user_variable_name": null
              },
              "display_id": "b4e68836-3234-4e26-8bd1-3aea4f449673"
            }
          }
        }
      ],
      "execution_count": null,
      "metadata": {
        "noteable": {
          "cell_type": "code"
        },
        "ExecuteTime": {
          "start_time": "2023-09-09T21:08:21.838090+00:00",
          "end_time": "2023-09-09T21:08:22.030086+00:00"
        },
        "datalink": {
          "b4e68836-3234-4e26-8bd1-3aea4f449673": {
            "dataframe_info": {
              "default_index_used": false,
              "orig_size_bytes": 48,
              "orig_num_rows": 3,
              "orig_num_cols": 1,
              "truncated_string_columns": [],
              "truncated_size_bytes": 48,
              "truncated_num_rows": 3,
              "truncated_num_cols": 1
            },
            "dx_settings": {
              "LOG_LEVEL": 30,
              "DEV_MODE": false,
              "DISPLAY_MAX_ROWS": 50000,
              "DISPLAY_MAX_COLUMNS": 100,
              "HTML_TABLE_SCHEMA": false,
              "MAX_RENDER_SIZE_BYTES": 104857600,
              "MAX_STRING_LENGTH": 250,
              "SAMPLING_FACTOR": 0.1,
              "DISPLAY_MODE": "simple",
              "SAMPLING_METHOD": "random",
              "COLUMN_SAMPLING_METHOD": "outer",
              "ROW_SAMPLING_METHOD": "random",
              "RANDOM_STATE": 12648430,
              "RESET_INDEX_VALUES": false,
              "FLATTEN_INDEX_VALUES": false,
              "FLATTEN_COLUMN_VALUES": true,
              "STRINGIFY_INDEX_VALUES": false,
              "STRINGIFY_COLUMN_VALUES": true,
              "ENABLE_DATALINK": true,
              "ENABLE_ASSIGNMENT": true,
              "NUM_PAST_SAMPLES_TRACKED": 3,
              "DB_LOCATION": ":memory:",
              "GENERATE_DEX_METADATA": false,
              "ALLOW_NOTEABLE_ATTRS": true
            },
            "display_id": "b4e68836-3234-4e26-8bd1-3aea4f449673",
            "applied_filters": [],
            "sample_history": [],
            "sampling_time": "2023-09-09T21:08:21.872640",
            "variable_name": "unk_dataframe_7a24e6dfb79047e4b015479a8483f98e",
            "user_variable_name": null
          }
        }
      },
      "id": "5e070618-62e8-41fa-8e1a-66e6b9dd0c25"
    }
  ],
  "metadata": {
    "noteable-chatgpt": {
      "create_notebook": {
        "openai_conversation_id": "a94d0352-0471-51e9-806f-9ce2127fb9e5",
        "openai_ephemeral_user_id": "4fe86f51-7804-58a1-b913-656122993bc9",
        "openai_subdivision1_iso_code": "US-NY"
      }
    },
    "kernel_info": {
      "name": "python3"
    },
    "kernelspec": {
      "display_name": "Python 3.9",
      "language": "python",
      "name": "python3"
    },
    "selected_hardware_size": "small",
    "noteable": {
      "last_delta_id": "368cb89f-ca47-4fe4-be60-2f4a6fac4348"
    },
    "nteract": {
      "version": "noteable@2.9.0"
    }
  },
  "nbformat": 4,
  "nbformat_minor": 5
}