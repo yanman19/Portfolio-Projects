{
 "cells": [
  {
   "cell_type": "code",
   "execution_count": null,
   "id": "7d64c177",
   "metadata": {},
   "outputs": [],
   "source": [
    "import pandas as pd\n",
    "\n",
    "def calculate_and_compare_pnl(csv_file1, csv_file2):\n",
    "    # Read the CSV files\n",
    "    df1 = pd.read_csv(csv_file1)\n",
    "    df2 = pd.read_csv(csv_file2)\n",
    "\n",
    "    # Aggregate data in the first CSV\n",
    "    aggregation_functions = {'Size': 'sum', 'MWH': 'sum', 'PNL': 'sum'}\n",
    "    df1_aggregated = df1.groupby(['Trades', 'Region', 'Location', 'Option Type', 'Trade Price', 'Mark Price'], as_index=False).aggregate(aggregation_functions)\n",
    "\n",
    "    # Prepare the second CSV for PNL calculation\n",
    "    df2 = df2.merge(df1_aggregated[['Region', 'Location', 'Trade Price', 'Mark Price', 'Option Type']], on=['Region', 'Location', 'Trade Price'], how='left')\n",
    "\n",
    "    # Define a function for PNL calculation based on Option Type\n",
    "    def calculate_pnl(row):\n",
    "        if row['Option Type'] == 'power':\n",
    "            return row['Size'] * (row['Mark Price'] - row['Trade Price'])\n",
    "        elif row['Option Type'] == 'gas':\n",
    "            return row['Size'] * (row['Mark Price'] - row['Trade Price']) * 100\n",
    "        else:\n",
    "            return None  # or some default calculation\n",
    "\n",
    "    # Apply the PNL calculation\n",
    "    df2['Calculated PNL'] = df2.apply(calculate_pnl, axis=1)\n",
    "\n",
    "    # Merge with the first CSV to compare PNL\n",
    "    comparison = df2.merge(df1_aggregated[['Trades', 'PNL']], left_on='Trade', right_on='Trades', how='left')\n",
    "\n",
    "    # Highlight differences in PNL\n",
    "    comparison['PNL Difference'] = comparison['Calculated PNL'] - comparison['PNL']\n",
    "    comparison['Highlight'] = comparison['PNL Difference'].apply(lambda x: 'RED' if x != 0 else '')\n",
    "\n",
    "    return comparison[['Trade', 'PNL', 'Calculated PNL', 'Highlight']]\n",
    "\n",
    "# Usage Example\n",
    "# Replace 'csv1.csv' and 'csv2.csv' with your actual file paths\n",
    "result = calculate_and_compare_pnl('csv1.csv', 'csv2.csv')\n",
    "print(result)\n"
   ]
  }
 ],
 "metadata": {
  "kernelspec": {
   "display_name": "Python 3 (ipykernel)",
   "language": "python",
   "name": "python3"
  },
  "language_info": {
   "codemirror_mode": {
    "name": "ipython",
    "version": 3
   },
   "file_extension": ".py",
   "mimetype": "text/x-python",
   "name": "python",
   "nbconvert_exporter": "python",
   "pygments_lexer": "ipython3",
   "version": "3.9.12"
  }
 },
 "nbformat": 4,
 "nbformat_minor": 5
}
