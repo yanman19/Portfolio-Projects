{
 "cells": [
  {
   "cell_type": "code",
   "execution_count": null,
   "id": "b95c81df",
   "metadata": {},
   "outputs": [],
   "source": [
    "def process_data(df, load_col, weather_col, alpha=0.05):\n",
    "    \n",
    "  \n",
    "    load_tau, load_p_value = kendalltau(df['date'], df[load_col])\n",
    "    weather_tau, weather_p_value = kendalltau(df['date'], df[weather_col])\n",
    "    \n",
    "    \n",
    "    if load_p_value < alpha or weather_p_value < alpha:\n",
    "        \n",
    "        processed_df = normalize_data(df, load_col, weather_col)\n",
    "        message = f\"Drift detected in the data.\\nLoad data: p-value = {load_p_value:.2e}\\nWeather data: p-value = {weather_p_value:.2e}\"\n",
    "    else:\n",
    "        \n",
    "        processed_df = df\n",
    "        message = \"No statistically significant drift detected in the data.\"\n",
    "    \n",
    "    return processed_df, message\n",
    "\n",
    "\n",
    "\n"
   ]
  }
 ],
 "metadata": {
  "kernelspec": {
   "display_name": "Python 3 (ipykernel)",
   "language": "python",
   "name": "python3"
  },
  "language_info": {
   "codemirror_mode": {
    "name": "ipython",
    "version": 3
   },
   "file_extension": ".py",
   "mimetype": "text/x-python",
   "name": "python",
   "nbconvert_exporter": "python",
   "pygments_lexer": "ipython3",
   "version": "3.9.12"
  }
 },
 "nbformat": 4,
 "nbformat_minor": 5
}
