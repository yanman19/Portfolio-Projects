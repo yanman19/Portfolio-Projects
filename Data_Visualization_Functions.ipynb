{
  "cells": [
    {
      "cell_type": "markdown",
      "source": [
        "# Data Visualization Functions\n",
        "This notebook contains Python functions for data visualization. These functions will create scatter plots based on different criteria such as year and month, as well as perform linear regression analysis.\n",
        "The functions are:\n",
        "1. Scatter plot colored by year\n",
        "2. Scatter plot colored by month\n",
        "3. Scatter plot with linear regression and R^2 value"
      ],
      "metadata": {
        "noteable": {
          "cell_type": "markdown"
        }
      },
      "id": "90b61ff1-42d8-4d9b-b9c9-b1efb85df51a"
    },
    {
      "cell_type": "code",
      "source": [
        "# Importing required libraries\n",
        "import pandas as pd\n",
        "import matplotlib.pyplot as plt\n",
        "import seaborn as sns\n",
        "from sklearn.linear_model import LinearRegression\n",
        "from sklearn.metrics import mean_squared_error, r2_score\n",
        "import numpy as np"
      ],
      "outputs": [],
      "execution_count": null,
      "metadata": {
        "noteable": {
          "cell_type": "code"
        },
        "ExecuteTime": {
          "end_time": "2023-09-04T21:09:39.469249+00:00",
          "start_time": "2023-09-04T21:09:38.816125+00:00"
        }
      },
      "id": "3a774c93-bb11-4eba-8d5e-9e2bded9ba36"
    },
    {
      "cell_type": "markdown",
      "source": [
        "## 1. Scatter Plot Colored by Year\n",
        "This function will create a scatter plot of two columns from a DataFrame, where each point is colored based on the year."
      ],
      "metadata": {
        "noteable": {
          "cell_type": "markdown"
        }
      },
      "id": "32b914d5-c88c-4e86-981c-9a8da49dd2f2"
    },
    {
      "cell_type": "code",
      "source": [
        "# Function to create scatter plot colored by year\n",
        "def scatter_by_year(df, x_col, y_col, date_col):\n",
        "    \"\"\"Create a scatter plot of two columns colored by year.\n",
        "\n",
        "    Parameters:\n",
        "        df (pd.DataFrame): The DataFrame containing the data.\n",
        "        x_col (str): The name of the x-axis column.\n",
        "        y_col (str): The name of the y-axis column.\n",
        "        date_col (str): The name of the date column.\n",
        "    \"\"\"\n",
        "    # Extract year from date column\n",
        "    df['Year'] = pd.to_datetime(df[date_col]).dt.year\n",
        "\n",
        "    # Create scatter plot\n",
        "    plt.figure(figsize=(10, 6))\n",
        "    sns.scatterplot(data=df, x=x_col, y=y_col, hue='Year', palette='viridis')\n",
        "    plt.legend(title='Year', loc='upper left')\n",
        "    plt.title(f'{y_col} vs {x_col} by Year')\n",
        "    plt.show()"
      ],
      "outputs": [],
      "execution_count": null,
      "metadata": {
        "noteable": {
          "cell_type": "code"
        },
        "ExecuteTime": {
          "end_time": "2023-09-04T21:10:26.409241+00:00",
          "start_time": "2023-09-04T21:10:26.251934+00:00"
        }
      },
      "id": "fe5bb741-682f-4dbf-b6b1-52a29ab4c299"
    },
    {
      "cell_type": "markdown",
      "source": [
        "## 2. Scatter Plot Colored by Month\n",
        "This function will create a scatter plot of two columns from a DataFrame, where each point is colored based on the month."
      ],
      "metadata": {
        "noteable": {
          "cell_type": "markdown"
        }
      },
      "id": "94f145f5-9508-4489-b016-cdd28eadebe3"
    },
    {
      "cell_type": "code",
      "source": [
        "# Function to create scatter plot colored by month\n",
        "def scatter_by_month(df, x_col, y_col, date_col):\n",
        "    \"\"\"Create a scatter plot of two columns colored by month.\n",
        "\n",
        "    Parameters:\n",
        "        df (pd.DataFrame): The DataFrame containing the data.\n",
        "        x_col (str): The name of the x-axis column.\n",
        "        y_col (str): The name of the y-axis column.\n",
        "        date_col (str): The name of the date column.\n",
        "    \"\"\"\n",
        "    # Extract month from date column\n",
        "    df['Month'] = pd.to_datetime(df[date_col]).dt.month\n",
        "\n",
        "    # Create scatter plot\n",
        "    plt.figure(figsize=(10, 6))\n",
        "    sns.scatterplot(data=df, x=x_col, y=y_col, hue='Month', palette='coolwarm')\n",
        "    plt.legend(title='Month', loc='upper left')\n",
        "    plt.title(f'{y_col} vs {x_col} by Month')\n",
        "    plt.show()"
      ],
      "outputs": [],
      "execution_count": null,
      "metadata": {
        "noteable": {
          "cell_type": "code"
        },
        "ExecuteTime": {
          "end_time": "2023-09-04T21:11:14.536524+00:00",
          "start_time": "2023-09-04T21:11:14.381244+00:00"
        }
      },
      "id": "ae410853-57a5-416b-a2a0-dc1c0e1e898c"
    },
    {
      "cell_type": "markdown",
      "source": [
        "## 3. Scatter Plot with Linear Regression and R^2 Value\n",
        "This function will create a scatter plot of two columns from a DataFrame and overlay a linear regression line. It will also display the R^2 value in the legend."
      ],
      "metadata": {
        "noteable": {
          "cell_type": "markdown"
        }
      },
      "id": "ff9a25c8-5311-40ea-821a-f77d2e1f4041"
    },
    {
      "cell_type": "code",
      "source": [
        "# Function to create scatter plot with linear regression and R^2 value\n",
        "def scatter_with_regression(df, x_col, y_col):\n",
        "    \"\"\"Create a scatter plot with a linear regression line and R^2 value.\n",
        "\n",
        "    Parameters:\n",
        "        df (pd.DataFrame): The DataFrame containing the data.\n",
        "        x_col (str): The name of the x-axis column.\n",
        "        y_col (str): The name of the y-axis column.\n",
        "    \"\"\"\n",
        "    # Prepare data\n",
        "    X = df[[x_col]].values\n",
        "    y = df[y_col].values\n",
        "\n",
        "    # Perform linear regression\n",
        "    model = LinearRegression()\n",
        "    model.fit(X, y)\n",
        "    y_pred = model.predict(X)\n",
        "    r2 = r2_score(y, y_pred)\n",
        "\n",
        "    # Create scatter plot and regression line\n",
        "    plt.figure(figsize=(10, 6))\n",
        "    sns.scatterplot(x=X.ravel(), y=y, label='Data')\n",
        "    plt.plot(X, y_pred, color='red', label=f'Regression Line (R^2 = {r2:.2f})')\n",
        "    plt.legend(title='Legend', loc='upper left')\n",
        "    plt.title(f'{y_col} vs {x_col} with Linear Regression')\n",
        "    plt.show()"
      ],
      "outputs": [],
      "execution_count": null,
      "metadata": {
        "noteable": {
          "cell_type": "code"
        },
        "ExecuteTime": {
          "end_time": "2023-09-04T21:12:15.543063+00:00",
          "start_time": "2023-09-04T21:12:15.386924+00:00"
        }
      },
      "id": "c092aa33-7370-433a-b1a2-61a0d05afc8c"
    }
  ],
  "metadata": {
    "noteable-chatgpt": {
      "create_notebook": {
        "openai_conversation_id": "2099dade-67e0-549a-acbc-9978332e60d3",
        "openai_ephemeral_user_id": "d08f7939-d616-5d7d-a32a-1e72ee1381a3",
        "openai_subdivision1_iso_code": "US-NY"
      }
    },
    "kernel_info": {
      "name": "python3"
    },
    "kernelspec": {
      "display_name": "Python 3.9",
      "language": "python",
      "name": "python3"
    },
    "selected_hardware_size": "small",
    "noteable": {
      "last_delta_id": "6c404fe2-8cdf-4250-9a5e-7535ea4b52ef"
    },
    "nteract": {
      "version": "noteable@2.9.0"
    }
  },
  "nbformat": 4,
  "nbformat_minor": 5
}