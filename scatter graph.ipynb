{
 "cells": [
  {
   "cell_type": "code",
   "execution_count": null,
   "id": "2440c5ff",
   "metadata": {},
   "outputs": [],
   "source": [
    "import pandas as pd\n",
    "import numpy as np\n",
    "import matplotlib.pyplot as plt\n",
    "from scipy.stats import linregress\n",
    "\n",
    "def create_regression_graph(weather, load):\n",
    "    df = pd.merge(weather, load, on='Date')\n",
    "    df['Year'] = df['Date'].apply(lambda x: x.year)\n",
    "    grouped = df.groupby('Year')\n",
    "\n",
    "    fig, ax = plt.subplots()\n",
    "    results = []\n",
    "\n",
    "    for name, group in grouped:\n",
    "        slope, intercept, r_value, _, _ = linregress(group['Temperature'], group['MWH'])\n",
    "        results.append({'Year': name, 'Slope': slope, 'R2': r_value**2})\n",
    "        ax.scatter(group['Temperature'], group['MWH'], label=f\"{name}\")\n",
    "\n",
    "    ax.set_xlabel('Temperature')\n",
    "    ax.set_ylabel('MWH')\n",
    "    ax.legend(loc='lower right')\n",
    "    plt.show()\n",
    "\n",
    "    results_df = pd.DataFrame(results)\n",
    "    print(results_df)\n"
   ]
  }
 ],
 "metadata": {
  "kernelspec": {
   "display_name": "Python 3 (ipykernel)",
   "language": "python",
   "name": "python3"
  },
  "language_info": {
   "codemirror_mode": {
    "name": "ipython",
    "version": 3
   },
   "file_extension": ".py",
   "mimetype": "text/x-python",
   "name": "python",
   "nbconvert_exporter": "python",
   "pygments_lexer": "ipython3",
   "version": "3.9.12"
  }
 },
 "nbformat": 4,
 "nbformat_minor": 5
}
