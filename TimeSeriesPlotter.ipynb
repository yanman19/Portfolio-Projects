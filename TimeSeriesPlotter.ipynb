{
 "cells": [
  {
   "cell_type": "code",
   "execution_count": null,
   "id": "0a23e923",
   "metadata": {},
   "outputs": [],
   "source": [
    "import plotly.express as px\n",
    "import pandas as pd\n",
    "\n",
    "class TimeSeriesPlotter:\n",
    "    def __init__(self, dataframe):\n",
    "        self.dataframe = dataframe\n",
    "\n",
    "    def plot_with_color(self, x_col, y_col, color_col, x_label=None, y_label=None):\n",
    "        fig = px.scatter(self.dataframe, x=x_col, y=y_col, color=color_col, hover_data=['Date'])\n",
    "        fig.update_layout(xaxis_title=x_label if x_label else x_col,\n",
    "                          yaxis_title=y_label if y_label else y_col)\n",
    "        fig.show()\n",
    "\n",
    "    def plot_with_color_and_size(self, x_col, y_col, color_col, size_col, x_label=None, y_label=None):\n",
    "        fig = px.scatter(self.dataframe, x=x_col, y=y_col, color=color_col, size=size_col, hover_data=['Date'])\n",
    "        fig.update_layout(xaxis_title=x_label if x_label else x_col,\n",
    "                          yaxis_title=y_label if y_label else y_col)\n",
    "        fig.show()\n",
    "\n",
    "    def plot_with_specific_month_colors(self, x_col, y_col, specific_months, x_label=None, y_label=None):\n",
    "        self.dataframe['Color'] = self.dataframe['Date'].dt.month.isin(specific_months).astype(int)\n",
    "        fig = px.scatter(self.dataframe, x=x_col, y=y_col, color='Color', hover_data=['Date'])\n",
    "        fig.update_layout(xaxis_title=x_label if x_label else x_col,\n",
    "                          yaxis_title=y_label if y_label else y_col)\n",
    "        fig.show()\n",
    "\n",
    "# Assuming df is your DataFrame\n",
    "#plotter = TimeSeriesPlotter(df)\n",
    "#plotter.plot_with_color('X', 'Y', 'Color', x_label='X Axis Label', y_label='Y Axis Label')\n",
    "#plotter.plot_with_color_and_size('X', 'Y', 'Color', 'Size', x_label='X Axis', y_label='Y Axis')\n",
    "#plotter.plot_with_specific_month_colors('X', 'Y', [1, 2], x_label='X Axis', y_label='Y Axis')\n"
   ]
  }
 ],
 "metadata": {
  "kernelspec": {
   "display_name": "Python 3 (ipykernel)",
   "language": "python",
   "name": "python3"
  },
  "language_info": {
   "codemirror_mode": {
    "name": "ipython",
    "version": 3
   },
   "file_extension": ".py",
   "mimetype": "text/x-python",
   "name": "python",
   "nbconvert_exporter": "python",
   "pygments_lexer": "ipython3",
   "version": "3.9.12"
  }
 },
 "nbformat": 4,
 "nbformat_minor": 5
}
