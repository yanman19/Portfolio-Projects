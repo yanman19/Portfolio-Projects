{
 "cells": [
  {
   "cell_type": "code",
   "execution_count": 1,
   "id": "6ccac92d",
   "metadata": {},
   "outputs": [],
   "source": [
    "import pandas as pd\n",
    "import numpy as np\n",
    "import matplotlib.pyplot as plt\n",
    "from scipy.stats import linregress\n",
    "\n",
    "def plot_yearly_regression(df, date_col, x_col, y_col):\n",
    "    # Convert the date column to datetime\n",
    "    df[date_col] = pd.to_datetime(df[date_col])\n",
    "    \n",
    "    # Extract the year from the date column\n",
    "    df['Year'] = df[date_col].dt.year\n",
    "    \n",
    "    # Get a list of unique years\n",
    "    years = df['Year'].unique()\n",
    "    \n",
    "    # Prepare the plot\n",
    "    plt.figure(figsize=(10, 6))\n",
    "    \n",
    "    # Generate a color map\n",
    "    colors = plt.cm.jet(np.linspace(0, 1, len(years)))\n",
    "    \n",
    "    for i, year in enumerate(years):\n",
    "        # Filter the DataFrame for the current year\n",
    "        year_data = df[df['Year'] == year]\n",
    "        \n",
    "        # Skip if there's not enough data\n",
    "        if year_data.shape[0] < 2:\n",
    "            continue\n",
    "        \n",
    "        # Extract x and y values\n",
    "        x_values = year_data[x_col]\n",
    "        y_values = year_data[y_col]\n",
    "        \n",
    "        # Calculate linear regression\n",
    "        slope, intercept, r_value, p_value, std_err = linregress(x_values, y_values)\n",
    "        \n",
    "        # Plot the scatter plot for the current year\n",
    "        plt.scatter(x_values, y_values, color=colors[i], label=str(year))\n",
    "        \n",
    "        # Plot the regression line\n",
    "        plt.plot(x_values, intercept + slope*x_values, color=colors[i])\n",
    "    \n",
    "    plt.xlabel(x_col)\n",
    "    plt.ylabel(y_col)\n",
    "    plt.title(f'Yearly Linear Regression of {y_col} vs. {x_col}')\n",
    "    plt.legend()\n",
    "    plt.show()\n",
    "\n",
    "# Example usage\n",
    "# Assuming `df` is your DataFrame, and it has columns named 'date', 'x_value', and 'y_value'\n",
    "# plot_yearly_regression(df, 'date', 'x_value', 'y_value')\n"
   ]
  },
  {
   "cell_type": "code",
   "execution_count": null,
   "id": "fe4be60e",
   "metadata": {},
   "outputs": [],
   "source": []
  }
 ],
 "metadata": {
  "kernelspec": {
   "display_name": "Python 3 (ipykernel)",
   "language": "python",
   "name": "python3"
  },
  "language_info": {
   "codemirror_mode": {
    "name": "ipython",
    "version": 3
   },
   "file_extension": ".py",
   "mimetype": "text/x-python",
   "name": "python",
   "nbconvert_exporter": "python",
   "pygments_lexer": "ipython3",
   "version": "3.9.12"
  }
 },
 "nbformat": 4,
 "nbformat_minor": 5
}
