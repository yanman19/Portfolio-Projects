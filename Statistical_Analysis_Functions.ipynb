{
  "cells": [
    {
      "cell_type": "markdown",
      "source": [
        "# Statistical Analysis Functions\n",
        "This notebook contains various Python functions for statistical analysis of datasets. These functions cover:\n",
        "1. Descriptive Statistics\n",
        "2. Data Distribution\n",
        "3. Correlation Analysis\n",
        "4. Outlier Detection\n",
        "5. Hypothesis Testing\n",
        "\n",
        "We will also demonstrate these functions using a sample dataset."
      ],
      "metadata": {
        "noteable": {
          "cell_type": "markdown"
        }
      },
      "id": "f7928a39-6902-461b-aefb-64e83de98d2e"
    },
    {
      "cell_type": "code",
      "source": [
        "# Importing required libraries\n",
        "import numpy as np\n",
        "import pandas as pd\n",
        "import matplotlib.pyplot as plt\n",
        "import seaborn as sns\n",
        "from scipy import stats\n",
        "from scipy.stats import ttest_ind"
      ],
      "outputs": [],
      "execution_count": null,
      "metadata": {
        "noteable": {
          "cell_type": "code"
        },
        "ExecuteTime": {
          "end_time": "2023-09-04T14:55:38.449850+00:00",
          "start_time": "2023-09-04T14:55:37.854513+00:00"
        }
      },
      "id": "dae7f277-d53f-4251-9a5f-4a288b0da9dd"
    },
    {
      "cell_type": "markdown",
      "source": [
        "## 1. Descriptive Statistics\n",
        "Let's start by creating functions for calculating descriptive statistics like mean, median, mode, standard deviation, and variance."
      ],
      "metadata": {
        "noteable": {
          "cell_type": "markdown"
        }
      },
      "id": "c2b392f2-b6a0-4968-a315-153e40d4dc62"
    },
    {
      "cell_type": "code",
      "source": [
        "# Function for Descriptive Statistics\n",
        "def descriptive_stats(data):\n",
        "    \"\"\"Calculate descriptive statistics for a given dataset.\n",
        "\n",
        "    Parameters:\n",
        "        data (array-like or pd.Series): The dataset for which to calculate statistics.\n",
        "\n",
        "    Returns:\n",
        "        dict: A dictionary containing mean, median, mode, standard deviation, and variance.\n",
        "    \"\"\"\n",
        "    mean = np.mean(data)\n",
        "    median = np.median(data)\n",
        "    mode = stats.mode(data)[0][0]\n",
        "    std_dev = np.std(data)\n",
        "    variance = np.var(data)\n",
        "\n",
        "    return {\n",
        "        'Mean': mean,\n",
        "        'Median': median,\n",
        "        'Mode': mode,\n",
        "        'Standard Deviation': std_dev,\n",
        "        'Variance': variance\n",
        "    }"
      ],
      "outputs": [],
      "execution_count": null,
      "metadata": {
        "noteable": {
          "cell_type": "code"
        },
        "ExecuteTime": {
          "end_time": "2023-09-04T14:56:26.246585+00:00",
          "start_time": "2023-09-04T14:56:26.089862+00:00"
        }
      },
      "id": "4162274c-9ecd-42c2-8609-0ef9ba6df70f"
    },
    {
      "cell_type": "markdown",
      "source": [
        "## 2. Data Distribution\n",
        "Next, we'll create functions to visualize and analyze the distribution of the data. This will include functions for plotting histograms and calculating skewness and kurtosis."
      ],
      "metadata": {
        "noteable": {
          "cell_type": "markdown"
        }
      },
      "id": "fbabd879-6a01-44fc-9cab-5b58edc21735"
    },
    {
      "cell_type": "code",
      "source": [
        "# Function for Data Distribution Analysis\n",
        "def data_distribution(data, bins=10):\n",
        "    \"\"\"Visualize and analyze the distribution of the data.\n",
        "\n",
        "    Parameters:\n",
        "        data (array-like or pd.Series): The dataset for which to analyze distribution.\n",
        "        bins (int): Number of bins for the histogram.\n",
        "\n",
        "    Returns:\n",
        "        dict: A dictionary containing skewness and kurtosis.\n",
        "    \"\"\"\n",
        "    # Plotting histogram\n",
        "    plt.hist(data, bins=bins, edgecolor='black')\n",
        "    plt.title('Data Distribution')\n",
        "    plt.xlabel('Data')\n",
        "    plt.ylabel('Frequency')\n",
        "    plt.show()\n",
        "\n",
        "    # Calculating Skewness and Kurtosis\n",
        "    skewness = stats.skew(data)\n",
        "    kurtosis = stats.kurtosis(data)\n",
        "\n",
        "    return {\n",
        "        'Skewness': skewness,\n",
        "        'Kurtosis': kurtosis\n",
        "    }"
      ],
      "outputs": [],
      "execution_count": null,
      "metadata": {
        "noteable": {
          "cell_type": "code"
        },
        "ExecuteTime": {
          "end_time": "2023-09-04T14:57:22.370423+00:00",
          "start_time": "2023-09-04T14:57:22.214202+00:00"
        }
      },
      "id": "1f65117a-03ad-4915-bf1f-b99ab423059a"
    },
    {
      "cell_type": "markdown",
      "source": [
        "## 3. Correlation Analysis\n",
        "Now, let's create a function to perform correlation analysis between different variables in the dataset. This will help us understand how different variables are related to each other."
      ],
      "metadata": {
        "noteable": {
          "cell_type": "markdown"
        }
      },
      "id": "63e64d86-db65-49c5-80c4-2877d34f5614"
    },
    {
      "cell_type": "code",
      "source": [
        "# Function for Correlation Analysis\n",
        "def correlation_analysis(data):\n",
        "    \"\"\"Perform correlation analysis for a given dataset.\n",
        "\n",
        "    Parameters:\n",
        "        data (pd.DataFrame): The dataset for which to perform correlation analysis.\n",
        "\n",
        "    Returns:\n",
        "        pd.DataFrame: A correlation matrix.\n",
        "    \"\"\"\n",
        "    # Calculating the correlation matrix\n",
        "    corr_matrix = data.corr()\n",
        "\n",
        "    # Plotting the heatmap\n",
        "    sns.heatmap(corr_matrix, annot=True, cmap='coolwarm')\n",
        "    plt.title('Correlation Matrix')\n",
        "    plt.show()\n",
        "\n",
        "    return corr_matrix"
      ],
      "outputs": [],
      "execution_count": null,
      "metadata": {
        "noteable": {
          "cell_type": "code"
        },
        "ExecuteTime": {
          "end_time": "2023-09-04T14:58:10.724900+00:00",
          "start_time": "2023-09-04T14:58:10.568858+00:00"
        }
      },
      "id": "9bd6754b-a98d-46df-8e08-f621bb0f81c2"
    },
    {
      "cell_type": "markdown",
      "source": [
        "## 4. Outlier Detection\n",
        "Outliers can significantly impact the results of data analysis and statistical modeling. Let's create a function to identify outliers in the dataset using the Z-score method."
      ],
      "metadata": {
        "noteable": {
          "cell_type": "markdown"
        }
      },
      "id": "1a9393e8-93e2-4943-b358-ca2bfe57005f"
    },
    {
      "cell_type": "code",
      "source": [
        "# Function for Outlier Detection using Z-score\n",
        "def detect_outliers(data, threshold=3):\n",
        "    \"\"\"Detect outliers in a given dataset using the Z-score method.\n",
        "\n",
        "    Parameters:\n",
        "        data (array-like or pd.Series): The dataset for which to detect outliers.\n",
        "        threshold (float): The Z-score threshold beyond which data points are considered outliers.\n",
        "\n",
        "    Returns:\n",
        "        array-like: Indices of outlier data points.\n",
        "    \"\"\"\n",
        "    z_scores = np.abs(stats.zscore(data))\n",
        "    outliers = np.where(z_scores > threshold)\n",
        "    return outliers[0]"
      ],
      "outputs": [],
      "execution_count": null,
      "metadata": {
        "noteable": {
          "cell_type": "code"
        },
        "ExecuteTime": {
          "end_time": "2023-09-04T14:59:01.051393+00:00",
          "start_time": "2023-09-04T14:59:00.896592+00:00"
        }
      },
      "id": "8e066579-46e5-4edf-9d1e-456f6d3486f6"
    },
    {
      "cell_type": "markdown",
      "source": [
        "## 5. Hypothesis Testing\n",
        "Finally, let's create a function for hypothesis testing using the t-test. This will help us test if the means of two independent samples are significantly different."
      ],
      "metadata": {
        "noteable": {
          "cell_type": "markdown"
        }
      },
      "id": "5fa805ba-bb53-4d62-bffd-b68592a0624e"
    },
    {
      "cell_type": "code",
      "source": [
        "# Function for Hypothesis Testing using t-test\n",
        "def hypothesis_testing(data1, data2, alpha=0.05):\n",
        "    \"\"\"Perform hypothesis testing using the t-test.\n",
        "\n",
        "    Parameters:\n",
        "        data1, data2 (array-like or pd.Series): The datasets for which to perform the t-test.\n",
        "        alpha (float): Significance level, default is 0.05.\n",
        "\n",
        "    Returns:\n",
        "        str: A message indicating whether to reject or fail to reject the null hypothesis.\n",
        "    \"\"\"\n",
        "    t_stat, p_value = ttest_ind(data1, data2)\n",
        "    if p_value < alpha:\n",
        "        return f'Reject the null hypothesis. p-value: {p_value}'\n",
        "    else:\n",
        "        return f'Fail to reject the null hypothesis. p-value: {p_value}'"
      ],
      "outputs": [],
      "execution_count": null,
      "metadata": {
        "noteable": {
          "cell_type": "code"
        },
        "ExecuteTime": {
          "end_time": "2023-09-04T14:59:54.438522+00:00",
          "start_time": "2023-09-04T14:59:54.283512+00:00"
        }
      },
      "id": "aecbe411-706c-4edb-975c-bc8c27975ae6"
    },
    {
      "cell_type": "markdown",
      "source": [
        "## Sample Dataset\n",
        "Now that we have created the functions, let's generate a sample dataset to demonstrate their usage."
      ],
      "metadata": {
        "noteable": {
          "cell_type": "markdown"
        }
      },
      "id": "a1dbc0e0-0993-401d-8eaf-22d219fe90a2"
    },
    {
      "cell_type": "code",
      "source": [
        "# Generating a sample dataset\n",
        "np.random.seed(42)\n",
        "data1 = np.random.normal(50, 10, 100)  # Normal distribution with mean=50 and std_dev=10\n",
        "data2 = np.random.normal(60, 10, 100)  # Normal distribution with mean=60 and std_dev=10\n",
        "data3 = np.random.randint(20, 80, 100)  # Uniform distribution between 20 and 80\n",
        "\n",
        "# Creating a DataFrame\n",
        "df = pd.DataFrame({'Data1': data1, 'Data2': data2, 'Data3': data3})\n",
        "df.head()"
      ],
      "outputs": [
        {
          "output_type": "display_data",
          "data": {
            "application/vnd.dataresource+json": {
              "schema": {
                "fields": [
                  {
                    "name": "index",
                    "type": "integer"
                  },
                  {
                    "name": "Data1",
                    "type": "number"
                  },
                  {
                    "name": "Data2",
                    "type": "number"
                  },
                  {
                    "name": "Data3",
                    "type": "integer"
                  }
                ],
                "primaryKey": [
                  "index"
                ],
                "pandas_version": "1.4.0"
              },
              "data": [
                {
                  "index": 0,
                  "Data1": 54.96714153011233,
                  "Data2": 45.84629257949586,
                  "Data3": 21
                },
                {
                  "index": 1,
                  "Data1": 48.61735698828815,
                  "Data2": 55.79354677234641,
                  "Data3": 45
                },
                {
                  "index": 2,
                  "Data1": 56.47688538100692,
                  "Data2": 56.572854834732304,
                  "Data3": 36
                },
                {
                  "index": 3,
                  "Data1": 65.23029856408026,
                  "Data2": 51.97722730778381,
                  "Data3": 59
                },
                {
                  "index": 4,
                  "Data1": 47.658466252766644,
                  "Data2": 58.387142883339905,
                  "Data3": 52
                }
              ],
              "datalink": {
                "display_id": "5e298a10-1e84-49d2-bd75-0661ac0ab8e0"
              }
            }
          },
          "metadata": {
            "application/vnd.dataresource+json": {
              "datalink": {
                "dataframe_info": {
                  "default_index_used": true,
                  "orig_size_bytes": 160,
                  "orig_num_rows": 5,
                  "orig_num_cols": 3,
                  "truncated_string_columns": [],
                  "truncated_size_bytes": 160,
                  "truncated_num_rows": 5,
                  "truncated_num_cols": 3
                },
                "dx_settings": {
                  "NUM_PAST_SAMPLES_TRACKED": 3,
                  "ENABLE_DATALINK": true,
                  "DISPLAY_MODE": "simple",
                  "GENERATE_DEX_METADATA": false,
                  "STRINGIFY_INDEX_VALUES": false,
                  "ALLOW_NOTEABLE_ATTRS": true,
                  "DISPLAY_MAX_COLUMNS": 100,
                  "HTML_TABLE_SCHEMA": false,
                  "SAMPLING_FACTOR": 0.1,
                  "LOG_LEVEL": 30,
                  "ENABLE_ASSIGNMENT": true,
                  "FLATTEN_INDEX_VALUES": false,
                  "DEV_MODE": false,
                  "COLUMN_SAMPLING_METHOD": "outer",
                  "FLATTEN_COLUMN_VALUES": true,
                  "DISPLAY_MAX_ROWS": 50000,
                  "ROW_SAMPLING_METHOD": "random",
                  "RANDOM_STATE": 12648430,
                  "DB_LOCATION": ":memory:",
                  "STRINGIFY_COLUMN_VALUES": true,
                  "SAMPLING_METHOD": "random",
                  "MAX_STRING_LENGTH": 250,
                  "MAX_RENDER_SIZE_BYTES": 104857600,
                  "RESET_INDEX_VALUES": false
                },
                "display_id": "5e298a10-1e84-49d2-bd75-0661ac0ab8e0",
                "applied_filters": [],
                "sample_history": [],
                "sampling_time": "2023-09-04T15:00:40.936666",
                "variable_name": "unk_dataframe_a12fcc9c8eec4a7d967ce4db3225987a",
                "user_variable_name": null
              },
              "display_id": "5e298a10-1e84-49d2-bd75-0661ac0ab8e0"
            }
          }
        }
      ],
      "execution_count": null,
      "metadata": {
        "noteable": {
          "cell_type": "code"
        },
        "ExecuteTime": {
          "end_time": "2023-09-04T15:00:41.098846+00:00",
          "start_time": "2023-09-04T15:00:40.910238+00:00"
        },
        "datalink": {
          "5e298a10-1e84-49d2-bd75-0661ac0ab8e0": {
            "applied_filters": [],
            "dataframe_info": {
              "default_index_used": true,
              "orig_num_cols": 3,
              "orig_num_rows": 5,
              "orig_size_bytes": 160,
              "truncated_num_cols": 3,
              "truncated_num_rows": 5,
              "truncated_size_bytes": 160,
              "truncated_string_columns": []
            },
            "display_id": "5e298a10-1e84-49d2-bd75-0661ac0ab8e0",
            "dx_settings": {
              "ALLOW_NOTEABLE_ATTRS": true,
              "COLUMN_SAMPLING_METHOD": "outer",
              "DB_LOCATION": ":memory:",
              "DEV_MODE": false,
              "DISPLAY_MAX_COLUMNS": 100,
              "DISPLAY_MAX_ROWS": 50000,
              "DISPLAY_MODE": "simple",
              "ENABLE_ASSIGNMENT": true,
              "ENABLE_DATALINK": true,
              "FLATTEN_COLUMN_VALUES": true,
              "FLATTEN_INDEX_VALUES": false,
              "GENERATE_DEX_METADATA": false,
              "HTML_TABLE_SCHEMA": false,
              "LOG_LEVEL": 30,
              "MAX_RENDER_SIZE_BYTES": 104857600,
              "MAX_STRING_LENGTH": 250,
              "NUM_PAST_SAMPLES_TRACKED": 3,
              "RANDOM_STATE": 12648430,
              "RESET_INDEX_VALUES": false,
              "ROW_SAMPLING_METHOD": "random",
              "SAMPLING_FACTOR": 0.1,
              "SAMPLING_METHOD": "random",
              "STRINGIFY_COLUMN_VALUES": true,
              "STRINGIFY_INDEX_VALUES": false
            },
            "sample_history": [],
            "sampling_time": "2023-09-04T15:00:40.936666",
            "user_variable_name": null,
            "variable_name": "unk_dataframe_a12fcc9c8eec4a7d967ce4db3225987a"
          }
        }
      },
      "id": "7f74524e-ed13-485d-a341-bfcc0c8bd6fd"
    },
    {
      "cell_type": "markdown",
      "source": [
        "## Applying Statistical Functions on Sample Dataset\n",
        "Let's now apply the statistical functions we created earlier on this sample dataset."
      ],
      "metadata": {
        "noteable": {
          "cell_type": "markdown"
        }
      },
      "id": "1c938e6c-3b80-4b02-972f-b76f178ca14a"
    },
    {
      "cell_type": "code",
      "source": [
        "# Applying Descriptive Statistics function on Data1\n",
        "descriptive_stats(df['Data1'])"
      ],
      "outputs": [
        {
          "output_type": "execute_result",
          "execution_count": null,
          "data": {
            "text/plain": "{'Mean': 48.96153482605907,\n 'Median': 48.73043708220287,\n 'Mode': 23.802548959102555,\n 'Standard Deviation': 9.036161766446297,\n 'Variance': 81.65221946938584}"
          },
          "metadata": {}
        }
      ],
      "execution_count": null,
      "metadata": {
        "noteable": {
          "cell_type": "code"
        },
        "ExecuteTime": {
          "end_time": "2023-09-04T15:01:15.011382+00:00",
          "start_time": "2023-09-04T15:01:14.853855+00:00"
        }
      },
      "id": "7765900e-7e01-40e0-bcd9-834d003ca37d"
    },
    {
      "cell_type": "code",
      "source": [
        "# Applying Data Distribution function on Data1\n",
        "data_distribution(df['Data1'])"
      ],
      "outputs": [
        {
          "output_type": "display_data",
          "data": {
            "image/png": "[encoded data removed]"
          },
          "metadata": {}
        },
        {
          "output_type": "execute_result",
          "execution_count": null,
          "data": {
            "text/plain": "{'Skewness': -0.17526772024434067, 'Kurtosis': -0.15540470774207948}"
          },
          "metadata": {}
        }
      ],
      "execution_count": null,
      "metadata": {
        "noteable": {
          "cell_type": "code"
        },
        "ExecuteTime": {
          "end_time": "2023-09-04T15:01:37.405733+00:00",
          "start_time": "2023-09-04T15:01:36.893858+00:00"
        }
      },
      "id": "50568172-32d5-4325-b5fa-0cc067204439"
    },
    {
      "cell_type": "code",
      "source": [
        "# Applying Correlation Analysis function on the DataFrame\n",
        "correlation_analysis(df)"
      ],
      "outputs": [
        {
          "output_type": "display_data",
          "data": {
            "image/png": "[encoded data removed]"
          },
          "metadata": {}
        },
        {
          "output_type": "display_data",
          "data": {
            "application/vnd.dataresource+json": {
              "schema": {
                "fields": [
                  {
                    "name": "index",
                    "type": "string"
                  },
                  {
                    "name": "Data1",
                    "type": "number"
                  },
                  {
                    "name": "Data2",
                    "type": "number"
                  },
                  {
                    "name": "Data3",
                    "type": "number"
                  }
                ],
                "primaryKey": [
                  "index"
                ],
                "pandas_version": "1.4.0"
              },
              "data": [
                {
                  "index": "Data1",
                  "Data1": 1,
                  "Data2": -0.13642221217000264,
                  "Data3": 0.048434647885679055
                },
                {
                  "index": "Data2",
                  "Data1": -0.13642221217000264,
                  "Data2": 1,
                  "Data3": 0.17290462871559703
                },
                {
                  "index": "Data3",
                  "Data1": 0.048434647885679055,
                  "Data2": 0.17290462871559703,
                  "Data3": 1
                }
              ],
              "datalink": {
                "display_id": "fdf548d1-143d-42df-b8f8-690bd00c8670"
              }
            }
          },
          "metadata": {
            "application/vnd.dataresource+json": {
              "datalink": {
                "dataframe_info": {
                  "default_index_used": false,
                  "orig_size_bytes": 96,
                  "orig_num_rows": 3,
                  "orig_num_cols": 3,
                  "truncated_string_columns": [],
                  "truncated_size_bytes": 96,
                  "truncated_num_rows": 3,
                  "truncated_num_cols": 3
                },
                "dx_settings": {
                  "NUM_PAST_SAMPLES_TRACKED": 3,
                  "ENABLE_DATALINK": true,
                  "DISPLAY_MODE": "simple",
                  "GENERATE_DEX_METADATA": false,
                  "STRINGIFY_INDEX_VALUES": false,
                  "ALLOW_NOTEABLE_ATTRS": true,
                  "DISPLAY_MAX_COLUMNS": 100,
                  "HTML_TABLE_SCHEMA": false,
                  "SAMPLING_FACTOR": 0.1,
                  "LOG_LEVEL": 30,
                  "ENABLE_ASSIGNMENT": true,
                  "FLATTEN_INDEX_VALUES": false,
                  "DEV_MODE": false,
                  "COLUMN_SAMPLING_METHOD": "outer",
                  "FLATTEN_COLUMN_VALUES": true,
                  "DISPLAY_MAX_ROWS": 50000,
                  "ROW_SAMPLING_METHOD": "random",
                  "RANDOM_STATE": 12648430,
                  "DB_LOCATION": ":memory:",
                  "STRINGIFY_COLUMN_VALUES": true,
                  "SAMPLING_METHOD": "random",
                  "MAX_STRING_LENGTH": 250,
                  "MAX_RENDER_SIZE_BYTES": 104857600,
                  "RESET_INDEX_VALUES": false
                },
                "display_id": "fdf548d1-143d-42df-b8f8-690bd00c8670",
                "applied_filters": [],
                "sample_history": [],
                "sampling_time": "2023-09-04T15:01:56.664327",
                "variable_name": "unk_dataframe_05a3b363e27b4ea6871da3e97e2f2831",
                "user_variable_name": null
              },
              "display_id": "fdf548d1-143d-42df-b8f8-690bd00c8670"
            }
          }
        }
      ],
      "execution_count": null,
      "metadata": {
        "noteable": {
          "cell_type": "code"
        },
        "ExecuteTime": {
          "end_time": "2023-09-04T15:01:56.822726+00:00",
          "start_time": "2023-09-04T15:01:56.436027+00:00"
        },
        "datalink": {
          "fdf548d1-143d-42df-b8f8-690bd00c8670": {
            "applied_filters": [],
            "dataframe_info": {
              "default_index_used": false,
              "orig_num_cols": 3,
              "orig_num_rows": 3,
              "orig_size_bytes": 96,
              "truncated_num_cols": 3,
              "truncated_num_rows": 3,
              "truncated_size_bytes": 96,
              "truncated_string_columns": []
            },
            "display_id": "fdf548d1-143d-42df-b8f8-690bd00c8670",
            "dx_settings": {
              "ALLOW_NOTEABLE_ATTRS": true,
              "COLUMN_SAMPLING_METHOD": "outer",
              "DB_LOCATION": ":memory:",
              "DEV_MODE": false,
              "DISPLAY_MAX_COLUMNS": 100,
              "DISPLAY_MAX_ROWS": 50000,
              "DISPLAY_MODE": "simple",
              "ENABLE_ASSIGNMENT": true,
              "ENABLE_DATALINK": true,
              "FLATTEN_COLUMN_VALUES": true,
              "FLATTEN_INDEX_VALUES": false,
              "GENERATE_DEX_METADATA": false,
              "HTML_TABLE_SCHEMA": false,
              "LOG_LEVEL": 30,
              "MAX_RENDER_SIZE_BYTES": 104857600,
              "MAX_STRING_LENGTH": 250,
              "NUM_PAST_SAMPLES_TRACKED": 3,
              "RANDOM_STATE": 12648430,
              "RESET_INDEX_VALUES": false,
              "ROW_SAMPLING_METHOD": "random",
              "SAMPLING_FACTOR": 0.1,
              "SAMPLING_METHOD": "random",
              "STRINGIFY_COLUMN_VALUES": true,
              "STRINGIFY_INDEX_VALUES": false
            },
            "sample_history": [],
            "sampling_time": "2023-09-04T15:01:56.664327",
            "user_variable_name": null,
            "variable_name": "unk_dataframe_05a3b363e27b4ea6871da3e97e2f2831"
          }
        }
      },
      "id": "9b5df085-e750-45a3-a798-4d4cbc05c44e"
    },
    {
      "cell_type": "code",
      "source": [
        "# Applying Outlier Detection function on Data1\n",
        "detect_outliers(df['Data1'])"
      ],
      "outputs": [
        {
          "output_type": "execute_result",
          "execution_count": null,
          "data": {
            "text/plain": "array([], dtype=int64)"
          },
          "metadata": {}
        }
      ],
      "execution_count": null,
      "metadata": {
        "noteable": {
          "cell_type": "code"
        },
        "ExecuteTime": {
          "end_time": "2023-09-04T15:02:19.446925+00:00",
          "start_time": "2023-09-04T15:02:19.289305+00:00"
        }
      },
      "id": "da45408e-ecad-45e7-aab1-11f3edb1ba90"
    },
    {
      "cell_type": "code",
      "source": [
        "# Applying Hypothesis Testing function on Data1 and Data2\n",
        "hypothesis_testing(df['Data1'], df['Data2'])"
      ],
      "outputs": [
        {
          "output_type": "execute_result",
          "execution_count": null,
          "data": {
            "text/plain": "'Reject the null hypothesis. p-value: 3.2929614287039255e-15'"
          },
          "metadata": {}
        }
      ],
      "execution_count": null,
      "metadata": {
        "noteable": {
          "cell_type": "code"
        },
        "ExecuteTime": {
          "end_time": "2023-09-04T15:02:40.623689+00:00",
          "start_time": "2023-09-04T15:02:40.467563+00:00"
        }
      },
      "id": "ed073435-4b20-466b-a2e6-c58143739f32"
    },
    {
      "cell_type": "markdown",
      "source": [
        "## 6. Filter Data by Date Range\n",
        "Let's create a function that takes in two columns and a start and end date, and returns a table filtered by the date range."
      ],
      "metadata": {
        "noteable": {
          "cell_type": "markdown"
        }
      },
      "id": "02b5819f-a718-4855-9b51-3e606a7f5742"
    },
    {
      "cell_type": "code",
      "source": [
        "# Function to Filter Data by Date Range\n",
        "def filter_data_by_date(data, date_column, start_date, end_date, column1, column2):\n",
        "    \"\"\"Filter a DataFrame by a date range and select specific columns.\n",
        "\n",
        "    Parameters:\n",
        "        data (pd.DataFrame): The dataset to filter.\n",
        "        date_column (str): The name of the date column in the DataFrame.\n",
        "        start_date (str): The start date in 'YYYY-MM-DD' format.\n",
        "        end_date (str): The end date in 'YYYY-MM-DD' format.\n",
        "        column1, column2 (str): The names of the columns to include in the output.\n",
        "\n",
        "    Returns:\n",
        "        pd.DataFrame: A DataFrame filtered by the date range and selected columns.\n",
        "    \"\"\"\n",
        "    # Convert date_column to datetime format\n",
        "    data[date_column] = pd.to_datetime(data[date_column])\n",
        "\n",
        "    # Filter data by date range\n",
        "    filtered_data = data[(data[date_column] >= start_date) & (data[date_column] <= end_date)]\n",
        "\n",
        "    # Select specified columns\n",
        "    filtered_data = filtered_data[[column1, column2]]\n",
        "\n",
        "    return filtered_data"
      ],
      "outputs": [],
      "execution_count": null,
      "metadata": {
        "noteable": {
          "cell_type": "code"
        },
        "ExecuteTime": {
          "start_time": "2023-09-04T15:06:21.285662+00:00",
          "end_time": "2023-09-04T15:06:21.441689+00:00"
        }
      },
      "id": "05b39e18-aac4-4825-b0d5-b5f8463c2ad0"
    }
  ],
  "metadata": {
    "noteable-chatgpt": {
      "create_notebook": {
        "openai_conversation_id": "2099dade-67e0-549a-acbc-9978332e60d3",
        "openai_ephemeral_user_id": "d08f7939-d616-5d7d-a32a-1e72ee1381a3",
        "openai_subdivision1_iso_code": "US-NY"
      }
    },
    "kernel_info": {
      "name": "python3"
    },
    "kernelspec": {
      "display_name": "Python 3.9",
      "language": "python",
      "name": "python3"
    },
    "selected_hardware_size": "small",
    "noteable": {
      "last_delta_id": "95037e0c-b9f8-4d20-85af-d6f9c77efccb"
    },
    "nteract": {
      "version": "noteable@2.9.0"
    }
  },
  "nbformat": 4,
  "nbformat_minor": 5
}